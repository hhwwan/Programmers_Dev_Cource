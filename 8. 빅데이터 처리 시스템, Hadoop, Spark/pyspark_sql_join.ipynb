{
  "nbformat": 4,
  "nbformat_minor": 0,
  "metadata": {
    "colab": {
      "provenance": []
    },
    "kernelspec": {
      "name": "python3",
      "display_name": "Python 3"
    }
  },
  "cells": [
    {
      "cell_type": "markdown",
      "source": [
        "## PySpark 설치"
      ],
      "metadata": {
        "id": "Efh-3P4StVBg"
      }
    },
    {
      "cell_type": "code",
      "metadata": {
        "colab": {
          "base_uri": "https://localhost:8080/"
        },
        "id": "NbT0rpGfVdiq",
        "outputId": "44cfa11f-2be6-4586-fabe-0c3b8ce36661"
      },
      "source": [
        "!pip install pyspark==3.5.3"
      ],
      "execution_count": null,
      "outputs": [
        {
          "output_type": "stream",
          "name": "stdout",
          "text": [
            "Collecting pyspark==3.5.3\n",
            "  Downloading pyspark-3.5.3.tar.gz (317.3 MB)\n",
            "\u001b[2K     \u001b[90m━━━━━━━━━━━━━━━━━━━━━━━━━━━━━━━━━━━━━━━━\u001b[0m \u001b[32m317.3/317.3 MB\u001b[0m \u001b[31m4.5 MB/s\u001b[0m eta \u001b[36m0:00:00\u001b[0m\n",
            "\u001b[?25h  Preparing metadata (setup.py) ... \u001b[?25l\u001b[?25hdone\n",
            "Requirement already satisfied: py4j==0.10.9.7 in /usr/local/lib/python3.11/dist-packages (from pyspark==3.5.3) (0.10.9.7)\n",
            "Building wheels for collected packages: pyspark\n",
            "  Building wheel for pyspark (setup.py) ... \u001b[?25l\u001b[?25hdone\n",
            "  Created wheel for pyspark: filename=pyspark-3.5.3-py2.py3-none-any.whl size=317840625 sha256=5db03c2d07d863637cea1c371d609c3399ff0dde5177e4370d03d48f2e73b6fb\n",
            "  Stored in directory: /root/.cache/pip/wheels/97/f5/c0/947e2c0942b361ffe58651f36bd7f13772675b3863fd63d1b1\n",
            "Successfully built pyspark\n",
            "Installing collected packages: pyspark\n",
            "  Attempting uninstall: pyspark\n",
            "    Found existing installation: pyspark 3.5.4\n",
            "    Uninstalling pyspark-3.5.4:\n",
            "      Successfully uninstalled pyspark-3.5.4\n",
            "Successfully installed pyspark-3.5.3\n"
          ]
        }
      ]
    },
    {
      "cell_type": "code",
      "metadata": {
        "id": "3vm6tgcPXdnR"
      },
      "source": [
        "from pyspark.sql import SparkSession\n",
        "\n",
        "spark = SparkSession \\\n",
        "    .builder \\\n",
        "    .appName(\"Python Spark SQL #1\") \\\n",
        "    .getOrCreate()"
      ],
      "execution_count": null,
      "outputs": []
    },
    {
      "cell_type": "markdown",
      "source": [
        "## 조인 실습 테이블 2개 로딩"
      ],
      "metadata": {
        "id": "d3Qhs8MwuCS1"
      }
    },
    {
      "cell_type": "code",
      "source": [
        "vital = [\n",
        "     { 'UserID': 100, 'VitalID': 1, 'Date': '2020-01-01', 'Weight': 75 },\n",
        "     { 'UserID': 100, 'VitalID': 2, 'Date': '2020-01-02', 'Weight': 78 },\n",
        "     { 'UserID': 101, 'VitalID': 3, 'Date': '2020-01-01', 'Weight': 90 },\n",
        "     { 'UserID': 101, 'VitalID': 4, 'Date': '2020-01-02', 'Weight': 95 },\n",
        "]\n",
        "\n",
        "alert = [\n",
        "    { 'AlertID': 1, 'VitalID': 4, 'AlertType': 'WeightIncrease', 'Date': '2020-01-01', 'UserID': 101},\n",
        "    { 'AlertID': 2, 'VitalID': None, 'AlertType': 'MissingVital', 'Date': '2020-01-04', 'UserID': 100},\n",
        "    { 'AlertID': 3, 'VitalID': None, 'AlertType': 'MissingVital', 'Date': '2020-01-05', 'UserID': 101}\n",
        "]"
      ],
      "metadata": {
        "id": "npw3MGoWuFH8"
      },
      "execution_count": null,
      "outputs": []
    },
    {
      "cell_type": "code",
      "source": [
        "rdd_vital = spark.sparkContext.parallelize(vital)\n",
        "rdd_alert = spark.sparkContext.parallelize(alert)"
      ],
      "metadata": {
        "id": "nF8YM6K1u9u8"
      },
      "execution_count": null,
      "outputs": []
    },
    {
      "cell_type": "code",
      "source": [
        "df_vital = rdd_vital.toDF()\n",
        "df_alert = rdd_alert.toDF()"
      ],
      "metadata": {
        "id": "MHjArqA72U1h"
      },
      "execution_count": null,
      "outputs": []
    },
    {
      "cell_type": "code",
      "source": [
        "df_vital.printSchema()"
      ],
      "metadata": {
        "colab": {
          "base_uri": "https://localhost:8080/"
        },
        "id": "sZBsD0V62nGO",
        "outputId": "2cee31cb-be60-419b-fcdc-d1d82559bf0b"
      },
      "execution_count": null,
      "outputs": [
        {
          "output_type": "stream",
          "name": "stdout",
          "text": [
            "root\n",
            " |-- Date: string (nullable = true)\n",
            " |-- UserID: long (nullable = true)\n",
            " |-- VitalID: long (nullable = true)\n",
            " |-- Weight: long (nullable = true)\n",
            "\n"
          ]
        }
      ]
    },
    {
      "cell_type": "code",
      "source": [
        "df_alert.printSchema()"
      ],
      "metadata": {
        "colab": {
          "base_uri": "https://localhost:8080/"
        },
        "id": "cAolvJH1vyWb",
        "outputId": "0258be1a-5258-4eb3-e6c7-55bc09c2d4a0"
      },
      "execution_count": null,
      "outputs": [
        {
          "output_type": "stream",
          "name": "stdout",
          "text": [
            "root\n",
            " |-- AlertID: long (nullable = true)\n",
            " |-- AlertType: string (nullable = true)\n",
            " |-- Date: string (nullable = true)\n",
            " |-- UserID: long (nullable = true)\n",
            " |-- VitalID: long (nullable = true)\n",
            "\n"
          ]
        }
      ]
    },
    {
      "cell_type": "markdown",
      "source": [
        "## JOIN by DataFrame"
      ],
      "metadata": {
        "id": "N7s1BEG529k0"
      }
    },
    {
      "cell_type": "code",
      "source": [
        "# INNER JOIN\n",
        "join_expr = df_vital.VitalID == df_alert.VitalID\n",
        "df_vital.join(df_alert, join_expr, \"inner\").show()"
      ],
      "metadata": {
        "colab": {
          "base_uri": "https://localhost:8080/"
        },
        "id": "fXM54Q6D29Ed",
        "outputId": "3010b0c7-2a49-42a3-e893-9a341cdbbb86"
      },
      "execution_count": null,
      "outputs": [
        {
          "output_type": "stream",
          "name": "stdout",
          "text": [
            "+----------+------+-------+------+-------+--------------+----------+------+-------+\n",
            "|      Date|UserID|VitalID|Weight|AlertID|     AlertType|      Date|UserID|VitalID|\n",
            "+----------+------+-------+------+-------+--------------+----------+------+-------+\n",
            "|2020-01-02|   101|      4|    95|      1|WeightIncrease|2020-01-01|   101|      4|\n",
            "+----------+------+-------+------+-------+--------------+----------+------+-------+\n",
            "\n"
          ]
        }
      ]
    },
    {
      "cell_type": "code",
      "source": [
        "# LEFT JOIN\n",
        "join_expr = df_vital.VitalID == df_alert.VitalID\n",
        "df_vital.join(df_alert, join_expr, \"left\").show()"
      ],
      "metadata": {
        "colab": {
          "base_uri": "https://localhost:8080/"
        },
        "id": "a4d7hLVr5A_y",
        "outputId": "73ffd036-fa31-4864-c85f-da20f8d2dbdf"
      },
      "execution_count": null,
      "outputs": [
        {
          "output_type": "stream",
          "name": "stdout",
          "text": [
            "+----------+------+-------+------+-------+--------------+----------+------+-------+\n",
            "|      Date|UserID|VitalID|Weight|AlertID|     AlertType|      Date|UserID|VitalID|\n",
            "+----------+------+-------+------+-------+--------------+----------+------+-------+\n",
            "|2020-01-01|   100|      1|    75|   NULL|          NULL|      NULL|  NULL|   NULL|\n",
            "|2020-01-02|   100|      2|    78|   NULL|          NULL|      NULL|  NULL|   NULL|\n",
            "|2020-01-01|   101|      3|    90|   NULL|          NULL|      NULL|  NULL|   NULL|\n",
            "|2020-01-02|   101|      4|    95|      1|WeightIncrease|2020-01-01|   101|      4|\n",
            "+----------+------+-------+------+-------+--------------+----------+------+-------+\n",
            "\n"
          ]
        }
      ]
    },
    {
      "cell_type": "code",
      "source": [
        "# RIGHT JOIN\n",
        "join_expr = df_vital.VitalID == df_alert.VitalID\n",
        "df_vital.join(df_alert, join_expr, \"right\").show()"
      ],
      "metadata": {
        "colab": {
          "base_uri": "https://localhost:8080/"
        },
        "id": "nqJCVWPw5H6A",
        "outputId": "69800da2-1206-4898-865b-27b47bcafe53"
      },
      "execution_count": null,
      "outputs": [
        {
          "output_type": "stream",
          "name": "stdout",
          "text": [
            "+----------+------+-------+------+-------+--------------+----------+------+-------+\n",
            "|      Date|UserID|VitalID|Weight|AlertID|     AlertType|      Date|UserID|VitalID|\n",
            "+----------+------+-------+------+-------+--------------+----------+------+-------+\n",
            "|2020-01-02|   101|      4|    95|      1|WeightIncrease|2020-01-01|   101|      4|\n",
            "|      NULL|  NULL|   NULL|  NULL|      2|  MissingVital|2020-01-04|   100|   NULL|\n",
            "|      NULL|  NULL|   NULL|  NULL|      3|  MissingVital|2020-01-05|   101|   NULL|\n",
            "+----------+------+-------+------+-------+--------------+----------+------+-------+\n",
            "\n"
          ]
        }
      ]
    },
    {
      "cell_type": "code",
      "source": [
        "# FULL OUTER JOIN\n",
        "join_expr = df_vital.VitalID == df_alert.VitalID\n",
        "df_vital.join(df_alert, join_expr, \"full\").show()"
      ],
      "metadata": {
        "colab": {
          "base_uri": "https://localhost:8080/"
        },
        "id": "dySkJObl5KVU",
        "outputId": "43edbcec-9b41-41ec-c7aa-a0c3bf87f316"
      },
      "execution_count": null,
      "outputs": [
        {
          "output_type": "stream",
          "name": "stdout",
          "text": [
            "+----------+------+-------+------+-------+--------------+----------+------+-------+\n",
            "|      Date|UserID|VitalID|Weight|AlertID|     AlertType|      Date|UserID|VitalID|\n",
            "+----------+------+-------+------+-------+--------------+----------+------+-------+\n",
            "|      NULL|  NULL|   NULL|  NULL|      2|  MissingVital|2020-01-04|   100|   NULL|\n",
            "|      NULL|  NULL|   NULL|  NULL|      3|  MissingVital|2020-01-05|   101|   NULL|\n",
            "|2020-01-01|   100|      1|    75|   NULL|          NULL|      NULL|  NULL|   NULL|\n",
            "|2020-01-02|   100|      2|    78|   NULL|          NULL|      NULL|  NULL|   NULL|\n",
            "|2020-01-01|   101|      3|    90|   NULL|          NULL|      NULL|  NULL|   NULL|\n",
            "|2020-01-02|   101|      4|    95|      1|WeightIncrease|2020-01-01|   101|      4|\n",
            "+----------+------+-------+------+-------+--------------+----------+------+-------+\n",
            "\n"
          ]
        }
      ]
    },
    {
      "cell_type": "code",
      "source": [
        "# CROSS JOIN\n",
        "df_vital.join(df_alert, None, \"cross\").show()"
      ],
      "metadata": {
        "colab": {
          "base_uri": "https://localhost:8080/"
        },
        "id": "d43BHiaI5OJC",
        "outputId": "cf90d5da-d4af-49c7-f7a5-5809c3cef952"
      },
      "execution_count": null,
      "outputs": [
        {
          "output_type": "stream",
          "name": "stdout",
          "text": [
            "+----------+------+-------+------+-------+--------------+----------+------+-------+\n",
            "|      Date|UserID|VitalID|Weight|AlertID|     AlertType|      Date|UserID|VitalID|\n",
            "+----------+------+-------+------+-------+--------------+----------+------+-------+\n",
            "|2020-01-01|   100|      1|    75|      1|WeightIncrease|2020-01-01|   101|      4|\n",
            "|2020-01-02|   100|      2|    78|      1|WeightIncrease|2020-01-01|   101|      4|\n",
            "|2020-01-01|   100|      1|    75|      2|  MissingVital|2020-01-04|   100|   NULL|\n",
            "|2020-01-01|   100|      1|    75|      3|  MissingVital|2020-01-05|   101|   NULL|\n",
            "|2020-01-02|   100|      2|    78|      2|  MissingVital|2020-01-04|   100|   NULL|\n",
            "|2020-01-02|   100|      2|    78|      3|  MissingVital|2020-01-05|   101|   NULL|\n",
            "|2020-01-01|   101|      3|    90|      1|WeightIncrease|2020-01-01|   101|      4|\n",
            "|2020-01-02|   101|      4|    95|      1|WeightIncrease|2020-01-01|   101|      4|\n",
            "|2020-01-01|   101|      3|    90|      2|  MissingVital|2020-01-04|   100|   NULL|\n",
            "|2020-01-01|   101|      3|    90|      3|  MissingVital|2020-01-05|   101|   NULL|\n",
            "|2020-01-02|   101|      4|    95|      2|  MissingVital|2020-01-04|   100|   NULL|\n",
            "|2020-01-02|   101|      4|    95|      3|  MissingVital|2020-01-05|   101|   NULL|\n",
            "+----------+------+-------+------+-------+--------------+----------+------+-------+\n",
            "\n"
          ]
        }
      ]
    },
    {
      "cell_type": "code",
      "source": [
        "# SELF JOIN\n",
        "join_expr = df_vital.VitalID == df_vital.VitalID\n",
        "df_vital.join(df_vital, join_expr, \"left\").show()"
      ],
      "metadata": {
        "colab": {
          "base_uri": "https://localhost:8080/"
        },
        "id": "1fuMgCb_5Y7Z",
        "outputId": "32a80471-7a51-48ba-b8df-7b5fff4eb366"
      },
      "execution_count": null,
      "outputs": [
        {
          "output_type": "stream",
          "name": "stdout",
          "text": [
            "+----------+------+-------+------+----------+------+-------+------+\n",
            "|      Date|UserID|VitalID|Weight|      Date|UserID|VitalID|Weight|\n",
            "+----------+------+-------+------+----------+------+-------+------+\n",
            "|2020-01-01|   100|      1|    75|2020-01-01|   100|      1|    75|\n",
            "|2020-01-02|   100|      2|    78|2020-01-02|   100|      2|    78|\n",
            "|2020-01-01|   101|      3|    90|2020-01-01|   101|      3|    90|\n",
            "|2020-01-02|   101|      4|    95|2020-01-02|   101|      4|    95|\n",
            "+----------+------+-------+------+----------+------+-------+------+\n",
            "\n"
          ]
        }
      ]
    },
    {
      "cell_type": "markdown",
      "source": [
        "## JOIN by SQL"
      ],
      "metadata": {
        "id": "zChnkwWO3ClW"
      }
    },
    {
      "cell_type": "code",
      "source": [
        "df_vital.createOrReplaceTempView(\"Vital\")\n",
        "df_alert.createOrReplaceTempView(\"Alert\")"
      ],
      "metadata": {
        "id": "_8Lejetx3D8M"
      },
      "execution_count": null,
      "outputs": []
    },
    {
      "cell_type": "code",
      "source": [
        "# INNER JOIN\n",
        "df_inner_join = spark.sql(\"\"\"SELECT * FROM Vital v\n",
        "JOIN Alert a ON v.vitalID = a.vitalID;\"\"\")\n",
        "df_inner_join.show()"
      ],
      "metadata": {
        "colab": {
          "base_uri": "https://localhost:8080/"
        },
        "id": "t4xIAQdh3kZm",
        "outputId": "117f3171-361e-4ce9-e0f5-24099cd4845d"
      },
      "execution_count": null,
      "outputs": [
        {
          "output_type": "stream",
          "name": "stdout",
          "text": [
            "+----------+------+-------+------+-------+--------------+----------+------+-------+\n",
            "|      Date|UserID|VitalID|Weight|AlertID|     AlertType|      Date|UserID|VitalID|\n",
            "+----------+------+-------+------+-------+--------------+----------+------+-------+\n",
            "|2020-01-02|   101|      4|    95|      1|WeightIncrease|2020-01-01|   101|      4|\n",
            "+----------+------+-------+------+-------+--------------+----------+------+-------+\n",
            "\n"
          ]
        }
      ]
    },
    {
      "cell_type": "code",
      "source": [
        "# LEFT JOIN\n",
        "df_left_join = spark.sql(\"\"\"SELECT * FROM Vital v\n",
        "LEFT JOIN Alert a ON v.vitalID = a.vitalID;\"\"\")\n",
        "df_left_join.show()"
      ],
      "metadata": {
        "colab": {
          "base_uri": "https://localhost:8080/"
        },
        "id": "tinySjFV34CW",
        "outputId": "d10b9a99-f71a-4232-b002-7b42655a04c2"
      },
      "execution_count": null,
      "outputs": [
        {
          "output_type": "stream",
          "name": "stdout",
          "text": [
            "+----------+------+-------+------+-------+--------------+----------+------+-------+\n",
            "|      Date|UserID|VitalID|Weight|AlertID|     AlertType|      Date|UserID|VitalID|\n",
            "+----------+------+-------+------+-------+--------------+----------+------+-------+\n",
            "|2020-01-01|   100|      1|    75|   NULL|          NULL|      NULL|  NULL|   NULL|\n",
            "|2020-01-02|   100|      2|    78|   NULL|          NULL|      NULL|  NULL|   NULL|\n",
            "|2020-01-01|   101|      3|    90|   NULL|          NULL|      NULL|  NULL|   NULL|\n",
            "|2020-01-02|   101|      4|    95|      1|WeightIncrease|2020-01-01|   101|      4|\n",
            "+----------+------+-------+------+-------+--------------+----------+------+-------+\n",
            "\n"
          ]
        }
      ]
    },
    {
      "cell_type": "code",
      "source": [
        "# RIGHT JOIN\n",
        "df_right_join = spark.sql(\"\"\"SELECT * FROM Vital v\n",
        "RIGHT JOIN Alert a ON v.vitalID = a.vitalID;\"\"\")\n",
        "df_right_join.show()"
      ],
      "metadata": {
        "colab": {
          "base_uri": "https://localhost:8080/"
        },
        "id": "DOf0w4Wg3_XH",
        "outputId": "65d50278-7a90-42f0-e250-a677d9d713be"
      },
      "execution_count": null,
      "outputs": [
        {
          "output_type": "stream",
          "name": "stdout",
          "text": [
            "+----------+------+-------+------+-------+--------------+----------+------+-------+\n",
            "|      Date|UserID|VitalID|Weight|AlertID|     AlertType|      Date|UserID|VitalID|\n",
            "+----------+------+-------+------+-------+--------------+----------+------+-------+\n",
            "|2020-01-02|   101|      4|    95|      1|WeightIncrease|2020-01-01|   101|      4|\n",
            "|      NULL|  NULL|   NULL|  NULL|      2|  MissingVital|2020-01-04|   100|   NULL|\n",
            "|      NULL|  NULL|   NULL|  NULL|      3|  MissingVital|2020-01-05|   101|   NULL|\n",
            "+----------+------+-------+------+-------+--------------+----------+------+-------+\n",
            "\n"
          ]
        }
      ]
    },
    {
      "cell_type": "code",
      "source": [
        "# OUTER JOIN\n",
        "df_outer_join = spark.sql(\"\"\"SELECT * FROM Vital v\n",
        "FULL JOIN Alert a ON v.vitalID = a.vitalID;\"\"\")\n",
        "df_outer_join.show()"
      ],
      "metadata": {
        "colab": {
          "base_uri": "https://localhost:8080/"
        },
        "id": "KdsQg2Jv4Dcn",
        "outputId": "231cf548-6d97-47c3-fb59-846ed39e0c26"
      },
      "execution_count": null,
      "outputs": [
        {
          "output_type": "stream",
          "name": "stdout",
          "text": [
            "+----------+------+-------+------+-------+--------------+----------+------+-------+\n",
            "|      Date|UserID|VitalID|Weight|AlertID|     AlertType|      Date|UserID|VitalID|\n",
            "+----------+------+-------+------+-------+--------------+----------+------+-------+\n",
            "|      NULL|  NULL|   NULL|  NULL|      2|  MissingVital|2020-01-04|   100|   NULL|\n",
            "|      NULL|  NULL|   NULL|  NULL|      3|  MissingVital|2020-01-05|   101|   NULL|\n",
            "|2020-01-01|   100|      1|    75|   NULL|          NULL|      NULL|  NULL|   NULL|\n",
            "|2020-01-02|   100|      2|    78|   NULL|          NULL|      NULL|  NULL|   NULL|\n",
            "|2020-01-01|   101|      3|    90|   NULL|          NULL|      NULL|  NULL|   NULL|\n",
            "|2020-01-02|   101|      4|    95|      1|WeightIncrease|2020-01-01|   101|      4|\n",
            "+----------+------+-------+------+-------+--------------+----------+------+-------+\n",
            "\n"
          ]
        }
      ]
    },
    {
      "cell_type": "code",
      "source": [
        "# CROSS JOIN\n",
        "df_cross_join = spark.sql(\"\"\"SELECT * FROM Vital v\n",
        "CROSS JOIN Alert a\"\"\")\n",
        "df_cross_join.show()"
      ],
      "metadata": {
        "colab": {
          "base_uri": "https://localhost:8080/"
        },
        "id": "Qe5086Ai4Jx3",
        "outputId": "f870e306-3c71-44a5-c51f-5089951d541f"
      },
      "execution_count": null,
      "outputs": [
        {
          "output_type": "stream",
          "name": "stdout",
          "text": [
            "+----------+------+-------+------+-------+--------------+----------+------+-------+\n",
            "|      Date|UserID|VitalID|Weight|AlertID|     AlertType|      Date|UserID|VitalID|\n",
            "+----------+------+-------+------+-------+--------------+----------+------+-------+\n",
            "|2020-01-01|   100|      1|    75|      1|WeightIncrease|2020-01-01|   101|      4|\n",
            "|2020-01-02|   100|      2|    78|      1|WeightIncrease|2020-01-01|   101|      4|\n",
            "|2020-01-01|   100|      1|    75|      2|  MissingVital|2020-01-04|   100|   NULL|\n",
            "|2020-01-01|   100|      1|    75|      3|  MissingVital|2020-01-05|   101|   NULL|\n",
            "|2020-01-02|   100|      2|    78|      2|  MissingVital|2020-01-04|   100|   NULL|\n",
            "|2020-01-02|   100|      2|    78|      3|  MissingVital|2020-01-05|   101|   NULL|\n",
            "|2020-01-01|   101|      3|    90|      1|WeightIncrease|2020-01-01|   101|      4|\n",
            "|2020-01-02|   101|      4|    95|      1|WeightIncrease|2020-01-01|   101|      4|\n",
            "|2020-01-01|   101|      3|    90|      2|  MissingVital|2020-01-04|   100|   NULL|\n",
            "|2020-01-01|   101|      3|    90|      3|  MissingVital|2020-01-05|   101|   NULL|\n",
            "|2020-01-02|   101|      4|    95|      2|  MissingVital|2020-01-04|   100|   NULL|\n",
            "|2020-01-02|   101|      4|    95|      3|  MissingVital|2020-01-05|   101|   NULL|\n",
            "+----------+------+-------+------+-------+--------------+----------+------+-------+\n",
            "\n"
          ]
        }
      ]
    },
    {
      "cell_type": "code",
      "source": [
        "# self JOIN\n",
        "df_self_join = spark.sql(\"\"\"SELECT * FROM Vital v1\n",
        "JOIN Vital v2\"\"\")\n",
        "df_self_join.show()"
      ],
      "metadata": {
        "colab": {
          "base_uri": "https://localhost:8080/"
        },
        "id": "Z3VOvx3l4TF2",
        "outputId": "db1322a2-a833-478a-fec1-02ecc990ddfc"
      },
      "execution_count": null,
      "outputs": [
        {
          "output_type": "stream",
          "name": "stdout",
          "text": [
            "+----------+------+-------+------+----------+------+-------+------+\n",
            "|      Date|UserID|VitalID|Weight|      Date|UserID|VitalID|Weight|\n",
            "+----------+------+-------+------+----------+------+-------+------+\n",
            "|2020-01-01|   100|      1|    75|2020-01-01|   100|      1|    75|\n",
            "|2020-01-01|   100|      1|    75|2020-01-02|   100|      2|    78|\n",
            "|2020-01-02|   100|      2|    78|2020-01-01|   100|      1|    75|\n",
            "|2020-01-02|   100|      2|    78|2020-01-02|   100|      2|    78|\n",
            "|2020-01-01|   100|      1|    75|2020-01-01|   101|      3|    90|\n",
            "|2020-01-01|   100|      1|    75|2020-01-02|   101|      4|    95|\n",
            "|2020-01-02|   100|      2|    78|2020-01-01|   101|      3|    90|\n",
            "|2020-01-02|   100|      2|    78|2020-01-02|   101|      4|    95|\n",
            "|2020-01-01|   101|      3|    90|2020-01-01|   100|      1|    75|\n",
            "|2020-01-01|   101|      3|    90|2020-01-02|   100|      2|    78|\n",
            "|2020-01-02|   101|      4|    95|2020-01-01|   100|      1|    75|\n",
            "|2020-01-02|   101|      4|    95|2020-01-02|   100|      2|    78|\n",
            "|2020-01-01|   101|      3|    90|2020-01-01|   101|      3|    90|\n",
            "|2020-01-01|   101|      3|    90|2020-01-02|   101|      4|    95|\n",
            "|2020-01-02|   101|      4|    95|2020-01-01|   101|      3|    90|\n",
            "|2020-01-02|   101|      4|    95|2020-01-02|   101|      4|    95|\n",
            "+----------+------+-------+------+----------+------+-------+------+\n",
            "\n"
          ]
        }
      ]
    },
    {
      "cell_type": "code",
      "source": [],
      "metadata": {
        "id": "NOcaf2pr4cV_"
      },
      "execution_count": null,
      "outputs": []
    }
  ]
}