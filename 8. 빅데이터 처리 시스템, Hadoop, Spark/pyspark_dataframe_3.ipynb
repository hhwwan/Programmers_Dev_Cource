{
  "nbformat": 4,
  "nbformat_minor": 0,
  "metadata": {
    "colab": {
      "provenance": []
    },
    "kernelspec": {
      "name": "python3",
      "display_name": "Python 3"
    },
    "language_info": {
      "name": "python"
    }
  },
  "cells": [
    {
      "cell_type": "code",
      "source": [
        "!pip install pyspark==3.5.3"
      ],
      "metadata": {
        "colab": {
          "base_uri": "https://localhost:8080/"
        },
        "id": "Q_Wyv6ahKs8R",
        "outputId": "1d64ce58-b01b-4480-db3e-1855d3fc7082"
      },
      "execution_count": null,
      "outputs": [
        {
          "output_type": "stream",
          "name": "stdout",
          "text": [
            "Requirement already satisfied: pyspark==3.5.3 in /usr/local/lib/python3.10/dist-packages (3.5.3)\n",
            "Requirement already satisfied: py4j==0.10.9.7 in /usr/local/lib/python3.10/dist-packages (from pyspark==3.5.3) (0.10.9.7)\n"
          ]
        }
      ]
    },
    {
      "cell_type": "code",
      "source": [
        "from pyspark.sql import SparkSession\n",
        "from pyspark import SparkConf\n",
        "\n",
        "conf = SparkConf()\n",
        "conf.set(\"spark.app.name\", \"PySpark DataFrame #3\")\n",
        "conf.set(\"spark.master\", \"local[*]\")\n",
        "\n",
        "spark = SparkSession.builder\\\n",
        "        .config(conf=conf)\\\n",
        "        .getOrCreate()"
      ],
      "metadata": {
        "id": "zS9lNDeRKygm"
      },
      "execution_count": null,
      "outputs": []
    },
    {
      "cell_type": "code",
      "source": [
        "!wget https://s3-geospatial.s3.us-west-2.amazonaws.com/transfer_cost.txt"
      ],
      "metadata": {
        "colab": {
          "base_uri": "https://localhost:8080/"
        },
        "id": "Sg6lKFCVK5uw",
        "outputId": "1c7a3c80-48b2-4039-b733-cd3738eb43cf"
      },
      "execution_count": null,
      "outputs": [
        {
          "output_type": "stream",
          "name": "stdout",
          "text": [
            "--2025-02-07 06:29:05--  https://s3-geospatial.s3.us-west-2.amazonaws.com/transfer_cost.txt\n",
            "Resolving s3-geospatial.s3.us-west-2.amazonaws.com (s3-geospatial.s3.us-west-2.amazonaws.com)... 52.92.153.82, 3.5.80.194, 3.5.79.176, ...\n",
            "Connecting to s3-geospatial.s3.us-west-2.amazonaws.com (s3-geospatial.s3.us-west-2.amazonaws.com)|52.92.153.82|:443... connected.\n",
            "HTTP request sent, awaiting response... 200 OK\n",
            "Length: 286779 (280K) [text/plain]\n",
            "Saving to: ‘transfer_cost.txt’\n",
            "\n",
            "transfer_cost.txt   100%[===================>] 280.06K  1.60MB/s    in 0.2s    \n",
            "\n",
            "2025-02-07 06:29:06 (1.60 MB/s) - ‘transfer_cost.txt’ saved [286779/286779]\n",
            "\n"
          ]
        }
      ]
    },
    {
      "cell_type": "code",
      "source": [
        "!ls -tl"
      ],
      "metadata": {
        "colab": {
          "base_uri": "https://localhost:8080/"
        },
        "id": "bu8GWTxe00mU",
        "outputId": "338983a4-3a15-4ac8-e577-ca0af0b7f2b5"
      },
      "execution_count": null,
      "outputs": [
        {
          "output_type": "stream",
          "name": "stdout",
          "text": [
            "total 288\n",
            "drwxr-xr-x 1 root root   4096 Jan  6 14:19 sample_data\n",
            "-rw-r--r-- 1 root root 286779 Apr 24  2022 transfer_cost.txt\n"
          ]
        }
      ]
    },
    {
      "cell_type": "code",
      "source": [
        "!head -5 transfer_cost.txt"
      ],
      "metadata": {
        "id": "uVYjxP2yA3D7",
        "colab": {
          "base_uri": "https://localhost:8080/"
        },
        "outputId": "a98f6565-3335-49a7-e959-0b2f4dea2e99"
      },
      "execution_count": null,
      "outputs": [
        {
          "output_type": "stream",
          "name": "stdout",
          "text": [
            "On 2021-01-04 the cost per ton from 85001 to 85002 is $28.32 at ABC Hauling\n",
            "On 2021-01-04 the cost per ton from 85001 to 85004 is $25.68 at ABC Hauling\n",
            "On 2021-01-04 the cost per ton from 85001 to 85007 is 19.86 at ABC Hauling\n",
            "On 2021-01-04 the cost per ton from 85001 to 85007 is 20.52 at Haul Today\n",
            "On 2021-01-04 the cost per ton from 85001 to 85010 is 20.72 at Haul Today\n"
          ]
        }
      ]
    },
    {
      "cell_type": "code",
      "source": [
        "import pyspark.sql.functions as F\n",
        "from pyspark.sql.types import *\n",
        "\n",
        "schema = StructType([ StructField(\"text\", StringType(), True)])\n",
        "transfer_cost_df = spark.read.schema(schema).text(\"transfer_cost.txt\")"
      ],
      "metadata": {
        "id": "kbbB3xcPapVl"
      },
      "execution_count": null,
      "outputs": []
    },
    {
      "cell_type": "code",
      "source": [
        "transfer_cost_df.show(truncate=False)"
      ],
      "metadata": {
        "colab": {
          "base_uri": "https://localhost:8080/"
        },
        "id": "hZiZwF-gbOrV",
        "outputId": "6c6e01ba-41c5-4d84-807f-922e90cfe30b"
      },
      "execution_count": null,
      "outputs": [
        {
          "output_type": "stream",
          "name": "stdout",
          "text": [
            "+---------------------------------------------------------------------------+\n",
            "|text                                                                       |\n",
            "+---------------------------------------------------------------------------+\n",
            "|On 2021-01-04 the cost per ton from 85001 to 85002 is $28.32 at ABC Hauling|\n",
            "|On 2021-01-04 the cost per ton from 85001 to 85004 is $25.68 at ABC Hauling|\n",
            "|On 2021-01-04 the cost per ton from 85001 to 85007 is 19.86 at ABC Hauling |\n",
            "|On 2021-01-04 the cost per ton from 85001 to 85007 is 20.52 at Haul Today  |\n",
            "|On 2021-01-04 the cost per ton from 85001 to 85010 is 20.72 at Haul Today  |\n",
            "|On 2021-01-04 the cost per ton from 85001 to 85012 is $18.98 at ABC Hauling|\n",
            "|On 2021-01-04 the cost per ton from 85001 to 85013 is 26.64 at Haul Today  |\n",
            "|On 2021-01-04 the cost per ton from 85001 to 85020 is 26.34 at ABC Hauling |\n",
            "|On 2021-01-04 the cost per ton from 85001 to 85021 is $20.15 at ABC Hauling|\n",
            "|On 2021-01-04 the cost per ton from 85002 to 85001 is 21.57 at Haul Today  |\n",
            "|On 2021-01-04 the cost per ton from 85002 to 85004 is 21.40 at Haul Today  |\n",
            "|On 2021-01-04 the cost per ton from 85002 to 85007 is 25.93 at Haul Today  |\n",
            "|On 2021-01-04 the cost per ton from 85002 to 85010 is 19.80 at Haul Today  |\n",
            "|On 2021-01-04 the cost per ton from 85002 to 85012 is 21.66 at Haul Today  |\n",
            "|On 2021-01-04 the cost per ton from 85002 to 85013 is $25.90 at Haul Today |\n",
            "|On 2021-01-04 the cost per ton from 85002 to 85020 is 19.15 at ABC Hauling |\n",
            "|On 2021-01-04 the cost per ton from 85002 to 85021 is $27.13 at Haul Today |\n",
            "|On 2021-01-04 the cost per ton from 85004 to 85001 is 23.88 at Haul Today  |\n",
            "|On 2021-01-04 the cost per ton from 85004 to 85002 is 26.40 at ABC Hauling |\n",
            "|On 2021-01-04 the cost per ton from 85004 to 85007 is 26.03 at ABC Hauling |\n",
            "+---------------------------------------------------------------------------+\n",
            "only showing top 20 rows\n",
            "\n"
          ]
        }
      ]
    },
    {
      "cell_type": "code",
      "source": [
        "from pyspark.sql.functions import *\n",
        "regex_str = r'On (\\S+) the cost per ton from (\\d+) to (\\d+) is (\\S+) at (.*)'\n",
        "\n",
        "df_with_new_columns = transfer_cost_df\\\n",
        "    .withColumn('week', regexp_extract('text', regex_str, 1))\\\n",
        "    .withColumn('departure_zipcode', regexp_extract(column('text'), regex_str, 2))\\\n",
        "    .withColumn('arrival_zipcode', regexp_extract(transfer_cost_df.text, regex_str, 3))\\\n",
        "    .withColumn('cost', regexp_extract(col('text'), regex_str, 4))\\\n",
        "    .withColumn('vendor', regexp_extract(col('text'), regex_str, 5))"
      ],
      "metadata": {
        "id": "n2EYklWrbSK5"
      },
      "execution_count": null,
      "outputs": []
    },
    {
      "cell_type": "code",
      "source": [
        "df_with_new_columns.printSchema()"
      ],
      "metadata": {
        "colab": {
          "base_uri": "https://localhost:8080/"
        },
        "id": "6PdecGV1XMIi",
        "outputId": "bf0f42f3-5802-4e9e-a4eb-86910742a85d"
      },
      "execution_count": null,
      "outputs": [
        {
          "output_type": "stream",
          "name": "stdout",
          "text": [
            "root\n",
            " |-- text: string (nullable = true)\n",
            " |-- week: string (nullable = true)\n",
            " |-- departure_zipcode: string (nullable = true)\n",
            " |-- arrival_zipcode: string (nullable = true)\n",
            " |-- cost: string (nullable = true)\n",
            " |-- vendor: string (nullable = true)\n",
            "\n"
          ]
        }
      ]
    },
    {
      "cell_type": "code",
      "source": [
        "final_df = df_with_new_columns.drop(\"text\")"
      ],
      "metadata": {
        "id": "tiBRD9MUXOIP"
      },
      "execution_count": null,
      "outputs": []
    },
    {
      "cell_type": "code",
      "source": [
        "final_df.write.csv(\"extracted.csv\")"
      ],
      "metadata": {
        "id": "oefVVlGfXZJt"
      },
      "execution_count": null,
      "outputs": []
    },
    {
      "cell_type": "code",
      "source": [
        "!ls -tl"
      ],
      "metadata": {
        "colab": {
          "base_uri": "https://localhost:8080/"
        },
        "id": "hHqUsiQjXjJ9",
        "outputId": "a614d288-3ebc-4093-8ff0-4b2daae2e501"
      },
      "execution_count": null,
      "outputs": [
        {
          "output_type": "stream",
          "name": "stdout",
          "text": [
            "total 292\n",
            "drwxr-xr-x 2 root root   4096 Feb  7 06:33 extracted.csv\n",
            "drwxr-xr-x 1 root root   4096 Jan  6 14:19 sample_data\n",
            "-rw-r--r-- 1 root root 286779 Apr 24  2022 transfer_cost.txt\n"
          ]
        }
      ]
    },
    {
      "cell_type": "code",
      "source": [
        "!ls -tl extracted.csv/"
      ],
      "metadata": {
        "colab": {
          "base_uri": "https://localhost:8080/"
        },
        "id": "TGUG9GqwX5a6",
        "outputId": "ce9fe0fa-9f69-4cfe-8872-43ed320fe105"
      },
      "execution_count": null,
      "outputs": [
        {
          "output_type": "stream",
          "name": "stdout",
          "text": [
            "total 156\n",
            "-rw-r--r-- 1 root root      0 Feb  7 06:33 _SUCCESS\n",
            "-rw-r--r-- 1 root root 156423 Feb  7 06:33 part-00000-46eb7828-e77f-4607-88d8-740d7c50069b-c000.csv\n"
          ]
        }
      ]
    },
    {
      "cell_type": "code",
      "source": [
        "!head -5 extracted.csv/part-00000-a909db0a-d743-4a0c-96fc-60c1a8eef076-c000.csv"
      ],
      "metadata": {
        "colab": {
          "base_uri": "https://localhost:8080/"
        },
        "id": "80dsZkBhX-a6",
        "outputId": "9f2a73bf-0841-4d9b-dd28-bd74a1d8d84b"
      },
      "execution_count": null,
      "outputs": [
        {
          "output_type": "stream",
          "name": "stdout",
          "text": [
            "head: cannot open 'extracted.csv/part-00000-a909db0a-d743-4a0c-96fc-60c1a8eef076-c000.csv' for reading: No such file or directory\n"
          ]
        }
      ]
    },
    {
      "cell_type": "code",
      "source": [
        "final_df.write.format(\"json\").save(\"extracted.json\")"
      ],
      "metadata": {
        "id": "c6qT4c_LYMj4"
      },
      "execution_count": null,
      "outputs": []
    },
    {
      "cell_type": "code",
      "source": [
        "!ls -tl extracted.json/"
      ],
      "metadata": {
        "colab": {
          "base_uri": "https://localhost:8080/"
        },
        "id": "Y8K6JprsYSwF",
        "outputId": "5e2821f4-85f5-4359-84a4-4805bf292724"
      },
      "execution_count": null,
      "outputs": [
        {
          "output_type": "stream",
          "name": "stdout",
          "text": [
            "total 428\n",
            "-rw-r--r-- 1 root root      0 Feb  7 06:36 _SUCCESS\n",
            "-rw-r--r-- 1 root root 436305 Feb  7 06:36 part-00000-f594a95a-68fe-4e16-b7ce-db35467f8b36-c000.json\n"
          ]
        }
      ]
    },
    {
      "cell_type": "code",
      "source": [
        "!head -1 extracted.json/part-00000-104f95b9-f2c6-4f77-a170-583c78106e11-c000.json"
      ],
      "metadata": {
        "colab": {
          "base_uri": "https://localhost:8080/"
        },
        "id": "C-j9yCXzYVvA",
        "outputId": "d5a7de74-0ddb-475b-fa98-5d3369b6ce97"
      },
      "execution_count": null,
      "outputs": [
        {
          "output_type": "stream",
          "name": "stdout",
          "text": [
            "head: cannot open 'extracted.json/part-00000-104f95b9-f2c6-4f77-a170-583c78106e11-c000.json' for reading: No such file or directory\n"
          ]
        }
      ]
    },
    {
      "cell_type": "code",
      "source": [],
      "metadata": {
        "id": "Jayac13VYUF8"
      },
      "execution_count": null,
      "outputs": []
    }
  ]
}