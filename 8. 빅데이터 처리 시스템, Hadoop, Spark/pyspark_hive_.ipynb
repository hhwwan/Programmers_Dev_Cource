{
  "nbformat": 4,
  "nbformat_minor": 0,
  "metadata": {
    "colab": {
      "provenance": [],
      "collapsed_sections": [
        "LoCk7SgRrFuP",
        "QkvG7CGo1BgF",
        "YV16sPAT04lt",
        "cdANBnd70u-E",
        "ziIgaC_cXx8S",
        "1bbYGM8MX3zO",
        "9nO5mhnwPozH",
        "uBXdq3jqPwur"
      ]
    },
    "kernelspec": {
      "name": "python3",
      "display_name": "Python 3"
    }
  },
  "cells": [
    {
      "cell_type": "markdown",
      "metadata": {
        "id": "XIA23YgbXKJd"
      },
      "source": [
        "이를 위해 pyspark과 Py4J 패키지를 설치한다. Py4J 패키지는 파이썬 프로그램이 자바가상머신상의 오브젝트들을 접근할 수 있게 해준다. Local Standalone Spark을 사용한다."
      ]
    },
    {
      "cell_type": "code",
      "metadata": {
        "colab": {
          "base_uri": "https://localhost:8080/"
        },
        "id": "NbT0rpGfVdiq",
        "outputId": "5d54fd5b-2f15-4efc-f401-f86a0b305f5d"
      },
      "source": [
        "!pip install pyspark==3.5.3"
      ],
      "execution_count": null,
      "outputs": [
        {
          "output_type": "stream",
          "name": "stdout",
          "text": [
            "Collecting pyspark==3.5.3\n",
            "  Downloading pyspark-3.5.3.tar.gz (317.3 MB)\n",
            "\u001b[2K     \u001b[90m━━━━━━━━━━━━━━━━━━━━━━━━━━━━━━━━━━━━━━━━\u001b[0m \u001b[32m317.3/317.3 MB\u001b[0m \u001b[31m4.4 MB/s\u001b[0m eta \u001b[36m0:00:00\u001b[0m\n",
            "\u001b[?25h  Preparing metadata (setup.py) ... \u001b[?25l\u001b[?25hdone\n",
            "Requirement already satisfied: py4j==0.10.9.7 in /usr/local/lib/python3.11/dist-packages (from pyspark==3.5.3) (0.10.9.7)\n",
            "Building wheels for collected packages: pyspark\n",
            "  Building wheel for pyspark (setup.py) ... \u001b[?25l\u001b[?25hdone\n",
            "  Created wheel for pyspark: filename=pyspark-3.5.3-py2.py3-none-any.whl size=317840625 sha256=7b0349f333d34615658819895c2ff360d652e0e3a24de05d35ab9c434c725e43\n",
            "  Stored in directory: /root/.cache/pip/wheels/97/f5/c0/947e2c0942b361ffe58651f36bd7f13772675b3863fd63d1b1\n",
            "Successfully built pyspark\n",
            "Installing collected packages: pyspark\n",
            "  Attempting uninstall: pyspark\n",
            "    Found existing installation: pyspark 3.5.4\n",
            "    Uninstalling pyspark-3.5.4:\n",
            "      Successfully uninstalled pyspark-3.5.4\n",
            "Successfully installed pyspark-3.5.3\n"
          ]
        }
      ]
    },
    {
      "cell_type": "code",
      "source": [
        "!wget https://s3-geospatial.s3.us-west-2.amazonaws.com/orders.csv"
      ],
      "metadata": {
        "colab": {
          "base_uri": "https://localhost:8080/"
        },
        "id": "1Iu9l5k_E2ih",
        "outputId": "d3a7f85a-766c-4384-bdb5-e5b08cacc398"
      },
      "execution_count": null,
      "outputs": [
        {
          "output_type": "stream",
          "name": "stdout",
          "text": [
            "--2025-02-10 08:03:41--  https://s3-geospatial.s3.us-west-2.amazonaws.com/orders.csv\n",
            "Resolving s3-geospatial.s3.us-west-2.amazonaws.com (s3-geospatial.s3.us-west-2.amazonaws.com)... 52.92.162.138, 52.92.248.58, 52.92.176.130, ...\n",
            "Connecting to s3-geospatial.s3.us-west-2.amazonaws.com (s3-geospatial.s3.us-west-2.amazonaws.com)|52.92.162.138|:443... connected.\n",
            "HTTP request sent, awaiting response... 200 OK\n",
            "Length: 89951 (88K) [text/csv]\n",
            "Saving to: ‘orders.csv’\n",
            "\n",
            "orders.csv          100%[===================>]  87.84K  --.-KB/s    in 0.1s    \n",
            "\n",
            "2025-02-10 08:03:42 (620 KB/s) - ‘orders.csv’ saved [89951/89951]\n",
            "\n"
          ]
        }
      ]
    },
    {
      "cell_type": "markdown",
      "metadata": {
        "id": "Ew_eTGrvXlDw"
      },
      "source": [
        "**Spark Session**"
      ]
    },
    {
      "cell_type": "code",
      "metadata": {
        "id": "3vm6tgcPXdnR"
      },
      "source": [
        "from pyspark.sql import SparkSession\n",
        "\n",
        "spark = SparkSession \\\n",
        "    .builder \\\n",
        "    .appName(\"Python Spark Hive\") \\\n",
        "    .enableHiveSupport() \\\n",
        "    .getOrCreate()"
      ],
      "execution_count": null,
      "outputs": []
    },
    {
      "cell_type": "code",
      "source": [
        "!ls -tl"
      ],
      "metadata": {
        "colab": {
          "base_uri": "https://localhost:8080/"
        },
        "id": "xbMEqdtjhSaH",
        "outputId": "6731e8a2-688e-47bc-f648-d75d7abf7bdf"
      },
      "execution_count": null,
      "outputs": [
        {
          "output_type": "stream",
          "name": "stdout",
          "text": [
            "total 92\n",
            "drwxr-xr-x 1 root root  4096 Feb  6 14:19 sample_data\n",
            "-rw-r--r-- 1 root root 89951 Apr 24  2022 orders.csv\n"
          ]
        }
      ]
    },
    {
      "cell_type": "code",
      "source": [
        "# Read in data and create a DataFrame\n",
        "df = spark.read.csv(\"orders.csv\", inferSchema=True, header=True, sep ='\\t')"
      ],
      "metadata": {
        "id": "AT05iUsDEZgO"
      },
      "execution_count": null,
      "outputs": []
    },
    {
      "cell_type": "code",
      "source": [
        "df.show(5)"
      ],
      "metadata": {
        "colab": {
          "base_uri": "https://localhost:8080/"
        },
        "id": "ZwUYSreyhOvf",
        "outputId": "8b9f77f7-2fb1-4c76-eae2-0d504b936cad"
      },
      "execution_count": null,
      "outputs": [
        {
          "output_type": "stream",
          "name": "stdout",
          "text": [
            "+------------+--------------------+\n",
            "|    order_id|               items|\n",
            "+------------+--------------------+\n",
            "|860196503764|[{\"name\": \"DAILY ...|\n",
            "|860292645076|[{\"name\": \"DAILY ...|\n",
            "|860320956628|[{\"name\": \"DAILY ...|\n",
            "|860321513684|[{\"name\": \"DAILY ...|\n",
            "|862930665684|[{\"name\": \"DAILY ...|\n",
            "+------------+--------------------+\n",
            "only showing top 5 rows\n",
            "\n"
          ]
        }
      ]
    },
    {
      "cell_type": "code",
      "source": [
        "spark.sql(\"CREATE DATABASE IF NOT EXISTS TEST_DB\")\n",
        "spark.sql(\"USE TEST_DB\")"
      ],
      "metadata": {
        "id": "jL9To7qyu2mL",
        "colab": {
          "base_uri": "https://localhost:8080/"
        },
        "outputId": "3bec5f32-9a42-48b3-cd87-2d5078a955af"
      },
      "execution_count": null,
      "outputs": [
        {
          "output_type": "execute_result",
          "data": {
            "text/plain": [
              "DataFrame[]"
            ]
          },
          "metadata": {},
          "execution_count": 7
        }
      ]
    },
    {
      "cell_type": "code",
      "source": [
        "spark.sql(\"SHOW DATABASES\").show()"
      ],
      "metadata": {
        "colab": {
          "base_uri": "https://localhost:8080/"
        },
        "id": "pA8GQM-aZj4c",
        "outputId": "f3d05a3a-1478-465c-cc21-7c7386e5d574"
      },
      "execution_count": null,
      "outputs": [
        {
          "output_type": "stream",
          "name": "stdout",
          "text": [
            "+---------+\n",
            "|namespace|\n",
            "+---------+\n",
            "|  default|\n",
            "|  test_db|\n",
            "+---------+\n",
            "\n"
          ]
        }
      ]
    },
    {
      "cell_type": "code",
      "source": [
        "!ls -tl"
      ],
      "metadata": {
        "colab": {
          "base_uri": "https://localhost:8080/"
        },
        "id": "yM26NrabhVPw",
        "outputId": "8671683d-a238-4f01-9394-189cd1660efb"
      },
      "execution_count": null,
      "outputs": [
        {
          "output_type": "stream",
          "name": "stdout",
          "text": [
            "total 104\n",
            "drwxr-xr-x 3 root root  4096 Feb 10 08:04 spark-warehouse\n",
            "drwxr-xr-x 5 root root  4096 Feb 10 08:04 metastore_db\n",
            "-rw-r--r-- 1 root root   669 Feb 10 08:04 derby.log\n",
            "drwxr-xr-x 1 root root  4096 Feb  6 14:19 sample_data\n",
            "-rw-r--r-- 1 root root 89951 Apr 24  2022 orders.csv\n"
          ]
        }
      ]
    },
    {
      "cell_type": "code",
      "source": [
        "df.write.saveAsTable(\"TEST_DB.orders\", mode=\"overwrite\")"
      ],
      "metadata": {
        "id": "_FzT1klth3St"
      },
      "execution_count": null,
      "outputs": []
    },
    {
      "cell_type": "code",
      "source": [
        "!ls -tl spark-warehouse/test_db.db/orders/"
      ],
      "metadata": {
        "colab": {
          "base_uri": "https://localhost:8080/"
        },
        "id": "S2akh9ojh8px",
        "outputId": "f15a4a72-e773-4444-b287-9ec91249f01a"
      },
      "execution_count": null,
      "outputs": [
        {
          "output_type": "stream",
          "name": "stdout",
          "text": [
            "total 24\n",
            "-rw-r--r-- 1 root root     0 Feb 10 08:05 _SUCCESS\n",
            "-rw-r--r-- 1 root root 23051 Feb 10 08:05 part-00000-2ce5f349-4535-45ab-a638-11c754b3e307-c000.snappy.parquet\n"
          ]
        }
      ]
    },
    {
      "cell_type": "code",
      "source": [
        "spark.sql(\"SELECT * FROM TEST_DB.orders\").show(5)"
      ],
      "metadata": {
        "colab": {
          "base_uri": "https://localhost:8080/"
        },
        "id": "vk_bSxqkFC7Y",
        "outputId": "5bdfc5b2-2392-4474-bf5a-7557172a61ae"
      },
      "execution_count": null,
      "outputs": [
        {
          "output_type": "stream",
          "name": "stdout",
          "text": [
            "+------------+--------------------+\n",
            "|    order_id|               items|\n",
            "+------------+--------------------+\n",
            "|860196503764|[{\"name\": \"DAILY ...|\n",
            "|860292645076|[{\"name\": \"DAILY ...|\n",
            "|860320956628|[{\"name\": \"DAILY ...|\n",
            "|860321513684|[{\"name\": \"DAILY ...|\n",
            "|862930665684|[{\"name\": \"DAILY ...|\n",
            "+------------+--------------------+\n",
            "only showing top 5 rows\n",
            "\n"
          ]
        }
      ]
    },
    {
      "cell_type": "code",
      "source": [
        "spark.table(\"TEST_DB.orders\").show(5)"
      ],
      "metadata": {
        "colab": {
          "base_uri": "https://localhost:8080/"
        },
        "id": "1WBmG-TNFIu7",
        "outputId": "4901ce42-0591-4ce5-f006-46fd4bb6bb20"
      },
      "execution_count": null,
      "outputs": [
        {
          "output_type": "stream",
          "name": "stdout",
          "text": [
            "+------------+--------------------+\n",
            "|    order_id|               items|\n",
            "+------------+--------------------+\n",
            "|860196503764|[{\"name\": \"DAILY ...|\n",
            "|860292645076|[{\"name\": \"DAILY ...|\n",
            "|860320956628|[{\"name\": \"DAILY ...|\n",
            "|860321513684|[{\"name\": \"DAILY ...|\n",
            "|862930665684|[{\"name\": \"DAILY ...|\n",
            "+------------+--------------------+\n",
            "only showing top 5 rows\n",
            "\n"
          ]
        }
      ]
    },
    {
      "cell_type": "code",
      "source": [
        "!ls -tl metastore_db/"
      ],
      "metadata": {
        "colab": {
          "base_uri": "https://localhost:8080/"
        },
        "id": "ULtPpbXgF27m",
        "outputId": "6dcc37dc-ed53-438d-b1fe-3fbee389a4bd"
      },
      "execution_count": null,
      "outputs": [
        {
          "output_type": "stream",
          "name": "stdout",
          "text": [
            "total 28\n",
            "drwxr-xr-x 2 root root 4096 Feb 10 08:05 seg0\n",
            "-rw-r--r-- 1 root root  900 Feb 10 08:04 service.properties\n",
            "-rw-r--r-- 1 root root  608 Feb 10 08:04 README_DO_NOT_TOUCH_FILES.txt\n",
            "drwxr-xr-x 2 root root 4096 Feb 10 08:04 log\n",
            "-rw-r--r-- 1 root root   38 Feb 10 08:04 db.lck\n",
            "-rw-r--r-- 1 root root    4 Feb 10 08:04 dbex.lck\n",
            "drwxr-xr-x 2 root root 4096 Feb 10 08:04 tmp\n"
          ]
        }
      ]
    },
    {
      "cell_type": "code",
      "source": [
        "spark.catalog.listTables()"
      ],
      "metadata": {
        "id": "HFE9zkakGA55",
        "colab": {
          "base_uri": "https://localhost:8080/"
        },
        "outputId": "33de0d9c-902e-4e76-90da-42b70d929887"
      },
      "execution_count": null,
      "outputs": [
        {
          "output_type": "execute_result",
          "data": {
            "text/plain": [
              "[Table(name='orders', catalog='spark_catalog', namespace=['test_db'], description=None, tableType='MANAGED', isTemporary=False)]"
            ]
          },
          "metadata": {},
          "execution_count": 15
        }
      ]
    },
    {
      "cell_type": "code",
      "source": [
        "spark.sql(\"\"\"\n",
        "    DROP TABLE IF EXISTS TEST_DB.orders_count;\n",
        "\"\"\")"
      ],
      "metadata": {
        "colab": {
          "base_uri": "https://localhost:8080/"
        },
        "id": "WYqTUySXif_H",
        "outputId": "5eb4e356-e31f-4967-a3fc-133a2283dde2"
      },
      "execution_count": null,
      "outputs": [
        {
          "output_type": "execute_result",
          "data": {
            "text/plain": [
              "DataFrame[]"
            ]
          },
          "metadata": {},
          "execution_count": 16
        }
      ]
    },
    {
      "cell_type": "code",
      "source": [
        "spark.sql(\"\"\"\n",
        "    CREATE TABLE TEST_DB.orders_count AS\n",
        "    SELECT order_id, COUNT(1) as count\n",
        "    FROM TEST_DB.orders\n",
        "    GROUP BY 1\"\"\")"
      ],
      "metadata": {
        "colab": {
          "base_uri": "https://localhost:8080/"
        },
        "id": "_zy1yzp9jUmQ",
        "outputId": "7d56134b-b381-42d4-8b96-953433bd45b7"
      },
      "execution_count": null,
      "outputs": [
        {
          "output_type": "execute_result",
          "data": {
            "text/plain": [
              "DataFrame[]"
            ]
          },
          "metadata": {},
          "execution_count": 17
        }
      ]
    },
    {
      "cell_type": "code",
      "source": [
        "spark.catalog.listTables()"
      ],
      "metadata": {
        "colab": {
          "base_uri": "https://localhost:8080/"
        },
        "id": "jVSEuePEiyYW",
        "outputId": "850d025a-3b87-4b0c-8a2a-aec362c69936"
      },
      "execution_count": null,
      "outputs": [
        {
          "output_type": "execute_result",
          "data": {
            "text/plain": [
              "[Table(name='orders', catalog='spark_catalog', namespace=['test_db'], description=None, tableType='MANAGED', isTemporary=False),\n",
              " Table(name='orders_count', catalog='spark_catalog', namespace=['test_db'], description=None, tableType='MANAGED', isTemporary=False)]"
            ]
          },
          "metadata": {},
          "execution_count": 18
        }
      ]
    },
    {
      "cell_type": "code",
      "source": [
        "!ls -tl spark-warehouse/test_db.db/"
      ],
      "metadata": {
        "colab": {
          "base_uri": "https://localhost:8080/"
        },
        "id": "LgplGelhi0hq",
        "outputId": "4062b4de-c800-4cd8-bb1c-3df9edc64ce9"
      },
      "execution_count": null,
      "outputs": [
        {
          "output_type": "stream",
          "name": "stdout",
          "text": [
            "total 8\n",
            "drwxr-xr-x 2 root root 4096 Feb 10 08:06 orders_count\n",
            "drwxr-xr-x 2 root root 4096 Feb 10 08:05 orders\n"
          ]
        }
      ]
    },
    {
      "cell_type": "code",
      "source": [
        "spark.sql(\"SELECT * FROM test_db.orders_count LIMIT 10\").show()"
      ],
      "metadata": {
        "colab": {
          "base_uri": "https://localhost:8080/"
        },
        "id": "pGcE_5LXi4zj",
        "outputId": "d5e47a7d-3007-4e51-a593-8e5a1e804679"
      },
      "execution_count": null,
      "outputs": [
        {
          "output_type": "stream",
          "name": "stdout",
          "text": [
            "+-------------+-----+\n",
            "|     order_id|count|\n",
            "+-------------+-----+\n",
            "|1209310019796|    1|\n",
            "|1253925257428|    1|\n",
            "|1314797846740|    1|\n",
            "|1370637402324|    1|\n",
            "|1967690285268|    1|\n",
            "|1971226443988|    1|\n",
            "|2106987970772|    1|\n",
            "|2135281533140|    1|\n",
            "|1271771070676|    1|\n",
            "|1713331765460|    1|\n",
            "+-------------+-----+\n",
            "\n"
          ]
        }
      ]
    },
    {
      "cell_type": "code",
      "source": [],
      "metadata": {
        "id": "9D0FCc86ZfOG"
      },
      "execution_count": null,
      "outputs": []
    }
  ]
}