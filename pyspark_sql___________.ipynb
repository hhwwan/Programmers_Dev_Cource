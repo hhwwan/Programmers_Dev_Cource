{
  "nbformat": 4,
  "nbformat_minor": 0,
  "metadata": {
    "colab": {
      "provenance": []
    },
    "kernelspec": {
      "name": "python3",
      "display_name": "Python 3"
    }
  },
  "cells": [
    {
      "cell_type": "code",
      "metadata": {
        "colab": {
          "base_uri": "https://localhost:8080/"
        },
        "id": "NbT0rpGfVdiq",
        "outputId": "59f50e2b-2ba6-4c0e-8c45-fb416cf68205"
      },
      "source": [
        "!pip install pyspark==3.5.3"
      ],
      "execution_count": null,
      "outputs": [
        {
          "output_type": "stream",
          "name": "stdout",
          "text": [
            "Collecting pyspark==3.5.3\n",
            "  Downloading pyspark-3.5.3.tar.gz (317.3 MB)\n",
            "\u001b[2K     \u001b[90m━━━━━━━━━━━━━━━━━━━━━━━━━━━━━━━━━━━━━━━━\u001b[0m \u001b[32m317.3/317.3 MB\u001b[0m \u001b[31m3.9 MB/s\u001b[0m eta \u001b[36m0:00:00\u001b[0m\n",
            "\u001b[?25h  Preparing metadata (setup.py) ... \u001b[?25l\u001b[?25hdone\n",
            "Requirement already satisfied: py4j==0.10.9.7 in /usr/local/lib/python3.11/dist-packages (from pyspark==3.5.3) (0.10.9.7)\n",
            "Building wheels for collected packages: pyspark\n",
            "  Building wheel for pyspark (setup.py) ... \u001b[?25l\u001b[?25hdone\n",
            "  Created wheel for pyspark: filename=pyspark-3.5.3-py2.py3-none-any.whl size=317840625 sha256=397c09f61691276ecf46f5d39e94840019a30a4d74159d0da9bf3ed4d60e353f\n",
            "  Stored in directory: /root/.cache/pip/wheels/97/f5/c0/947e2c0942b361ffe58651f36bd7f13772675b3863fd63d1b1\n",
            "Successfully built pyspark\n",
            "Installing collected packages: pyspark\n",
            "  Attempting uninstall: pyspark\n",
            "    Found existing installation: pyspark 3.5.4\n",
            "    Uninstalling pyspark-3.5.4:\n",
            "      Successfully uninstalled pyspark-3.5.4\n",
            "Successfully installed pyspark-3.5.3\n"
          ]
        }
      ]
    },
    {
      "cell_type": "code",
      "metadata": {
        "colab": {
          "base_uri": "https://localhost:8080/"
        },
        "id": "OdTTZZqVA0Xa",
        "outputId": "fa4e83e2-dae2-41b0-b919-ae94dedeea4b"
      },
      "source": [
        "!cd /usr/local/lib/python3.11/dist-packages/pyspark/jars && wget https://s3.amazonaws.com/redshift-downloads/drivers/jdbc/2.1.0.30/redshift-jdbc42-2.1.0.30.jar"
      ],
      "execution_count": null,
      "outputs": [
        {
          "output_type": "stream",
          "name": "stdout",
          "text": [
            "--2025-02-10 07:55:06--  https://s3.amazonaws.com/redshift-downloads/drivers/jdbc/2.1.0.30/redshift-jdbc42-2.1.0.30.jar\n",
            "Resolving s3.amazonaws.com (s3.amazonaws.com)... 16.15.217.106, 52.217.19.38, 52.216.38.232, ...\n",
            "Connecting to s3.amazonaws.com (s3.amazonaws.com)|16.15.217.106|:443... connected.\n",
            "HTTP request sent, awaiting response... 200 OK\n",
            "Length: 1088404 (1.0M) [application/java-archive]\n",
            "Saving to: ‘redshift-jdbc42-2.1.0.30.jar’\n",
            "\n",
            "redshift-jdbc42-2.1 100%[===================>]   1.04M  6.54MB/s    in 0.2s    \n",
            "\n",
            "2025-02-10 07:55:06 (6.54 MB/s) - ‘redshift-jdbc42-2.1.0.30.jar’ saved [1088404/1088404]\n",
            "\n"
          ]
        }
      ]
    },
    {
      "cell_type": "code",
      "metadata": {
        "id": "3vm6tgcPXdnR"
      },
      "source": [
        "from pyspark.sql import SparkSession\n",
        "\n",
        "spark = SparkSession \\\n",
        "    .builder \\\n",
        "    .appName(\"Python Spark SQL #1\") \\\n",
        "    .getOrCreate()"
      ],
      "execution_count": null,
      "outputs": []
    },
    {
      "cell_type": "code",
      "source": [
        "rows_test = [\n",
        "    { 'value': 1, 'name': 'Luka' },\n",
        "    { 'value': 2, 'name': 'Luka'},\n",
        "    { 'value': 3, 'name': 'Dirk' },\n",
        "    { 'value': 4, 'name': 'Dirk' },\n",
        "    { 'value': 5, 'name': 'Luka' },\n",
        "]\n",
        "\n",
        "df = spark.createDataFrame(rows_test)"
      ],
      "metadata": {
        "id": "BX91cDdZj3AK"
      },
      "execution_count": null,
      "outputs": []
    },
    {
      "cell_type": "code",
      "source": [
        "df.printSchema()"
      ],
      "metadata": {
        "colab": {
          "base_uri": "https://localhost:8080/"
        },
        "id": "_XRkbATLkfkt",
        "outputId": "985bab01-875a-498d-a7e9-db60ea70d582"
      },
      "execution_count": null,
      "outputs": [
        {
          "output_type": "stream",
          "name": "stdout",
          "text": [
            "root\n",
            " |-- name: string (nullable = true)\n",
            " |-- value: long (nullable = true)\n",
            "\n"
          ]
        }
      ]
    },
    {
      "cell_type": "code",
      "source": [
        "df.show()"
      ],
      "metadata": {
        "colab": {
          "base_uri": "https://localhost:8080/"
        },
        "id": "XMvZ11_71j9F",
        "outputId": "261da711-e565-4e6c-cd70-dd6324903cf5"
      },
      "execution_count": null,
      "outputs": [
        {
          "output_type": "stream",
          "name": "stdout",
          "text": [
            "+----+-----+\n",
            "|name|value|\n",
            "+----+-----+\n",
            "|Luka|    1|\n",
            "|Luka|    2|\n",
            "|Dirk|    3|\n",
            "|Dirk|    4|\n",
            "|Luka|    5|\n",
            "+----+-----+\n",
            "\n"
          ]
        }
      ]
    },
    {
      "cell_type": "code",
      "source": [
        "df.createOrReplaceTempView(\"rows_test\")"
      ],
      "metadata": {
        "id": "S0ZGpnfhk1kP"
      },
      "execution_count": null,
      "outputs": []
    },
    {
      "cell_type": "code",
      "source": [
        "spark.sql(\"\"\"\n",
        "  SELECT\n",
        "    value,\n",
        "    SUM(value) OVER (\n",
        "        order by value\n",
        "        rows between 2 preceding and 2 following\n",
        "    ) AS rolling_sum\n",
        "  FROM rows_test\"\"\").show()"
      ],
      "metadata": {
        "colab": {
          "base_uri": "https://localhost:8080/"
        },
        "id": "6OGdFV7MlCZf",
        "outputId": "73ef46e9-9cd5-4cc4-9f9e-d196204dddf5"
      },
      "execution_count": null,
      "outputs": [
        {
          "output_type": "stream",
          "name": "stdout",
          "text": [
            "+-----+-----------+\n",
            "|value|rolling_sum|\n",
            "+-----+-----------+\n",
            "|    1|          6|\n",
            "|    2|         10|\n",
            "|    3|         15|\n",
            "|    4|         14|\n",
            "|    5|         12|\n",
            "+-----+-----------+\n",
            "\n"
          ]
        }
      ]
    },
    {
      "cell_type": "code",
      "source": [
        "spark.sql(\"\"\"\n",
        "  SELECT\n",
        "    value,\n",
        "    SUM(value) OVER (\n",
        "        order by value\n",
        "        rows between unbounded preceding and 2 following\n",
        "    ) AS rolling_sum\n",
        "  FROM rows_test\"\"\").show()"
      ],
      "metadata": {
        "colab": {
          "base_uri": "https://localhost:8080/"
        },
        "id": "4Ffkge4xmrMr",
        "outputId": "28e59a0a-bd4f-4273-b25d-dcc5e7f37fff"
      },
      "execution_count": null,
      "outputs": [
        {
          "output_type": "stream",
          "name": "stdout",
          "text": [
            "+-----+-----------+\n",
            "|value|rolling_sum|\n",
            "+-----+-----------+\n",
            "|    1|          6|\n",
            "|    2|         10|\n",
            "|    3|         15|\n",
            "|    4|         15|\n",
            "|    5|         15|\n",
            "+-----+-----------+\n",
            "\n"
          ]
        }
      ]
    },
    {
      "cell_type": "code",
      "source": [
        "spark.sql(\"\"\"\n",
        "  SELECT\n",
        "    *,\n",
        "    FIRST_VALUE(value) OVER (\n",
        "        partition by name\n",
        "        order by value\n",
        "        rows between unbounded preceding and unbounded following\n",
        "    ) AS min_value,\n",
        "    LAST_VALUE(value) OVER (\n",
        "        partition by name\n",
        "        order by value\n",
        "        rows between unbounded preceding and unbounded following\n",
        "    ) AS max_value\n",
        "  FROM rows_test\"\"\").show()"
      ],
      "metadata": {
        "colab": {
          "base_uri": "https://localhost:8080/"
        },
        "id": "NpmrVV4T107A",
        "outputId": "699b83b9-3637-4198-9ba8-ef9007a9e065"
      },
      "execution_count": null,
      "outputs": [
        {
          "output_type": "stream",
          "name": "stdout",
          "text": [
            "+----+-----+---------+---------+\n",
            "|name|value|min_value|max_value|\n",
            "+----+-----+---------+---------+\n",
            "|Dirk|    3|        3|        4|\n",
            "|Dirk|    4|        3|        4|\n",
            "|Luka|    1|        1|        5|\n",
            "|Luka|    2|        1|        5|\n",
            "|Luka|    5|        1|        5|\n",
            "+----+-----+---------+---------+\n",
            "\n"
          ]
        }
      ]
    },
    {
      "cell_type": "markdown",
      "source": [
        "## Redshift 상의 다음 테이블을 데이터프레임으로 로딩하기\n",
        "user_session_channel, session_timestamp, session_transaction"
      ],
      "metadata": {
        "id": "ElawwmWzcylW"
      }
    },
    {
      "cell_type": "code",
      "metadata": {
        "id": "EEaNuN3xKNXm"
      },
      "source": [
        "# Redshift와 연결해서 DataFrame으로 로딩하기\n",
        "url = \"jdbc:redshift://learnde.cduaw970ssvt.ap-northeast-2.redshift.amazonaws.com:5439/dev?user=guest&password=Guest1234\"\n",
        "\n",
        "df_user_session_channel = spark.read \\\n",
        "    .format(\"jdbc\") \\\n",
        "    .option(\"driver\", \"com.amazon.redshift.Driver\") \\\n",
        "    .option(\"url\", url) \\\n",
        "    .option(\"dbtable\", \"raw_data.user_session_channel\") \\\n",
        "    .load()\n",
        "\n",
        "df_session_timestamp = spark.read \\\n",
        "    .format(\"jdbc\") \\\n",
        "    .option(\"driver\", \"com.amazon.redshift.Driver\") \\\n",
        "    .option(\"url\", url) \\\n",
        "    .option(\"dbtable\", \"raw_data.session_timestamp\") \\\n",
        "    .load()\n",
        "\n",
        "df_session_transaction = spark.read \\\n",
        "    .format(\"jdbc\") \\\n",
        "    .option(\"driver\", \"com.amazon.redshift.Driver\") \\\n",
        "    .option(\"url\", url) \\\n",
        "    .option(\"dbtable\", \"raw_data.session_transaction\") \\\n",
        "    .load()"
      ],
      "execution_count": null,
      "outputs": []
    },
    {
      "cell_type": "code",
      "source": [
        "df_user_session_channel.createOrReplaceTempView(\"user_session_channel\")\n",
        "df_session_timestamp.createOrReplaceTempView(\"session_timestamp\")\n",
        "df_session_transaction.createOrReplaceTempView(\"session_transaction\")"
      ],
      "metadata": {
        "id": "AjcT5LWi7_B5"
      },
      "execution_count": null,
      "outputs": []
    },
    {
      "cell_type": "code",
      "source": [
        "df_user_session_channel.show(5)"
      ],
      "metadata": {
        "colab": {
          "base_uri": "https://localhost:8080/"
        },
        "id": "f3UxHdoLC5Bt",
        "outputId": "c3d40d9b-81d5-4c91-f13b-5807a524e504"
      },
      "execution_count": null,
      "outputs": [
        {
          "output_type": "stream",
          "name": "stdout",
          "text": [
            "+------+--------------------+---------+\n",
            "|userid|           sessionid|  channel|\n",
            "+------+--------------------+---------+\n",
            "|  1651|0004289ee1c7b8b08...|  Organic|\n",
            "|  1197|00053f5e11d1fe4e4...| Facebook|\n",
            "|  1401|00056c20eb5a02958...| Facebook|\n",
            "|  1399|00063cb5da1826feb...| Facebook|\n",
            "|  1667|000958fdaefe0dd06...|Instagram|\n",
            "+------+--------------------+---------+\n",
            "only showing top 5 rows\n",
            "\n"
          ]
        }
      ]
    },
    {
      "cell_type": "code",
      "source": [
        "df_session_timestamp.show(5)"
      ],
      "metadata": {
        "colab": {
          "base_uri": "https://localhost:8080/"
        },
        "id": "T9lIcukADIgk",
        "outputId": "b5b220e1-7ef0-44a0-9039-e960eba55748"
      },
      "execution_count": null,
      "outputs": [
        {
          "output_type": "stream",
          "name": "stdout",
          "text": [
            "+--------------------+--------------------+\n",
            "|           sessionid|                  ts|\n",
            "+--------------------+--------------------+\n",
            "|00029153d12ae1c9a...|2019-10-18 14:14:...|\n",
            "|0004289ee1c7b8b08...|2019-11-16 21:20:...|\n",
            "|0006246bee639c7a7...|2019-08-10 16:33:...|\n",
            "|0006dd05ea1e999dd...|2019-07-06 19:54:...|\n",
            "|000958fdaefe0dd06...|2019-11-02 14:52:...|\n",
            "+--------------------+--------------------+\n",
            "only showing top 5 rows\n",
            "\n"
          ]
        }
      ]
    },
    {
      "cell_type": "code",
      "source": [
        "df_session_transaction.show(5)"
      ],
      "metadata": {
        "colab": {
          "base_uri": "https://localhost:8080/"
        },
        "id": "vwiwGeXRDNk2",
        "outputId": "7da1c953-593a-4330-dd8d-a4245a5fee6e"
      },
      "execution_count": null,
      "outputs": [
        {
          "output_type": "stream",
          "name": "stdout",
          "text": [
            "+--------------------+--------+------+\n",
            "|           sessionid|refunded|amount|\n",
            "+--------------------+--------+------+\n",
            "|00029153d12ae1c9a...|   false|    85|\n",
            "|008909bd27b680698...|   false|    13|\n",
            "|0107acb41ef20db22...|   false|    16|\n",
            "|018544a2c48077d2c...|   false|    39|\n",
            "|020c38173caff0203...|   false|    61|\n",
            "+--------------------+--------+------+\n",
            "only showing top 5 rows\n",
            "\n"
          ]
        }
      ]
    },
    {
      "cell_type": "markdown",
      "source": [
        "## 위의 테이블들을 이용해서 사용자별로 처음 채널과 마지막 채널 알아내기"
      ],
      "metadata": {
        "id": "mpjU9yXVJAph"
      }
    },
    {
      "cell_type": "code",
      "source": [
        "first_last_channel_df = spark.sql(\"\"\"\n",
        "WITH RECORD AS (\n",
        "  SELECT /*사용자의 유입에 따른, 채널 순서 매기는 쿼리*/\n",
        "      userid,\n",
        "      channel,\n",
        "      ROW_NUMBER() OVER (PARTITION BY userid ORDER BY ts ASC) AS seq_first,\n",
        "      ROW_NUMBER() OVER (PARTITION BY userid ORDER BY ts DESC) AS seq_last\n",
        "  FROM user_session_channel u\n",
        "  LEFT JOIN session_timestamp t\n",
        "    ON u.sessionid = t.sessionid\n",
        ")\n",
        "SELECT /*유저의 첫번째 유입채널, 마지막 유입 채널 구하기*/\n",
        "      f.userid,\n",
        "      f.channel first_channel,\n",
        "      l.channel last_channel\n",
        "FROM RECORD f\n",
        "INNER JOIN RECORD l ON f.userid = l.userid\n",
        "WHERE f.seq_first = 1 and l.seq_last = 1\n",
        "ORDER BY userid\n",
        "\"\"\")"
      ],
      "metadata": {
        "id": "F8DVGlKRQkrD"
      },
      "execution_count": null,
      "outputs": []
    },
    {
      "cell_type": "code",
      "source": [
        "first_last_channel_df.show(10)"
      ],
      "metadata": {
        "colab": {
          "base_uri": "https://localhost:8080/"
        },
        "id": "X4qr9Qw4RaJ8",
        "outputId": "29770e38-398e-48bc-ed79-2af40fcba0af"
      },
      "execution_count": null,
      "outputs": [
        {
          "output_type": "stream",
          "name": "stdout",
          "text": [
            "+------+-------------+------------+\n",
            "|userid|first_channel|last_channel|\n",
            "+------+-------------+------------+\n",
            "|    27|      Youtube|   Instagram|\n",
            "|    29|        Naver|       Naver|\n",
            "|    33|       Google|     Youtube|\n",
            "|    34|      Youtube|       Naver|\n",
            "|    36|        Naver|     Youtube|\n",
            "|    40|      Youtube|      Google|\n",
            "|    41|     Facebook|     Youtube|\n",
            "|    44|        Naver|   Instagram|\n",
            "|    45|      Youtube|   Instagram|\n",
            "|    59|    Instagram|   Instagram|\n",
            "+------+-------------+------------+\n",
            "only showing top 10 rows\n",
            "\n"
          ]
        }
      ]
    },
    {
      "cell_type": "code",
      "source": [
        "first_last_channel_df2 = spark.sql(\"\"\"\n",
        "SELECT DISTINCT A.userid,\n",
        "    FIRST_VALUE(A.channel) over(partition by A.userid order by B.ts\n",
        "rows between unbounded preceding and unbounded following) AS First_Channel,\n",
        "    LAST_VALUE(A.channel) over(partition by A.userid order by B.ts\n",
        "rows between unbounded preceding and unbounded following) AS Last_Channel\n",
        "FROM user_session_channel A\n",
        "LEFT JOIN session_timestamp B\n",
        "ON A.sessionid = B.sessionid\"\"\")"
      ],
      "metadata": {
        "id": "rvBR0KhAc5J1"
      },
      "execution_count": null,
      "outputs": []
    },
    {
      "cell_type": "code",
      "source": [
        "first_last_channel_df2.show()"
      ],
      "metadata": {
        "colab": {
          "base_uri": "https://localhost:8080/"
        },
        "id": "bWvT_Sbp2dNY",
        "outputId": "8b7f90e6-2786-4f64-9e54-e34cda3407f6"
      },
      "execution_count": null,
      "outputs": [
        {
          "output_type": "stream",
          "name": "stdout",
          "text": [
            "+------+-------------+------------+\n",
            "|userid|First_Channel|Last_Channel|\n",
            "+------+-------------+------------+\n",
            "|    27|      Youtube|   Instagram|\n",
            "|    29|        Naver|       Naver|\n",
            "|    33|       Google|     Youtube|\n",
            "|    34|      Youtube|       Naver|\n",
            "|    36|        Naver|     Youtube|\n",
            "|    40|      Youtube|      Google|\n",
            "|    41|     Facebook|     Youtube|\n",
            "|    44|        Naver|   Instagram|\n",
            "|    45|      Youtube|   Instagram|\n",
            "|    59|    Instagram|   Instagram|\n",
            "|    64|      Youtube|     Youtube|\n",
            "|    65|      Youtube|     Organic|\n",
            "|    68|      Youtube|     Organic|\n",
            "|    69|     Facebook|   Instagram|\n",
            "|    80|      Organic|       Naver|\n",
            "|    84|       Google|     Youtube|\n",
            "|    87|      Youtube|      Google|\n",
            "|    97|      Organic|     Organic|\n",
            "|   112|     Facebook|     Youtube|\n",
            "|   113|      Organic|     Organic|\n",
            "+------+-------------+------------+\n",
            "only showing top 20 rows\n",
            "\n"
          ]
        }
      ]
    },
    {
      "cell_type": "code",
      "source": [],
      "metadata": {
        "id": "W362oY1b2eNs"
      },
      "execution_count": null,
      "outputs": []
    }
  ]
}