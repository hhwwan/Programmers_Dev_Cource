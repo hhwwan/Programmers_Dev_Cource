{
  "nbformat": 4,
  "nbformat_minor": 0,
  "metadata": {
    "colab": {
      "provenance": [],
      "collapsed_sections": [
        "LoCk7SgRrFuP",
        "QkvG7CGo1BgF",
        "YV16sPAT04lt",
        "cdANBnd70u-E",
        "ziIgaC_cXx8S",
        "1bbYGM8MX3zO",
        "9nO5mhnwPozH",
        "uBXdq3jqPwur"
      ]
    },
    "kernelspec": {
      "name": "python3",
      "display_name": "Python 3"
    }
  },
  "cells": [
    {
      "cell_type": "markdown",
      "metadata": {
        "id": "XIA23YgbXKJd"
      },
      "source": [
        "이를 위해 pyspark과 Py4J 패키지를 설치한다. Py4J 패키지는 파이썬 프로그램이 자바가상머신상의 오브젝트들을 접근할 수 있게 해준다. Local Standalone Spark을 사용한다."
      ]
    },
    {
      "cell_type": "code",
      "metadata": {
        "id": "NbT0rpGfVdiq",
        "colab": {
          "base_uri": "https://localhost:8080/"
        },
        "outputId": "02e2df85-1e5d-4789-8d34-09c7e71f052b"
      },
      "source": [
        "!pip install pyspark==3.5.3"
      ],
      "execution_count": null,
      "outputs": [
        {
          "output_type": "stream",
          "name": "stdout",
          "text": [
            "Collecting pyspark==3.5.3\n",
            "  Downloading pyspark-3.5.3.tar.gz (317.3 MB)\n",
            "\u001b[2K     \u001b[90m━━━━━━━━━━━━━━━━━━━━━━━━━━━━━━━━━━━━━━━━\u001b[0m \u001b[32m317.3/317.3 MB\u001b[0m \u001b[31m2.8 MB/s\u001b[0m eta \u001b[36m0:00:00\u001b[0m\n",
            "\u001b[?25h  Preparing metadata (setup.py) ... \u001b[?25l\u001b[?25hdone\n",
            "Requirement already satisfied: py4j==0.10.9.7 in /usr/local/lib/python3.11/dist-packages (from pyspark==3.5.3) (0.10.9.7)\n",
            "Building wheels for collected packages: pyspark\n",
            "  Building wheel for pyspark (setup.py) ... \u001b[?25l\u001b[?25hdone\n",
            "  Created wheel for pyspark: filename=pyspark-3.5.3-py2.py3-none-any.whl size=317840625 sha256=48b7d9c5306bdaea160536266a74cf6aa41f8c6bdd735959fda227e98fcdf5d1\n",
            "  Stored in directory: /root/.cache/pip/wheels/97/f5/c0/947e2c0942b361ffe58651f36bd7f13772675b3863fd63d1b1\n",
            "Successfully built pyspark\n",
            "Installing collected packages: pyspark\n",
            "  Attempting uninstall: pyspark\n",
            "    Found existing installation: pyspark 3.5.4\n",
            "    Uninstalling pyspark-3.5.4:\n",
            "      Successfully uninstalled pyspark-3.5.4\n",
            "Successfully installed pyspark-3.5.3\n"
          ]
        }
      ]
    },
    {
      "cell_type": "markdown",
      "metadata": {
        "id": "Ew_eTGrvXlDw"
      },
      "source": [
        "**Spark Session:** 생성"
      ]
    },
    {
      "cell_type": "code",
      "metadata": {
        "id": "3vm6tgcPXdnR"
      },
      "source": [
        "from pyspark.sql import SparkSession\n",
        "\n",
        "spark = SparkSession \\\n",
        "    .builder \\\n",
        "    .appName(\"Python Spark UDF\") \\\n",
        "    .getOrCreate()"
      ],
      "execution_count": null,
      "outputs": []
    },
    {
      "cell_type": "markdown",
      "source": [
        "### Dataframe/SQL에 UDF 사용해보기 #1"
      ],
      "metadata": {
        "id": "cdANBnd70u-E"
      }
    },
    {
      "cell_type": "code",
      "source": [
        "columns = [\"Seqno\",\"Name\"]\n",
        "data = [(\"1\", \"john jones\"),\n",
        "    (\"2\", \"tracey smith\"),\n",
        "    (\"3\", \"amy sanders\")]\n",
        "\n",
        "df = spark.createDataFrame(data=data,schema=columns)\n",
        "\n",
        "df.show(truncate=False)"
      ],
      "metadata": {
        "id": "SpnFBENHzyGw",
        "colab": {
          "base_uri": "https://localhost:8080/"
        },
        "outputId": "7082a5ee-90ec-4cac-d995-c42901d7a798"
      },
      "execution_count": null,
      "outputs": [
        {
          "output_type": "stream",
          "name": "stdout",
          "text": [
            "+-----+------------+\n",
            "|Seqno|Name        |\n",
            "+-----+------------+\n",
            "|1    |john jones  |\n",
            "|2    |tracey smith|\n",
            "|3    |amy sanders |\n",
            "+-----+------------+\n",
            "\n"
          ]
        }
      ]
    },
    {
      "cell_type": "code",
      "source": [
        "import pyspark.sql.functions as F\n",
        "from pyspark.sql.types import *\n",
        "\n",
        "upperUDF = F.udf(lambda z:z.upper())\n",
        "\n",
        "df.withColumn(\"Curated Name\", upperUDF(\"Name\")) \\\n",
        "  .show(truncate=False)"
      ],
      "metadata": {
        "id": "PrUPK5CLzztg",
        "colab": {
          "base_uri": "https://localhost:8080/"
        },
        "outputId": "4a309970-9751-4fac-8412-49911e2db823"
      },
      "execution_count": null,
      "outputs": [
        {
          "output_type": "stream",
          "name": "stdout",
          "text": [
            "+-----+------------+------------+\n",
            "|Seqno|Name        |Curated Name|\n",
            "+-----+------------+------------+\n",
            "|1    |john jones  |JOHN JONES  |\n",
            "|2    |tracey smith|TRACEY SMITH|\n",
            "|3    |amy sanders |AMY SANDERS |\n",
            "+-----+------------+------------+\n",
            "\n"
          ]
        }
      ]
    },
    {
      "cell_type": "code",
      "source": [
        "def upper_udf(s):\n",
        "    return s.upper()"
      ],
      "metadata": {
        "id": "WA9eV8lijU27"
      },
      "execution_count": null,
      "outputs": []
    },
    {
      "cell_type": "code",
      "source": [
        "upperUDF = F.udf(upper_udf, StringType())\n",
        "\n",
        "df.withColumn(\"Curated Name\", upperUDF(\"Name\")) \\\n",
        "   .show(truncate=False)"
      ],
      "metadata": {
        "id": "LQ9BOeDFwp5W",
        "colab": {
          "base_uri": "https://localhost:8080/"
        },
        "outputId": "30536452-aba0-4466-e586-c62a3160ff61"
      },
      "execution_count": null,
      "outputs": [
        {
          "output_type": "stream",
          "name": "stdout",
          "text": [
            "+-----+------------+------------+\n",
            "|Seqno|Name        |Curated Name|\n",
            "+-----+------------+------------+\n",
            "|1    |john jones  |JOHN JONES  |\n",
            "|2    |tracey smith|TRACEY SMITH|\n",
            "|3    |amy sanders |AMY SANDERS |\n",
            "+-----+------------+------------+\n",
            "\n"
          ]
        }
      ]
    },
    {
      "cell_type": "code",
      "source": [
        "df.select(\"Name\", upperUDF(\"Name\").alias(\"Curated Name\")).show()"
      ],
      "metadata": {
        "id": "woo49o7fnGx3",
        "colab": {
          "base_uri": "https://localhost:8080/"
        },
        "outputId": "a12f7f41-3a23-41ce-e8b1-2f865faac29e"
      },
      "execution_count": null,
      "outputs": [
        {
          "output_type": "stream",
          "name": "stdout",
          "text": [
            "+------------+------------+\n",
            "|        Name|Curated Name|\n",
            "+------------+------------+\n",
            "|  john jones|  JOHN JONES|\n",
            "|tracey smith|TRACEY SMITH|\n",
            "| amy sanders| AMY SANDERS|\n",
            "+------------+------------+\n",
            "\n"
          ]
        }
      ]
    },
    {
      "cell_type": "code",
      "source": [
        "from pyspark.sql.functions import pandas_udf\n",
        "import pandas as pd\n",
        "\n",
        "# Define the UDF\n",
        "@pandas_udf(StringType())\n",
        "def upper_udf_f(s: pd.Series) -> pd.Series:\n",
        "    return s.str.upper()"
      ],
      "metadata": {
        "id": "fDKCC_fqke0o"
      },
      "execution_count": null,
      "outputs": []
    },
    {
      "cell_type": "code",
      "source": [
        "# 위에서 정의한 파이썬 upper 함수를 그대로 사용\n",
        "\n",
        "upperUDF = spark.udf.register(\"upper_udf\", upper_udf_f)\n",
        "spark.sql(\"SELECT upper_udf('aBcD')\").show()"
      ],
      "metadata": {
        "id": "0wwmQhwCh48W",
        "colab": {
          "base_uri": "https://localhost:8080/"
        },
        "outputId": "c25557cd-9ea7-48b8-cc1a-e40d4484b681"
      },
      "execution_count": null,
      "outputs": [
        {
          "output_type": "stream",
          "name": "stdout",
          "text": [
            "+---------------+\n",
            "|upper_udf(aBcD)|\n",
            "+---------------+\n",
            "|           ABCD|\n",
            "+---------------+\n",
            "\n"
          ]
        }
      ]
    },
    {
      "cell_type": "code",
      "source": [
        "df.select(\"name\", upperUDF(\"name\")).show()"
      ],
      "metadata": {
        "id": "xT1rZyRQAiiv",
        "colab": {
          "base_uri": "https://localhost:8080/"
        },
        "outputId": "9e672bc7-4f9f-4ea0-c170-e51e78c0eeb5"
      },
      "execution_count": null,
      "outputs": [
        {
          "output_type": "stream",
          "name": "stdout",
          "text": [
            "+------------+---------------+\n",
            "|        name|upper_udf(name)|\n",
            "+------------+---------------+\n",
            "|  john jones|     JOHN JONES|\n",
            "|tracey smith|   TRACEY SMITH|\n",
            "| amy sanders|    AMY SANDERS|\n",
            "+------------+---------------+\n",
            "\n"
          ]
        }
      ]
    },
    {
      "cell_type": "code",
      "source": [
        "df.createOrReplaceTempView(\"test\")\n",
        "spark.sql(\"\"\"\n",
        "    SELECT name, upper_udf(name) `Curated Name` FROM test\n",
        "\"\"\").show()"
      ],
      "metadata": {
        "id": "DbWWdo5yiNeC",
        "colab": {
          "base_uri": "https://localhost:8080/"
        },
        "outputId": "ae470c93-823f-43e7-f6f0-e5839a029e97"
      },
      "execution_count": null,
      "outputs": [
        {
          "output_type": "stream",
          "name": "stdout",
          "text": [
            "+------------+------------+\n",
            "|        name|Curated Name|\n",
            "+------------+------------+\n",
            "|  john jones|  JOHN JONES|\n",
            "|tracey smith|TRACEY SMITH|\n",
            "| amy sanders| AMY SANDERS|\n",
            "+------------+------------+\n",
            "\n"
          ]
        }
      ]
    },
    {
      "cell_type": "markdown",
      "source": [
        "### Dataframe/SQL에 UDF 사용해보기 #2"
      ],
      "metadata": {
        "id": "8QpdtxF-b71e"
      }
    },
    {
      "cell_type": "code",
      "source": [
        "data = [\n",
        "    {\"a\": 1, \"b\": 2},\n",
        "    {\"a\": 5, \"b\": 5}\n",
        "]\n",
        "\n",
        "df = spark.createDataFrame(data)\n",
        "df.withColumn(\"c\", F.udf(lambda x, y: x + y)(\"a\", \"b\")).show()"
      ],
      "metadata": {
        "id": "13paKmIvb94G",
        "colab": {
          "base_uri": "https://localhost:8080/"
        },
        "outputId": "623aaca5-4a0f-48ae-eec6-4add2cfacb79"
      },
      "execution_count": null,
      "outputs": [
        {
          "output_type": "stream",
          "name": "stdout",
          "text": [
            "+---+---+---+\n",
            "|  a|  b|  c|\n",
            "+---+---+---+\n",
            "|  1|  2|  3|\n",
            "|  5|  5| 10|\n",
            "+---+---+---+\n",
            "\n"
          ]
        }
      ]
    },
    {
      "cell_type": "code",
      "source": [
        "def plus(x, y):\n",
        "    return x + y\n",
        "\n",
        "plusUDF = spark.udf.register(\"plus\", plus)\n",
        "spark.sql(\"SELECT plus(1, 2) sum\").show()"
      ],
      "metadata": {
        "id": "9woeBW-KdM-r",
        "colab": {
          "base_uri": "https://localhost:8080/"
        },
        "outputId": "d5c789fe-87b6-4f27-81ed-9ad72ab9610a"
      },
      "execution_count": null,
      "outputs": [
        {
          "output_type": "stream",
          "name": "stdout",
          "text": [
            "+---+\n",
            "|sum|\n",
            "+---+\n",
            "|  3|\n",
            "+---+\n",
            "\n"
          ]
        }
      ]
    },
    {
      "cell_type": "code",
      "source": [
        "df.withColumn(\"p\", plusUDF(\"a\", \"b\")).show()"
      ],
      "metadata": {
        "id": "DdmVRqUcjwmi",
        "colab": {
          "base_uri": "https://localhost:8080/"
        },
        "outputId": "80684395-4e59-4de9-9eb4-757c60f5a7fc"
      },
      "execution_count": null,
      "outputs": [
        {
          "output_type": "stream",
          "name": "stdout",
          "text": [
            "+---+---+---+\n",
            "|  a|  b|  p|\n",
            "+---+---+---+\n",
            "|  1|  2|  3|\n",
            "|  5|  5| 10|\n",
            "+---+---+---+\n",
            "\n"
          ]
        }
      ]
    },
    {
      "cell_type": "code",
      "source": [
        "df.createOrReplaceTempView(\"test\")\n",
        "spark.sql(\"SELECT a, b, plus(a, b) p FROM test\").show()"
      ],
      "metadata": {
        "id": "w_j1RJQihulF",
        "colab": {
          "base_uri": "https://localhost:8080/"
        },
        "outputId": "c7bd9c12-9e0f-4a0c-e42d-c9dc1cb2b6a8"
      },
      "execution_count": null,
      "outputs": [
        {
          "output_type": "stream",
          "name": "stdout",
          "text": [
            "+---+---+---+\n",
            "|  a|  b|  p|\n",
            "+---+---+---+\n",
            "|  1|  2|  3|\n",
            "|  5|  5| 10|\n",
            "+---+---+---+\n",
            "\n"
          ]
        }
      ]
    },
    {
      "cell_type": "markdown",
      "source": [
        "### Dataframe에 UDAF 사용해보기"
      ],
      "metadata": {
        "id": "AD5LoMHATNWp"
      }
    },
    {
      "cell_type": "code",
      "source": [
        "from pyspark.sql.functions import pandas_udf\n",
        "import pandas as pd\n",
        "\n",
        "# Define the UDF\n",
        "@pandas_udf(FloatType())\n",
        "def average_udf_f(v: pd.Series) -> float:\n",
        "    return v.mean()\n",
        "\n",
        "averageUDF = spark.udf.register('average_udf', average_udf_f)\n",
        "spark.sql('SELECT average_udf(a) FROM test').show()"
      ],
      "metadata": {
        "id": "R3_fbjsGp65Q",
        "colab": {
          "base_uri": "https://localhost:8080/"
        },
        "outputId": "3edc0e98-8e3f-4bd3-db2a-a7a4ecfcfbc1"
      },
      "execution_count": null,
      "outputs": [
        {
          "output_type": "stream",
          "name": "stdout",
          "text": [
            "+--------------+\n",
            "|average_udf(a)|\n",
            "+--------------+\n",
            "|           3.0|\n",
            "+--------------+\n",
            "\n"
          ]
        }
      ]
    },
    {
      "cell_type": "code",
      "source": [
        "df.agg(averageUDF(\"b\").alias(\"count\")).show()"
      ],
      "metadata": {
        "id": "Lhcp9zJVTshw",
        "colab": {
          "base_uri": "https://localhost:8080/"
        },
        "outputId": "ca67a5af-7957-4025-d790-91df7dab70aa"
      },
      "execution_count": null,
      "outputs": [
        {
          "output_type": "stream",
          "name": "stdout",
          "text": [
            "+-----+\n",
            "|count|\n",
            "+-----+\n",
            "|  3.5|\n",
            "+-----+\n",
            "\n"
          ]
        }
      ]
    },
    {
      "cell_type": "markdown",
      "source": [
        "### DataFrame에 explode 사용해보기"
      ],
      "metadata": {
        "id": "YV16sPAT04lt"
      }
    },
    {
      "cell_type": "code",
      "source": [
        "arrayData = [\n",
        "        ('James',['Java','Scala'],{'hair':'black','eye':'brown'}),\n",
        "        ('Michael',['Spark','Java',None],{'hair':'brown','eye':None}),\n",
        "        ('Robert',['CSharp',''],{'hair':'red','eye':''}),\n",
        "        ('Washington',None,None),\n",
        "        ('Jefferson',['1','2'],{})]\n",
        "\n",
        "df = spark.createDataFrame(data=arrayData, schema = ['name','knownLanguages','properties'])\n",
        "df.show()"
      ],
      "metadata": {
        "id": "LS9KwY0rwDlS",
        "colab": {
          "base_uri": "https://localhost:8080/"
        },
        "outputId": "c0677140-b4ac-4f68-83d8-70218b37f36e"
      },
      "execution_count": null,
      "outputs": [
        {
          "output_type": "stream",
          "name": "stdout",
          "text": [
            "+----------+-------------------+--------------------+\n",
            "|      name|     knownLanguages|          properties|\n",
            "+----------+-------------------+--------------------+\n",
            "|     James|      [Java, Scala]|{eye -> brown, ha...|\n",
            "|   Michael|[Spark, Java, NULL]|{eye -> NULL, hai...|\n",
            "|    Robert|         [CSharp, ]|{eye -> , hair ->...|\n",
            "|Washington|               NULL|                NULL|\n",
            "| Jefferson|             [1, 2]|                  {}|\n",
            "+----------+-------------------+--------------------+\n",
            "\n"
          ]
        }
      ]
    },
    {
      "cell_type": "code",
      "source": [
        "# knownLanguages 필드를 언어별로 짤라서 새로운 레코드로 생성\n",
        "from pyspark.sql.functions import explode\n",
        "df2 = df.select(df.name,explode(df.knownLanguages))\n",
        "df2.printSchema()\n",
        "df2.show()"
      ],
      "metadata": {
        "id": "k4XVv0SdzQmV",
        "colab": {
          "base_uri": "https://localhost:8080/"
        },
        "outputId": "9989994b-a167-4399-8580-0018e0d07e0b"
      },
      "execution_count": null,
      "outputs": [
        {
          "output_type": "stream",
          "name": "stdout",
          "text": [
            "root\n",
            " |-- name: string (nullable = true)\n",
            " |-- col: string (nullable = true)\n",
            "\n",
            "+---------+------+\n",
            "|     name|   col|\n",
            "+---------+------+\n",
            "|    James|  Java|\n",
            "|    James| Scala|\n",
            "|  Michael| Spark|\n",
            "|  Michael|  Java|\n",
            "|  Michael|  NULL|\n",
            "|   Robert|CSharp|\n",
            "|   Robert|      |\n",
            "|Jefferson|     1|\n",
            "|Jefferson|     2|\n",
            "+---------+------+\n",
            "\n"
          ]
        }
      ]
    },
    {
      "cell_type": "markdown",
      "source": [
        "### 하나의 레코드에서 다수의 레코드를 만들어내는 예제 (Order to 1+ Items)"
      ],
      "metadata": {
        "id": "izkEXdR-npYL"
      }
    },
    {
      "cell_type": "code",
      "source": [
        "!wget https://s3-geospatial.s3.us-west-2.amazonaws.com/orders.csv"
      ],
      "metadata": {
        "id": "19eOUOSAnsBx",
        "colab": {
          "base_uri": "https://localhost:8080/"
        },
        "outputId": "41352812-959c-49c8-83db-0b4dbaff672e"
      },
      "execution_count": null,
      "outputs": [
        {
          "output_type": "stream",
          "name": "stdout",
          "text": [
            "--2025-02-07 09:03:17--  https://s3-geospatial.s3.us-west-2.amazonaws.com/orders.csv\n",
            "Resolving s3-geospatial.s3.us-west-2.amazonaws.com (s3-geospatial.s3.us-west-2.amazonaws.com)... 52.92.208.82, 52.92.226.250, 3.5.78.146, ...\n",
            "Connecting to s3-geospatial.s3.us-west-2.amazonaws.com (s3-geospatial.s3.us-west-2.amazonaws.com)|52.92.208.82|:443... connected.\n",
            "HTTP request sent, awaiting response... 200 OK\n",
            "Length: 89951 (88K) [text/csv]\n",
            "Saving to: ‘orders.csv’\n",
            "\n",
            "orders.csv          100%[===================>]  87.84K  --.-KB/s    in 0.08s   \n",
            "\n",
            "2025-02-07 09:03:17 (1.03 MB/s) - ‘orders.csv’ saved [89951/89951]\n",
            "\n"
          ]
        }
      ]
    },
    {
      "cell_type": "code",
      "source": [
        "!head -5 orders.csv"
      ],
      "metadata": {
        "id": "WaeUILJkVV-o",
        "colab": {
          "base_uri": "https://localhost:8080/"
        },
        "outputId": "900cb750-a7f9-422c-9e7e-022f647b9aca"
      },
      "execution_count": null,
      "outputs": [
        {
          "output_type": "stream",
          "name": "stdout",
          "text": [
            "order_id\titems\n",
            "860196503764\t[{\"name\": \"DAILY SPF\", \"quantity\": 1, \"id\": 1883727790094}]\n",
            "860292645076\t[{\"name\": \"DAILY SPF \\u2014 Bundle Set\", \"quantity\": 1, \"id\": 1883875377166}]\n",
            "860320956628\t[{\"name\": \"DAILY SPF\", \"quantity\": 1, \"id\": 1883919974414}]\n",
            "860321513684\t[{\"name\": \"DAILY SPF\", \"quantity\": 1, \"id\": 1883920793614}]\n"
          ]
        }
      ]
    },
    {
      "cell_type": "markdown",
      "source": [
        "### Spark으로 해보기"
      ],
      "metadata": {
        "id": "uBXdq3jqPwur"
      }
    },
    {
      "cell_type": "code",
      "source": [
        "from pyspark.sql.functions import *\n",
        "from pyspark.sql.types import StructType, StructField, StringType, ArrayType, LongType\n",
        "\n",
        "order = spark.read.options(delimiter='\\t').option(\"header\",\"true\").csv(\"orders.csv\")"
      ],
      "metadata": {
        "id": "noGe8odRnuxd"
      },
      "execution_count": null,
      "outputs": []
    },
    {
      "cell_type": "code",
      "source": [
        "order.show()"
      ],
      "metadata": {
        "id": "KHYN-yq6oAXS",
        "colab": {
          "base_uri": "https://localhost:8080/"
        },
        "outputId": "ddbbfb2e-06da-4746-ef35-0f85ea58e9c6"
      },
      "execution_count": null,
      "outputs": [
        {
          "output_type": "stream",
          "name": "stdout",
          "text": [
            "+------------+--------------------+\n",
            "|    order_id|               items|\n",
            "+------------+--------------------+\n",
            "|860196503764|[{\"name\": \"DAILY ...|\n",
            "|860292645076|[{\"name\": \"DAILY ...|\n",
            "|860320956628|[{\"name\": \"DAILY ...|\n",
            "|860321513684|[{\"name\": \"DAILY ...|\n",
            "|862930665684|[{\"name\": \"DAILY ...|\n",
            "|862975819988|[{\"name\": \"DAILY ...|\n",
            "|862985191636|[{\"name\": \"DAILY ...|\n",
            "|870939295956|[{\"name\": \"DAILY ...|\n",
            "|880188063956|[{\"name\": \"DAILY ...|\n",
            "|933014601940|[{\"name\": \"DAILY ...|\n",
            "|934065930452|[{\"name\": \"DAILY ...|\n",
            "|938210722004|[{\"name\": \"DAILY ...|\n",
            "|944748331220|[{\"name\": \"DAILY ...|\n",
            "|862843896020|[{\"name\": \"DAILY ...|\n",
            "|862959763668|[{\"name\": \"DAILY ...|\n",
            "|870966558932|[{\"name\": \"DAILY ...|\n",
            "|887936647380|[{\"name\": \"DAILY ...|\n",
            "|908426477780|[{\"name\": \"DAILY ...|\n",
            "|921300107476|[{\"name\": \"DAILY ...|\n",
            "|932229710036|[{\"name\": \"DAILY ...|\n",
            "+------------+--------------------+\n",
            "only showing top 20 rows\n",
            "\n"
          ]
        }
      ]
    },
    {
      "cell_type": "code",
      "source": [
        "order.printSchema()"
      ],
      "metadata": {
        "id": "7uJgS3zQWy4k",
        "colab": {
          "base_uri": "https://localhost:8080/"
        },
        "outputId": "b5a577d2-538f-42c1-e7be-aa8eaf0b25e5"
      },
      "execution_count": null,
      "outputs": [
        {
          "output_type": "stream",
          "name": "stdout",
          "text": [
            "root\n",
            " |-- order_id: string (nullable = true)\n",
            " |-- items: string (nullable = true)\n",
            "\n"
          ]
        }
      ]
    },
    {
      "cell_type": "code",
      "source": [
        "# 데이터프레임을 이용해서 해보기\n",
        "struct = ArrayType(\n",
        "    StructType([\n",
        "        StructField(\"name\", StringType()),\n",
        "        StructField(\"id\", StringType()),\n",
        "        StructField(\"quantity\", LongType())\n",
        "    ])\n",
        ")"
      ],
      "metadata": {
        "id": "MzIUYg-xrdnL"
      },
      "execution_count": null,
      "outputs": []
    },
    {
      "cell_type": "code",
      "source": [
        "order.withColumn(\"item\", explode(from_json(\"items\", struct))).show(truncate=False)"
      ],
      "metadata": {
        "id": "dhfm4QaEY1-K",
        "colab": {
          "base_uri": "https://localhost:8080/"
        },
        "outputId": "bc205fa1-0235-4d2e-ca48-64946e849e0f"
      },
      "execution_count": null,
      "outputs": [
        {
          "output_type": "stream",
          "name": "stdout",
          "text": [
            "+------------+-----------------------------------------------------------------------------+------------------------------------------+\n",
            "|order_id    |items                                                                        |item                                      |\n",
            "+------------+-----------------------------------------------------------------------------+------------------------------------------+\n",
            "|860196503764|[{\"name\": \"DAILY SPF\", \"quantity\": 1, \"id\": 1883727790094}]                  |{DAILY SPF, 1883727790094, 1}             |\n",
            "|860292645076|[{\"name\": \"DAILY SPF \\u2014 Bundle Set\", \"quantity\": 1, \"id\": 1883875377166}]|{DAILY SPF — Bundle Set, 1883875377166, 1}|\n",
            "|860320956628|[{\"name\": \"DAILY SPF\", \"quantity\": 1, \"id\": 1883919974414}]                  |{DAILY SPF, 1883919974414, 1}             |\n",
            "|860321513684|[{\"name\": \"DAILY SPF\", \"quantity\": 1, \"id\": 1883920793614}]                  |{DAILY SPF, 1883920793614, 1}             |\n",
            "|862930665684|[{\"name\": \"DAILY SPF\", \"quantity\": 1, \"id\": 1887913672718}]                  |{DAILY SPF, 1887913672718, 1}             |\n",
            "|862975819988|[{\"name\": \"DAILY SPF\", \"quantity\": 1, \"id\": 1887985827854}]                  |{DAILY SPF, 1887985827854, 1}             |\n",
            "|862985191636|[{\"name\": \"DAILY SPF \\u2014 Bundle Set\", \"quantity\": 1, \"id\": 1887999164430}]|{DAILY SPF — Bundle Set, 1887999164430, 1}|\n",
            "|870939295956|[{\"name\": \"DAILY SPF\", \"quantity\": 1, \"id\": 1900142264334}]                  |{DAILY SPF, 1900142264334, 1}             |\n",
            "|880188063956|[{\"name\": \"DAILY SPF\", \"quantity\": 1, \"id\": 1914170572814}]                  |{DAILY SPF, 1914170572814, 1}             |\n",
            "|933014601940|[{\"name\": \"DAILY SPF\", \"quantity\": 1, \"id\": 1995572117518}]                  |{DAILY SPF, 1995572117518, 1}             |\n",
            "|934065930452|[{\"name\": \"DAILY SPF\", \"quantity\": 1, \"id\": 1997094813710}]                  |{DAILY SPF, 1997094813710, 1}             |\n",
            "|938210722004|[{\"name\": \"DAILY SPF\", \"quantity\": 1, \"id\": 2003241992206}]                  |{DAILY SPF, 2003241992206, 1}             |\n",
            "|944748331220|[{\"name\": \"DAILY SPF\", \"quantity\": 1, \"id\": 2013027794958}]                  |{DAILY SPF, 2013027794958, 1}             |\n",
            "|862843896020|[{\"name\": \"DAILY SPF \\u2014 Bundle Set\", \"quantity\": 1, \"id\": 1887779946510}]|{DAILY SPF — Bundle Set, 1887779946510, 1}|\n",
            "|862959763668|[{\"name\": \"DAILY SPF\", \"quantity\": 1, \"id\": 1887960727566}]                  |{DAILY SPF, 1887960727566, 1}             |\n",
            "|870966558932|[{\"name\": \"DAILY SPF\", \"quantity\": 1, \"id\": 1900184338446}]                  |{DAILY SPF, 1900184338446, 1}             |\n",
            "|887936647380|[{\"name\": \"DAILY SPF\", \"quantity\": 1, \"id\": 1926287851534}]                  |{DAILY SPF, 1926287851534, 1}             |\n",
            "|908426477780|[{\"name\": \"DAILY SPF\", \"quantity\": 1, \"id\": 1960246870030}]                  |{DAILY SPF, 1960246870030, 1}             |\n",
            "|921300107476|[{\"name\": \"DAILY SPF\", \"quantity\": 1, \"id\": 1979032993806}]                  |{DAILY SPF, 1979032993806, 1}             |\n",
            "|932229710036|[{\"name\": \"DAILY SPF\", \"quantity\": 1, \"id\": 1994496901134}]                  |{DAILY SPF, 1994496901134, 1}             |\n",
            "+------------+-----------------------------------------------------------------------------+------------------------------------------+\n",
            "only showing top 20 rows\n",
            "\n"
          ]
        }
      ]
    },
    {
      "cell_type": "code",
      "source": [
        "order_items = order.withColumn(\"item\", explode(from_json(\"items\", struct))).drop(\"items\")"
      ],
      "metadata": {
        "id": "ZhBVvmMKYyfQ"
      },
      "execution_count": null,
      "outputs": []
    },
    {
      "cell_type": "code",
      "source": [
        "order_items.show(5)"
      ],
      "metadata": {
        "id": "iE4F7-EH2nqb",
        "colab": {
          "base_uri": "https://localhost:8080/"
        },
        "outputId": "a484fc40-756e-47c4-f70f-98e97a483f95"
      },
      "execution_count": null,
      "outputs": [
        {
          "output_type": "stream",
          "name": "stdout",
          "text": [
            "+------------+--------------------+\n",
            "|    order_id|                item|\n",
            "+------------+--------------------+\n",
            "|860196503764|{DAILY SPF, 18837...|\n",
            "|860292645076|{DAILY SPF — Bund...|\n",
            "|860320956628|{DAILY SPF, 18839...|\n",
            "|860321513684|{DAILY SPF, 18839...|\n",
            "|862930665684|{DAILY SPF, 18879...|\n",
            "+------------+--------------------+\n",
            "only showing top 5 rows\n",
            "\n"
          ]
        }
      ]
    },
    {
      "cell_type": "code",
      "source": [
        "order_items.printSchema()"
      ],
      "metadata": {
        "colab": {
          "base_uri": "https://localhost:8080/"
        },
        "id": "nzHUswiPjZv0",
        "outputId": "69461a68-d8b6-4cda-d0fa-e9999b8c17f6"
      },
      "execution_count": null,
      "outputs": [
        {
          "output_type": "stream",
          "name": "stdout",
          "text": [
            "root\n",
            " |-- order_id: string (nullable = true)\n",
            " |-- item: struct (nullable = true)\n",
            " |    |-- name: string (nullable = true)\n",
            " |    |-- id: string (nullable = true)\n",
            " |    |-- quantity: long (nullable = true)\n",
            "\n"
          ]
        }
      ]
    },
    {
      "cell_type": "code",
      "source": [
        "order_items.createOrReplaceTempView(\"order_items\")"
      ],
      "metadata": {
        "id": "ZicsGY6d2yui"
      },
      "execution_count": null,
      "outputs": []
    },
    {
      "cell_type": "code",
      "source": [
        "spark.sql(\"\"\"\n",
        "    SELECT order_id, CAST(average_udf(item.quantity) as decimal) avg_count\n",
        "    FROM order_items\n",
        "    GROUP BY 1\n",
        "    ORDER BY 2 DESC\"\"\").show(5)"
      ],
      "metadata": {
        "id": "EkKpLPoj25kX",
        "colab": {
          "base_uri": "https://localhost:8080/"
        },
        "outputId": "64ecf234-e8ef-4464-d8da-7ecdde603e9e"
      },
      "execution_count": null,
      "outputs": [
        {
          "output_type": "stream",
          "name": "stdout",
          "text": [
            "+-------------+---------+\n",
            "|     order_id|avg_count|\n",
            "+-------------+---------+\n",
            "|1816674631892|      500|\n",
            "|1821860430036|      300|\n",
            "|2186043064532|      208|\n",
            "|2118824558804|      200|\n",
            "|2143034474708|      200|\n",
            "+-------------+---------+\n",
            "only showing top 5 rows\n",
            "\n"
          ]
        }
      ]
    },
    {
      "cell_type": "code",
      "source": [
        "spark.sql(\"\"\"SELECT item.quantity FROM order_items WHERE order_id = '1816674631892'\"\"\").show()"
      ],
      "metadata": {
        "colab": {
          "base_uri": "https://localhost:8080/"
        },
        "id": "v2ztg-puj10J",
        "outputId": "effd2296-7040-4786-f58a-6526e627885f"
      },
      "execution_count": null,
      "outputs": [
        {
          "output_type": "stream",
          "name": "stdout",
          "text": [
            "+--------+\n",
            "|quantity|\n",
            "+--------+\n",
            "|     500|\n",
            "+--------+\n",
            "\n"
          ]
        }
      ]
    },
    {
      "cell_type": "code",
      "source": [
        "spark.catalog.listTables()"
      ],
      "metadata": {
        "id": "iGSo9VEAaDaL",
        "colab": {
          "base_uri": "https://localhost:8080/"
        },
        "outputId": "a67035a5-baa9-44c1-ced1-8a562b541d6d"
      },
      "execution_count": null,
      "outputs": [
        {
          "output_type": "execute_result",
          "data": {
            "text/plain": [
              "[Table(name='order_items', catalog=None, namespace=[], description=None, tableType='TEMPORARY', isTemporary=True),\n",
              " Table(name='test', catalog=None, namespace=[], description=None, tableType='TEMPORARY', isTemporary=True)]"
            ]
          },
          "metadata": {},
          "execution_count": 34
        }
      ]
    },
    {
      "cell_type": "code",
      "source": [
        "for f in spark.catalog.listFunctions():\n",
        "    print(f[0])"
      ],
      "metadata": {
        "id": "l-h5OW7Ymog8",
        "colab": {
          "base_uri": "https://localhost:8080/"
        },
        "outputId": "cb5d39cb-5881-4bb8-9365-3ba467b8c665"
      },
      "execution_count": null,
      "outputs": [
        {
          "output_type": "stream",
          "name": "stdout",
          "text": [
            "!\n",
            "!=\n",
            "%\n",
            "&\n",
            "*\n",
            "+\n",
            "-\n",
            "/\n",
            "<\n",
            "<=\n",
            "<=>\n",
            "<>\n",
            "=\n",
            "==\n",
            ">\n",
            ">=\n",
            "^\n",
            "abs\n",
            "acos\n",
            "acosh\n",
            "add_months\n",
            "aes_decrypt\n",
            "aes_encrypt\n",
            "aggregate\n",
            "and\n",
            "any\n",
            "any_value\n",
            "approx_count_distinct\n",
            "approx_percentile\n",
            "array\n",
            "array_agg\n",
            "array_append\n",
            "array_compact\n",
            "array_contains\n",
            "array_distinct\n",
            "array_except\n",
            "array_insert\n",
            "array_intersect\n",
            "array_join\n",
            "array_max\n",
            "array_min\n",
            "array_position\n",
            "array_prepend\n",
            "array_remove\n",
            "array_repeat\n",
            "array_size\n",
            "array_sort\n",
            "array_union\n",
            "arrays_overlap\n",
            "arrays_zip\n",
            "ascii\n",
            "asin\n",
            "asinh\n",
            "assert_true\n",
            "atan\n",
            "atan2\n",
            "atanh\n",
            "avg\n",
            "base64\n",
            "between\n",
            "bigint\n",
            "bin\n",
            "binary\n",
            "bit_and\n",
            "bit_count\n",
            "bit_get\n",
            "bit_length\n",
            "bit_or\n",
            "bit_xor\n",
            "bitmap_bit_position\n",
            "bitmap_bucket_number\n",
            "bitmap_construct_agg\n",
            "bitmap_count\n",
            "bitmap_or_agg\n",
            "bool_and\n",
            "bool_or\n",
            "boolean\n",
            "bround\n",
            "btrim\n",
            "cardinality\n",
            "case\n",
            "cast\n",
            "cbrt\n",
            "ceil\n",
            "ceiling\n",
            "char\n",
            "char_length\n",
            "character_length\n",
            "chr\n",
            "coalesce\n",
            "collect_list\n",
            "collect_set\n",
            "concat\n",
            "concat_ws\n",
            "contains\n",
            "conv\n",
            "convert_timezone\n",
            "corr\n",
            "cos\n",
            "cosh\n",
            "cot\n",
            "count\n",
            "count_if\n",
            "count_min_sketch\n",
            "covar_pop\n",
            "covar_samp\n",
            "crc32\n",
            "csc\n",
            "cume_dist\n",
            "curdate\n",
            "current_catalog\n",
            "current_database\n",
            "current_date\n",
            "current_schema\n",
            "current_timestamp\n",
            "current_timezone\n",
            "current_user\n",
            "date\n",
            "date_add\n",
            "date_diff\n",
            "date_format\n",
            "date_from_unix_date\n",
            "date_part\n",
            "date_sub\n",
            "date_trunc\n",
            "dateadd\n",
            "datediff\n",
            "datepart\n",
            "day\n",
            "dayofmonth\n",
            "dayofweek\n",
            "dayofyear\n",
            "decimal\n",
            "decode\n",
            "degrees\n",
            "dense_rank\n",
            "div\n",
            "double\n",
            "e\n",
            "element_at\n",
            "elt\n",
            "encode\n",
            "endswith\n",
            "equal_null\n",
            "every\n",
            "exists\n",
            "exp\n",
            "explode\n",
            "explode_outer\n",
            "expm1\n",
            "extract\n",
            "factorial\n",
            "filter\n",
            "find_in_set\n",
            "first\n",
            "first_value\n",
            "flatten\n",
            "float\n",
            "floor\n",
            "forall\n",
            "format_number\n",
            "format_string\n",
            "from_csv\n",
            "from_json\n",
            "from_unixtime\n",
            "from_utc_timestamp\n",
            "get\n",
            "get_json_object\n",
            "getbit\n",
            "greatest\n",
            "grouping\n",
            "grouping_id\n",
            "hash\n",
            "hex\n",
            "histogram_numeric\n",
            "hll_sketch_agg\n",
            "hll_sketch_estimate\n",
            "hll_union\n",
            "hll_union_agg\n",
            "hour\n",
            "hypot\n",
            "if\n",
            "ifnull\n",
            "ilike\n",
            "in\n",
            "initcap\n",
            "inline\n",
            "inline_outer\n",
            "input_file_block_length\n",
            "input_file_block_start\n",
            "input_file_name\n",
            "instr\n",
            "int\n",
            "isnan\n",
            "isnotnull\n",
            "isnull\n",
            "java_method\n",
            "json_array_length\n",
            "json_object_keys\n",
            "json_tuple\n",
            "kurtosis\n",
            "lag\n",
            "last\n",
            "last_day\n",
            "last_value\n",
            "lcase\n",
            "lead\n",
            "least\n",
            "left\n",
            "len\n",
            "length\n",
            "levenshtein\n",
            "like\n",
            "ln\n",
            "localtimestamp\n",
            "locate\n",
            "log\n",
            "log10\n",
            "log1p\n",
            "log2\n",
            "lower\n",
            "lpad\n",
            "ltrim\n",
            "luhn_check\n",
            "make_date\n",
            "make_dt_interval\n",
            "make_interval\n",
            "make_timestamp\n",
            "make_timestamp_ltz\n",
            "make_timestamp_ntz\n",
            "make_ym_interval\n",
            "map\n",
            "map_concat\n",
            "map_contains_key\n",
            "map_entries\n",
            "map_filter\n",
            "map_from_arrays\n",
            "map_from_entries\n",
            "map_keys\n",
            "map_values\n",
            "map_zip_with\n",
            "mask\n",
            "max\n",
            "max_by\n",
            "md5\n",
            "mean\n",
            "median\n",
            "min\n",
            "min_by\n",
            "minute\n",
            "mod\n",
            "mode\n",
            "monotonically_increasing_id\n",
            "month\n",
            "months_between\n",
            "named_struct\n",
            "nanvl\n",
            "negative\n",
            "next_day\n",
            "not\n",
            "now\n",
            "nth_value\n",
            "ntile\n",
            "nullif\n",
            "nvl\n",
            "nvl2\n",
            "octet_length\n",
            "or\n",
            "overlay\n",
            "parse_url\n",
            "percent_rank\n",
            "percentile\n",
            "percentile_approx\n",
            "pi\n",
            "pmod\n",
            "posexplode\n",
            "posexplode_outer\n",
            "position\n",
            "positive\n",
            "pow\n",
            "power\n",
            "printf\n",
            "quarter\n",
            "radians\n",
            "raise_error\n",
            "rand\n",
            "randn\n",
            "random\n",
            "range\n",
            "rank\n",
            "reduce\n",
            "reflect\n",
            "regexp\n",
            "regexp_count\n",
            "regexp_extract\n",
            "regexp_extract_all\n",
            "regexp_instr\n",
            "regexp_like\n",
            "regexp_replace\n",
            "regexp_substr\n",
            "regr_avgx\n",
            "regr_avgy\n",
            "regr_count\n",
            "regr_intercept\n",
            "regr_r2\n",
            "regr_slope\n",
            "regr_sxx\n",
            "regr_sxy\n",
            "regr_syy\n",
            "repeat\n",
            "replace\n",
            "reverse\n",
            "right\n",
            "rint\n",
            "rlike\n",
            "round\n",
            "row_number\n",
            "rpad\n",
            "rtrim\n",
            "schema_of_csv\n",
            "schema_of_json\n",
            "sec\n",
            "second\n",
            "sentences\n",
            "sequence\n",
            "session_window\n",
            "sha\n",
            "sha1\n",
            "sha2\n",
            "shiftleft\n",
            "shiftright\n",
            "shiftrightunsigned\n",
            "shuffle\n",
            "sign\n",
            "signum\n",
            "sin\n",
            "sinh\n",
            "size\n",
            "skewness\n",
            "slice\n",
            "smallint\n",
            "some\n",
            "sort_array\n",
            "soundex\n",
            "space\n",
            "spark_partition_id\n",
            "split\n",
            "split_part\n",
            "sql_keywords\n",
            "sqrt\n",
            "stack\n",
            "startswith\n",
            "std\n",
            "stddev\n",
            "stddev_pop\n",
            "stddev_samp\n",
            "str_to_map\n",
            "string\n",
            "struct\n",
            "substr\n",
            "substring\n",
            "substring_index\n",
            "sum\n",
            "tan\n",
            "tanh\n",
            "timestamp\n",
            "timestamp_micros\n",
            "timestamp_millis\n",
            "timestamp_seconds\n",
            "tinyint\n",
            "to_binary\n",
            "to_char\n",
            "to_csv\n",
            "to_date\n",
            "to_json\n",
            "to_number\n",
            "to_timestamp\n",
            "to_timestamp_ltz\n",
            "to_timestamp_ntz\n",
            "to_unix_timestamp\n",
            "to_utc_timestamp\n",
            "to_varchar\n",
            "transform\n",
            "transform_keys\n",
            "transform_values\n",
            "translate\n",
            "trim\n",
            "trunc\n",
            "try_add\n",
            "try_aes_decrypt\n",
            "try_avg\n",
            "try_divide\n",
            "try_element_at\n",
            "try_multiply\n",
            "try_subtract\n",
            "try_sum\n",
            "try_to_binary\n",
            "try_to_number\n",
            "try_to_timestamp\n",
            "typeof\n",
            "ucase\n",
            "unbase64\n",
            "unhex\n",
            "unix_date\n",
            "unix_micros\n",
            "unix_millis\n",
            "unix_seconds\n",
            "unix_timestamp\n",
            "upper\n",
            "url_decode\n",
            "url_encode\n",
            "user\n",
            "uuid\n",
            "var_pop\n",
            "var_samp\n",
            "variance\n",
            "version\n",
            "weekday\n",
            "weekofyear\n",
            "when\n",
            "width_bucket\n",
            "window\n",
            "window_time\n",
            "xpath\n",
            "xpath_boolean\n",
            "xpath_double\n",
            "xpath_float\n",
            "xpath_int\n",
            "xpath_long\n",
            "xpath_number\n",
            "xpath_short\n",
            "xpath_string\n",
            "xxhash64\n",
            "year\n",
            "zip_with\n",
            "|\n",
            "||\n",
            "~\n",
            "average_udf\n",
            "plus\n",
            "upper_udf\n"
          ]
        }
      ]
    }
  ]
}