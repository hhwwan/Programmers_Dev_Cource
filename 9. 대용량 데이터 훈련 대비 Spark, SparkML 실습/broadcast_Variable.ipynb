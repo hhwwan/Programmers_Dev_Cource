{
  "nbformat": 4,
  "nbformat_minor": 0,
  "metadata": {
    "colab": {
      "provenance": [],
      "authorship_tag": "ABX9TyPaNu2jffXIOj4KqoL00JIM",
      "include_colab_link": true
    },
    "kernelspec": {
      "name": "python3",
      "display_name": "Python 3"
    },
    "language_info": {
      "name": "python"
    }
  },
  "cells": [
    {
      "cell_type": "markdown",
      "metadata": {
        "id": "view-in-github",
        "colab_type": "text"
      },
      "source": [
        "<a href=\"https://colab.research.google.com/github/hhwwan/Programmers_Dev_Course/blob/main/broadcast_Variable.ipynb\" target=\"_parent\"><img src=\"https://colab.research.google.com/assets/colab-badge.svg\" alt=\"Open In Colab\"/></a>"
      ]
    },
    {
      "cell_type": "code",
      "execution_count": 1,
      "metadata": {
        "colab": {
          "base_uri": "https://localhost:8080/"
        },
        "id": "sllfACceBAih",
        "outputId": "0270b85a-a0ba-4587-8273-b434b1abb434"
      },
      "outputs": [
        {
          "output_type": "stream",
          "name": "stdout",
          "text": [
            "Collecting pyspark==3.5.3\n",
            "  Downloading pyspark-3.5.3.tar.gz (317.3 MB)\n",
            "\u001b[2K     \u001b[90m━━━━━━━━━━━━━━━━━━━━━━━━━━━━━━━━━━━━━━━━\u001b[0m \u001b[32m317.3/317.3 MB\u001b[0m \u001b[31m4.7 MB/s\u001b[0m eta \u001b[36m0:00:00\u001b[0m\n",
            "\u001b[?25h  Preparing metadata (setup.py) ... \u001b[?25l\u001b[?25hdone\n",
            "Requirement already satisfied: py4j==0.10.9.7 in /usr/local/lib/python3.11/dist-packages (from pyspark==3.5.3) (0.10.9.7)\n",
            "Building wheels for collected packages: pyspark\n",
            "  Building wheel for pyspark (setup.py) ... \u001b[?25l\u001b[?25hdone\n",
            "  Created wheel for pyspark: filename=pyspark-3.5.3-py2.py3-none-any.whl size=317840625 sha256=497f689edeaae0cd13cff2a3e0b2c52c0b5fd96c4077d6652314b7a5b0c59845\n",
            "  Stored in directory: /root/.cache/pip/wheels/97/f5/c0/947e2c0942b361ffe58651f36bd7f13772675b3863fd63d1b1\n",
            "Successfully built pyspark\n",
            "Installing collected packages: pyspark\n",
            "  Attempting uninstall: pyspark\n",
            "    Found existing installation: pyspark 3.5.4\n",
            "    Uninstalling pyspark-3.5.4:\n",
            "      Successfully uninstalled pyspark-3.5.4\n",
            "Successfully installed pyspark-3.5.3\n"
          ]
        }
      ],
      "source": [
        "!pip install pyspark==3.5.3"
      ]
    },
    {
      "cell_type": "code",
      "source": [
        "!wget https://s3-geospatial.s3-us-west-2.amazonaws.com/Marvel_names.txt"
      ],
      "metadata": {
        "colab": {
          "base_uri": "https://localhost:8080/"
        },
        "id": "ZObXzK7EBEon",
        "outputId": "52c7520d-607b-4a4a-cdfc-111ab6acf9f6"
      },
      "execution_count": 2,
      "outputs": [
        {
          "output_type": "stream",
          "name": "stdout",
          "text": [
            "--2025-02-20 06:22:03--  https://s3-geospatial.s3-us-west-2.amazonaws.com/Marvel_names.txt\n",
            "Resolving s3-geospatial.s3-us-west-2.amazonaws.com (s3-geospatial.s3-us-west-2.amazonaws.com)... 3.5.78.172, 52.92.190.194, 52.92.147.242, ...\n",
            "Connecting to s3-geospatial.s3-us-west-2.amazonaws.com (s3-geospatial.s3-us-west-2.amazonaws.com)|3.5.78.172|:443... connected.\n",
            "HTTP request sent, awaiting response... 200 OK\n",
            "Length: 351848 (344K) [text/plain]\n",
            "Saving to: ‘Marvel_names.txt’\n",
            "\n",
            "Marvel_names.txt    100%[===================>] 343.60K  --.-KB/s    in 0.07s   \n",
            "\n",
            "2025-02-20 06:22:03 (4.69 MB/s) - ‘Marvel_names.txt’ saved [351848/351848]\n",
            "\n"
          ]
        }
      ]
    },
    {
      "cell_type": "code",
      "source": [
        "!head -5 Marvel_names.txt"
      ],
      "metadata": {
        "colab": {
          "base_uri": "https://localhost:8080/"
        },
        "id": "13_RcEdaBFPL",
        "outputId": "f98666cf-c3bf-42da-ee8c-23da38f26308"
      },
      "execution_count": 3,
      "outputs": [
        {
          "output_type": "stream",
          "name": "stdout",
          "text": [
            "1 \"24-HOUR MAN/EMMANUEL\"\r\n",
            "2 \"3-D MAN/CHARLES CHAN\"\r\n",
            "3 \"4-D MAN/MERCURIO\"\r\n",
            "4 \"8-BALL/\"\r\n",
            "5 \"A\"\r\n"
          ]
        }
      ]
    },
    {
      "cell_type": "code",
      "source": [
        "!wget https://s3-geospatial.s3-us-west-2.amazonaws.com/Marvel_graph.txt"
      ],
      "metadata": {
        "colab": {
          "base_uri": "https://localhost:8080/"
        },
        "id": "nvpKKCgkBFTl",
        "outputId": "d6b275bf-3aa1-4c45-c327-805c0365e8ef"
      },
      "execution_count": 4,
      "outputs": [
        {
          "output_type": "stream",
          "name": "stdout",
          "text": [
            "--2025-02-20 06:22:36--  https://s3-geospatial.s3-us-west-2.amazonaws.com/Marvel_graph.txt\n",
            "Resolving s3-geospatial.s3-us-west-2.amazonaws.com (s3-geospatial.s3-us-west-2.amazonaws.com)... 52.92.186.226, 3.5.83.140, 3.5.83.168, ...\n",
            "Connecting to s3-geospatial.s3-us-west-2.amazonaws.com (s3-geospatial.s3-us-west-2.amazonaws.com)|52.92.186.226|:443... connected.\n",
            "HTTP request sent, awaiting response... 200 OK\n",
            "Length: 1673543 (1.6M) [text/plain]\n",
            "Saving to: ‘Marvel_graph.txt’\n",
            "\n",
            "Marvel_graph.txt    100%[===================>]   1.60M  --.-KB/s    in 0.08s   \n",
            "\n",
            "2025-02-20 06:22:36 (18.9 MB/s) - ‘Marvel_graph.txt’ saved [1673543/1673543]\n",
            "\n"
          ]
        }
      ]
    },
    {
      "cell_type": "code",
      "source": [
        "!head -5 Marvel_graph.txt"
      ],
      "metadata": {
        "colab": {
          "base_uri": "https://localhost:8080/"
        },
        "id": "yzmmIkyKBFXp",
        "outputId": "5fb25c97-9030-4940-fe91-f39a331f8bd4"
      },
      "execution_count": 5,
      "outputs": [
        {
          "output_type": "stream",
          "name": "stdout",
          "text": [
            "5988 748 1722 3752 4655 5743 1872 3413 5527 6368 6085 4319 4728 1636 2397 3364 4001 1614 1819 1585 732 2660 3952 2507 3891 2070 2239 2602 612 1352 5447 4548 1596 5488 1605 5517 11 479 2554 2043 17 865 4292 6312 473 534 1479 6375 4456 \r\n",
            "5989 4080 4264 4446 3779 2430 2297 6169 3530 3272 4282 6432 2548 4140 185 105 3878 2429 1334 4595 2767 3956 3877 4776 4946 3407 128 269 5775 5121 481 5516 4758 4053 1044 1602 3889 1535 6038 533 3986 \r\n",
            "5982 217 595 1194 3308 2940 1815 794 1503 5197 859 5096 6039 2664 651 2244 528 284 1449 1097 1172 1092 108 3405 5204 387 4607 4545 3705 4930 1805 4712 4404 247 4754 4427 1845 536 5795 5978 533 3984 6056 \r\n",
            "5983 1165 3836 4361 1282 716 4289 4646 6300 5084 2397 4454 1913 5861 5485 \r\n",
            "5980 2731 3712 1587 6084 2472 2546 6313 875 859 323 2664 1469 522 2506 2919 2423 3624 5736 5046 1787 5776 3245 3840 2399 \r\n"
          ]
        }
      ]
    },
    {
      "cell_type": "code",
      "source": [
        "!ls -tl"
      ],
      "metadata": {
        "colab": {
          "base_uri": "https://localhost:8080/"
        },
        "id": "P1DXZVMABFa3",
        "outputId": "f95a875a-06f7-4ab7-b720-63ee75919551"
      },
      "execution_count": 6,
      "outputs": [
        {
          "output_type": "stream",
          "name": "stdout",
          "text": [
            "total 1984\n",
            "drwxr-xr-x 1 root root    4096 Feb 18 14:20 sample_data\n",
            "-rw-r--r-- 1 root root 1673543 Feb  8  2023 Marvel_graph.txt\n",
            "-rw-r--r-- 1 root root  351848 Feb  8  2023 Marvel_names.txt\n"
          ]
        }
      ]
    },
    {
      "cell_type": "code",
      "source": [
        "from pyspark.sql import SparkSession\n",
        "\n",
        "spark = SparkSession.builder\\\n",
        "        .master(\"local[*]\")\\\n",
        "        .appName('PySpark Finding Super-hero')\\\n",
        "        .getOrCreate()"
      ],
      "metadata": {
        "id": "UM8Gbd5VBFd3"
      },
      "execution_count": 7,
      "outputs": []
    },
    {
      "cell_type": "code",
      "source": [
        "import pyspark.sql.functions as f\n",
        "from pyspark.sql.types import StringType, IntegerType, StructField, StructType"
      ],
      "metadata": {
        "id": "a1CdLF5uBFg7"
      },
      "execution_count": 8,
      "outputs": []
    },
    {
      "cell_type": "code",
      "source": [
        "marvel_name_schema = StructType([\n",
        "    StructField('id', StringType(), True),\n",
        "    StructField('name', StringType(), True)\n",
        "])"
      ],
      "metadata": {
        "id": "c1Ior-1CBFjt"
      },
      "execution_count": 9,
      "outputs": []
    },
    {
      "cell_type": "code",
      "source": [
        "names = spark.read.schema(marvel_name_schema).option(\"sep\", \" \" ).csv(\"Marvel_names.txt\")"
      ],
      "metadata": {
        "id": "MUP4GNqHBFmq"
      },
      "execution_count": 10,
      "outputs": []
    },
    {
      "cell_type": "code",
      "source": [
        "names.show(5)"
      ],
      "metadata": {
        "colab": {
          "base_uri": "https://localhost:8080/"
        },
        "id": "uuQyb3fDBFpb",
        "outputId": "b0e60d49-6bbc-45a0-a881-f332e502a6e9"
      },
      "execution_count": 11,
      "outputs": [
        {
          "output_type": "stream",
          "name": "stdout",
          "text": [
            "+---+--------------------+\n",
            "| id|                name|\n",
            "+---+--------------------+\n",
            "|  1|24-HOUR MAN/EMMANUEL|\n",
            "|  2|3-D MAN/CHARLES CHAN|\n",
            "|  3|    4-D MAN/MERCURIO|\n",
            "|  4|             8-BALL/|\n",
            "|  5|                   A|\n",
            "+---+--------------------+\n",
            "only showing top 5 rows\n",
            "\n"
          ]
        }
      ]
    },
    {
      "cell_type": "code",
      "source": [
        "lines = spark.read.text(\"Marvel_graph.txt\")"
      ],
      "metadata": {
        "id": "FdbvYVv5BFsR"
      },
      "execution_count": 12,
      "outputs": []
    },
    {
      "cell_type": "code",
      "source": [
        "lines.show(5)"
      ],
      "metadata": {
        "colab": {
          "base_uri": "https://localhost:8080/"
        },
        "id": "holLKKpCBFvL",
        "outputId": "c719b98d-cc72-42aa-eb86-a3977251d782"
      },
      "execution_count": 13,
      "outputs": [
        {
          "output_type": "stream",
          "name": "stdout",
          "text": [
            "+--------------------+\n",
            "|               value|\n",
            "+--------------------+\n",
            "|5988 748 1722 375...|\n",
            "|5989 4080 4264 44...|\n",
            "|5982 217 595 1194...|\n",
            "|5983 1165 3836 43...|\n",
            "|5980 2731 3712 15...|\n",
            "+--------------------+\n",
            "only showing top 5 rows\n",
            "\n"
          ]
        }
      ]
    },
    {
      "cell_type": "code",
      "source": [
        "id_connections = lines.withColumn(\"id\", f.split(f.trim(f.col(\"value\")), \" \")[0]) \\\n",
        "    .withColumn(\"connections\", f.size(f.split(f.trim(f.col(\"value\")), \" \")) - 1)"
      ],
      "metadata": {
        "id": "-iEKh4k6BFx7"
      },
      "execution_count": 14,
      "outputs": []
    },
    {
      "cell_type": "code",
      "source": [
        "id_connections.select(\"id\", \"connections\").show(5)"
      ],
      "metadata": {
        "colab": {
          "base_uri": "https://localhost:8080/"
        },
        "id": "_qgHrL72BF0s",
        "outputId": "37aefa96-d1a1-4230-8a64-45416927d0aa"
      },
      "execution_count": 15,
      "outputs": [
        {
          "output_type": "stream",
          "name": "stdout",
          "text": [
            "+----+-----------+\n",
            "|  id|connections|\n",
            "+----+-----------+\n",
            "|5988|         48|\n",
            "|5989|         40|\n",
            "|5982|         42|\n",
            "|5983|         14|\n",
            "|5980|         24|\n",
            "+----+-----------+\n",
            "only showing top 5 rows\n",
            "\n"
          ]
        }
      ]
    },
    {
      "cell_type": "code",
      "source": [
        "connections = id_connections.groupBy(\"id\").agg(f.sum(\"connections\").alias(\"connections\"))"
      ],
      "metadata": {
        "id": "Jx9_koveBF3X"
      },
      "execution_count": 16,
      "outputs": []
    },
    {
      "cell_type": "code",
      "source": [
        "connections.show()"
      ],
      "metadata": {
        "colab": {
          "base_uri": "https://localhost:8080/"
        },
        "id": "_JRBI53tBF6L",
        "outputId": "342d5da1-fc17-49c5-e57e-111398e33b03"
      },
      "execution_count": 17,
      "outputs": [
        {
          "output_type": "stream",
          "name": "stdout",
          "text": [
            "+----+-----------+\n",
            "|  id|connections|\n",
            "+----+-----------+\n",
            "| 691|          6|\n",
            "|1159|         11|\n",
            "|3959|        142|\n",
            "|1572|         35|\n",
            "|2294|         14|\n",
            "|1090|          4|\n",
            "|3606|        171|\n",
            "|3414|          7|\n",
            "| 296|         17|\n",
            "|4821|         16|\n",
            "|2162|         41|\n",
            "|1436|          9|\n",
            "|1512|         11|\n",
            "|6194|         14|\n",
            "|6240|         11|\n",
            "| 829|         37|\n",
            "|2136|          6|\n",
            "|5645|         20|\n",
            "|2069|        263|\n",
            "| 467|          0|\n",
            "+----+-----------+\n",
            "only showing top 20 rows\n",
            "\n"
          ]
        }
      ]
    },
    {
      "cell_type": "code",
      "source": [
        "mostPopular = connections.sort(f.col(\"connections\").desc()).first()"
      ],
      "metadata": {
        "id": "zGgudxYRDJoV"
      },
      "execution_count": 18,
      "outputs": []
    },
    {
      "cell_type": "code",
      "source": [
        "mostPopular"
      ],
      "metadata": {
        "colab": {
          "base_uri": "https://localhost:8080/"
        },
        "id": "30kwKb2kDJr9",
        "outputId": "4e79ff1b-92e4-406a-f68f-a09b814dc612"
      },
      "execution_count": 19,
      "outputs": [
        {
          "output_type": "execute_result",
          "data": {
            "text/plain": [
              "Row(id='859', connections=1933)"
            ]
          },
          "metadata": {},
          "execution_count": 19
        }
      ]
    },
    {
      "cell_type": "code",
      "source": [
        "mostPopularName = names.filter(f.col(\"id\") == mostPopular[0]).select(\"name\").first()"
      ],
      "metadata": {
        "id": "7IB7YVVeDJu9"
      },
      "execution_count": 20,
      "outputs": []
    },
    {
      "cell_type": "code",
      "source": [
        "print(mostPopularName[0] + \"가 가장 인기있는 수퍼히로 총 \" + str(mostPopular[1]) + \"번 다른 히로들과 출연\")"
      ],
      "metadata": {
        "colab": {
          "base_uri": "https://localhost:8080/"
        },
        "id": "b7QwYdxXDJx-",
        "outputId": "0b2d965b-3aa1-4019-cd1e-4f6ad61c7a23"
      },
      "execution_count": 21,
      "outputs": [
        {
          "output_type": "stream",
          "name": "stdout",
          "text": [
            "CAPTAIN AMERICA가 가장 인기있는 수퍼히로 총 1933번 다른 히로들과 출연\n"
          ]
        }
      ]
    },
    {
      "cell_type": "code",
      "source": [
        "id_connections.createOrReplaceTempView(\"id_connections\")\n",
        "names.createOrReplaceTempView(\"names\")"
      ],
      "metadata": {
        "id": "2c4rNorNDJ0z"
      },
      "execution_count": 22,
      "outputs": []
    },
    {
      "cell_type": "code",
      "source": [
        "spark.sql(\"\"\"\n",
        "Select c.id, n.name, SUM(c.connections)\n",
        "FROM id_connections c\n",
        "JOIN names n ON c.id = n.id\n",
        "GROUP BY 1, 2\n",
        "ORDER BY 3 DESC\"\"\").show()"
      ],
      "metadata": {
        "colab": {
          "base_uri": "https://localhost:8080/"
        },
        "id": "TdR31_CnDJ3r",
        "outputId": "280692a4-91d6-474f-a67f-8a8446950d71"
      },
      "execution_count": 23,
      "outputs": [
        {
          "output_type": "stream",
          "name": "stdout",
          "text": [
            "+----+--------------------+----------------+\n",
            "|  id|                name|sum(connections)|\n",
            "+----+--------------------+----------------+\n",
            "| 859|     CAPTAIN AMERICA|            1933|\n",
            "|5306|SPIDER-MAN/PETER PAR|            1741|\n",
            "|2664|IRON MAN/TONY STARK |            1528|\n",
            "|5716|THING/BENJAMIN J. GR|            1426|\n",
            "|6306|    WOLVERINE/LOGAN |            1394|\n",
            "|3805|MR. FANTASTIC/REED R|            1386|\n",
            "|2557|HUMAN TORCH/JOHNNY S|            1371|\n",
            "|4898|SCARLET WITCH/WANDA |            1345|\n",
            "|5736|THOR/DR. DONALD BLAK|            1289|\n",
            "| 403|BEAST/HENRY &HANK& P|            1280|\n",
            "|6066|             VISION |            1263|\n",
            "|2650|INVISIBLE WOMAN/SUE |            1244|\n",
            "|2399|                HAWK|            1176|\n",
            "|1289|CYCLOPS/SCOTT SUMMER|            1104|\n",
            "|5467|STORM/ORORO MUNROE S|            1095|\n",
            "| 133|ANGEL/WARREN KENNETH|            1094|\n",
            "|6148|WASP/JANET VAN DYNE |            1093|\n",
            "| 154|ANT-MAN/DR. HENRY J.|            1092|\n",
            "|5046|SHE-HULK/JENNIFER WA|            1080|\n",
            "|1602|DR. STRANGE/STEPHEN |            1079|\n",
            "+----+--------------------+----------------+\n",
            "only showing top 20 rows\n",
            "\n"
          ]
        }
      ]
    },
    {
      "cell_type": "code",
      "source": [
        "def returnName(id: str) -> str:\n",
        "    return broadcast_id2Names.value.get(id)"
      ],
      "metadata": {
        "id": "-WX5KKrEDJ6b"
      },
      "execution_count": 24,
      "outputs": []
    },
    {
      "cell_type": "code",
      "source": [
        "id2Names = names.rdd.collectAsMap()"
      ],
      "metadata": {
        "id": "6vmPfSFGDJ9O"
      },
      "execution_count": 25,
      "outputs": []
    },
    {
      "cell_type": "code",
      "source": [
        "len(id2Names)"
      ],
      "metadata": {
        "colab": {
          "base_uri": "https://localhost:8080/"
        },
        "id": "MvH58XKTEqsQ",
        "outputId": "2ae44077-3edd-4c39-a9c9-fe6502af3bda"
      },
      "execution_count": 26,
      "outputs": [
        {
          "output_type": "execute_result",
          "data": {
            "text/plain": [
              "19428"
            ]
          },
          "metadata": {},
          "execution_count": 26
        }
      ]
    },
    {
      "cell_type": "code",
      "source": [
        "for idx, id in enumerate(id2Names):\n",
        "    if idx >= 10:\n",
        "        break\n",
        "    print(id, id2Names[id])"
      ],
      "metadata": {
        "colab": {
          "base_uri": "https://localhost:8080/"
        },
        "id": "w6kPeS9UEq7N",
        "outputId": "a4b6fd54-4abd-41d7-dcda-94e6d3675a3c"
      },
      "execution_count": 27,
      "outputs": [
        {
          "output_type": "stream",
          "name": "stdout",
          "text": [
            "1 24-HOUR MAN/EMMANUEL\n",
            "2 3-D MAN/CHARLES CHAN\n",
            "3 4-D MAN/MERCURIO\n",
            "4 8-BALL/\n",
            "5 A\n",
            "6 A'YIN\n",
            "7 ABBOTT, JACK\n",
            "8 ABCISSA\n",
            "9 ABEL\n",
            "10 ABOMINATION/EMIL BLO\n"
          ]
        }
      ]
    },
    {
      "cell_type": "code",
      "source": [
        "broadcast_id2Names = spark.sparkContext.broadcast(id2Names)"
      ],
      "metadata": {
        "id": "_OBR14xwEq9_"
      },
      "execution_count": 28,
      "outputs": []
    },
    {
      "cell_type": "code",
      "source": [
        "broadcast_id2Names.value.get(\"859\")"
      ],
      "metadata": {
        "colab": {
          "base_uri": "https://localhost:8080/",
          "height": 35
        },
        "id": "w8AWtFP4ErA1",
        "outputId": "e58eb02b-880a-4a30-eb2e-30a614da0e29"
      },
      "execution_count": 29,
      "outputs": [
        {
          "output_type": "execute_result",
          "data": {
            "text/plain": [
              "'CAPTAIN AMERICA'"
            ],
            "application/vnd.google.colaboratory.intrinsic+json": {
              "type": "string"
            }
          },
          "metadata": {},
          "execution_count": 29
        }
      ]
    },
    {
      "cell_type": "code",
      "source": [
        "spark.udf.register(\"returnName\", returnName, StringType())"
      ],
      "metadata": {
        "colab": {
          "base_uri": "https://localhost:8080/",
          "height": 104
        },
        "id": "iJCMWJkAErDk",
        "outputId": "86d2d792-1350-4194-df4a-7ea7d7dedb31"
      },
      "execution_count": 30,
      "outputs": [
        {
          "output_type": "execute_result",
          "data": {
            "text/plain": [
              "<function __main__.returnName(id: str) -> str>"
            ],
            "text/html": [
              "<div style=\"max-width:800px; border: 1px solid var(--colab-border-color);\"><style>\n",
              "      pre.function-repr-contents {\n",
              "        overflow-x: auto;\n",
              "        padding: 8px 12px;\n",
              "        max-height: 500px;\n",
              "      }\n",
              "\n",
              "      pre.function-repr-contents.function-repr-contents-collapsed {\n",
              "        cursor: pointer;\n",
              "        max-height: 100px;\n",
              "      }\n",
              "    </style>\n",
              "    <pre style=\"white-space: initial; background:\n",
              "         var(--colab-secondary-surface-color); padding: 8px 12px;\n",
              "         border-bottom: 1px solid var(--colab-border-color);\"><b>returnName</b><br/>def returnName(id: str) -&gt; str</pre><pre class=\"function-repr-contents function-repr-contents-collapsed\" style=\"\"><a class=\"filepath\" style=\"display:none\" href=\"#\">/content/&lt;ipython-input-24-ac9f9c7b1c58&gt;</a>&lt;no docstring&gt;</pre></div>"
            ]
          },
          "metadata": {},
          "execution_count": 30
        }
      ]
    },
    {
      "cell_type": "code",
      "source": [
        "id_connections.withColumn(\"name\", f.expr(\"returnName(id)\")).show()"
      ],
      "metadata": {
        "colab": {
          "base_uri": "https://localhost:8080/"
        },
        "id": "5jf5OPL5ErGN",
        "outputId": "95caf201-c156-4920-dd7a-066a63560154"
      },
      "execution_count": 31,
      "outputs": [
        {
          "output_type": "stream",
          "name": "stdout",
          "text": [
            "+--------------------+----+-----------+--------------------+\n",
            "|               value|  id|connections|                name|\n",
            "+--------------------+----+-----------+--------------------+\n",
            "|5988 748 1722 375...|5988|         48|VALKYRIE II | MUTANT|\n",
            "|5989 4080 4264 44...|5989|         40|         VALKYRIE IV|\n",
            "|5982 217 595 1194...|5982|         42|VAGABOND/PRISCILLA L|\n",
            "|5983 1165 3836 43...|5983|         14|              VAGUE/|\n",
            "|5980 2731 3712 15...|5980|         24|         UTGARD-LOKI|\n",
            "|5981 3569 5353 40...|5981|         17|              VACUUM|\n",
            "|5986 2658 3712 26...|5986|        142|             VALINOR|\n",
            "|5987 2614 5716 17...|5987|         81|              VALKIN|\n",
            "|5984 590 4898 745...|5984|         41|              VAKUME|\n",
            "|5985 3233 2254 21...|5985|         19|             VALERIA|\n",
            "|6294 4898 1127 32...|6294|         13|WOLF SPIRIT/OWAYODAT|\n",
            "|270 2658 3003 380...| 270|         42|AUGUST PERSONAGE IN |\n",
            "|271 4935 5716 430...| 271|          9|      AUNTIE FREEZE/|\n",
            "|272 2717 4363 408...| 272|         45|       AURA/ANN HERD|\n",
            "|273 1165 5013 511...| 273|         58|              AURIC/|\n",
            "|274 3920 5310 402...| 274|        410|AURORA/JEANNE-MARIE |\n",
            "|275 4366 3373 158...| 275|         47| AURORA DOPPELGANGER|\n",
            "|276 2277 5251 480...| 276|         15|AURORA | MUTANT X-VE|\n",
            "|277 1068 3495 619...| 277|         16|        AUSTIN, GEN.|\n",
            "|278 1145 667 2650...| 278|        123|       AUSTIN, SUSAN|\n",
            "+--------------------+----+-----------+--------------------+\n",
            "only showing top 20 rows\n",
            "\n"
          ]
        }
      ]
    },
    {
      "cell_type": "code",
      "source": [],
      "metadata": {
        "id": "s5VUB3MqErI5"
      },
      "execution_count": null,
      "outputs": []
    },
    {
      "cell_type": "code",
      "source": [],
      "metadata": {
        "id": "q6m9eLRGErLs"
      },
      "execution_count": null,
      "outputs": []
    },
    {
      "cell_type": "code",
      "source": [],
      "metadata": {
        "id": "vlNKq68OErOd"
      },
      "execution_count": null,
      "outputs": []
    },
    {
      "cell_type": "code",
      "source": [],
      "metadata": {
        "id": "DOscKWENErRT"
      },
      "execution_count": null,
      "outputs": []
    },
    {
      "cell_type": "code",
      "source": [],
      "metadata": {
        "id": "RlrSQ7xSErT3"
      },
      "execution_count": null,
      "outputs": []
    },
    {
      "cell_type": "code",
      "source": [],
      "metadata": {
        "id": "_LtSqyrNErWf"
      },
      "execution_count": null,
      "outputs": []
    }
  ]
}