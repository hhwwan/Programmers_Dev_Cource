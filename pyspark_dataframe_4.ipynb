{
  "nbformat": 4,
  "nbformat_minor": 0,
  "metadata": {
    "colab": {
      "provenance": []
    },
    "kernelspec": {
      "name": "python3",
      "display_name": "Python 3"
    },
    "language_info": {
      "name": "python"
    }
  },
  "cells": [
    {
      "cell_type": "code",
      "source": [
        "!pip install pyspark==3.5.3"
      ],
      "metadata": {
        "colab": {
          "base_uri": "https://localhost:8080/"
        },
        "id": "Q_Wyv6ahKs8R",
        "outputId": "d5d31f35-b45d-4db0-a47c-054807f7e1b9"
      },
      "execution_count": null,
      "outputs": [
        {
          "output_type": "stream",
          "name": "stdout",
          "text": [
            "Collecting pyspark==3.5.3\n",
            "  Downloading pyspark-3.5.3.tar.gz (317.3 MB)\n",
            "\u001b[2K     \u001b[90m━━━━━━━━━━━━━━━━━━━━━━━━━━━━━━━━━━━━━━━━\u001b[0m \u001b[32m317.3/317.3 MB\u001b[0m \u001b[31m4.0 MB/s\u001b[0m eta \u001b[36m0:00:00\u001b[0m\n",
            "\u001b[?25h  Preparing metadata (setup.py) ... \u001b[?25l\u001b[?25hdone\n",
            "Requirement already satisfied: py4j==0.10.9.7 in /usr/local/lib/python3.11/dist-packages (from pyspark==3.5.3) (0.10.9.7)\n",
            "Building wheels for collected packages: pyspark\n",
            "  Building wheel for pyspark (setup.py) ... \u001b[?25l\u001b[?25hdone\n",
            "  Created wheel for pyspark: filename=pyspark-3.5.3-py2.py3-none-any.whl size=317840625 sha256=3f244329d75e150d062bb0a34178c79b5eb3b6d05051a81860b83ed716675363\n",
            "  Stored in directory: /root/.cache/pip/wheels/97/f5/c0/947e2c0942b361ffe58651f36bd7f13772675b3863fd63d1b1\n",
            "Successfully built pyspark\n",
            "Installing collected packages: pyspark\n",
            "  Attempting uninstall: pyspark\n",
            "    Found existing installation: pyspark 3.5.4\n",
            "    Uninstalling pyspark-3.5.4:\n",
            "      Successfully uninstalled pyspark-3.5.4\n",
            "Successfully installed pyspark-3.5.3\n"
          ]
        }
      ]
    },
    {
      "cell_type": "code",
      "source": [
        "from pyspark.sql import SparkSession\n",
        "\n",
        "spark = SparkSession \\\n",
        "    .builder \\\n",
        "    .appName(\"Python Spark SQL basic example\") \\\n",
        "    .config(\"spark.jars\", \"/usr/local/lib/python3.7/dist-packages/pyspark/jars/RedshiftJDBC42-no-awssdk-1.2.20.1043.jar\") \\\n",
        "    .getOrCreate()"
      ],
      "metadata": {
        "id": "zS9lNDeRKygm"
      },
      "execution_count": null,
      "outputs": []
    },
    {
      "cell_type": "code",
      "source": [
        "!wget https://s3-geospatial.s3-us-west-2.amazonaws.com/survey_results_public.csv"
      ],
      "metadata": {
        "colab": {
          "base_uri": "https://localhost:8080/"
        },
        "id": "Sg6lKFCVK5uw",
        "outputId": "0f0e15e5-6e87-41bc-f97b-4f1a5b44fced"
      },
      "execution_count": null,
      "outputs": [
        {
          "output_type": "stream",
          "name": "stdout",
          "text": [
            "--2025-02-07 06:40:34--  https://s3-geospatial.s3-us-west-2.amazonaws.com/survey_results_public.csv\n",
            "Resolving s3-geospatial.s3-us-west-2.amazonaws.com (s3-geospatial.s3-us-west-2.amazonaws.com)... 52.92.189.226, 52.92.232.10, 52.218.253.49, ...\n",
            "Connecting to s3-geospatial.s3-us-west-2.amazonaws.com (s3-geospatial.s3-us-west-2.amazonaws.com)|52.92.189.226|:443... connected.\n",
            "HTTP request sent, awaiting response... 200 OK\n",
            "Length: 81101949 (77M) [text/csv]\n",
            "Saving to: ‘survey_results_public.csv’\n",
            "\n",
            "survey_results_publ 100%[===================>]  77.34M  43.6MB/s    in 1.8s    \n",
            "\n",
            "2025-02-07 06:40:36 (43.6 MB/s) - ‘survey_results_public.csv’ saved [81101949/81101949]\n",
            "\n"
          ]
        }
      ]
    },
    {
      "cell_type": "code",
      "source": [
        "!ls -tl"
      ],
      "metadata": {
        "colab": {
          "base_uri": "https://localhost:8080/"
        },
        "id": "bu8GWTxe00mU",
        "outputId": "f1327a00-9273-4816-a338-cde3a653637b"
      },
      "execution_count": null,
      "outputs": [
        {
          "output_type": "stream",
          "name": "stdout",
          "text": [
            "total 79208\n",
            "drwxr-xr-x 1 root root     4096 Feb  5 14:21 sample_data\n",
            "-rw-r--r-- 1 root root 81101949 Jan 15  2023 survey_results_public.csv\n"
          ]
        }
      ]
    },
    {
      "cell_type": "code",
      "source": [
        "!head -5 survey_results_public.csv"
      ],
      "metadata": {
        "colab": {
          "base_uri": "https://localhost:8080/"
        },
        "id": "uVYjxP2yA3D7",
        "outputId": "6101fec1-bdb8-4651-ad61-b518268bc4ef"
      },
      "execution_count": null,
      "outputs": [
        {
          "output_type": "stream",
          "name": "stdout",
          "text": [
            "ResponseId,MainBranch,Employment,Country,US_State,UK_Country,EdLevel,Age1stCode,LearnCode,YearsCode,YearsCodePro,DevType,OrgSize,Currency,CompTotal,CompFreq,LanguageHaveWorkedWith,LanguageWantToWorkWith,DatabaseHaveWorkedWith,DatabaseWantToWorkWith,PlatformHaveWorkedWith,PlatformWantToWorkWith,WebframeHaveWorkedWith,WebframeWantToWorkWith,MiscTechHaveWorkedWith,MiscTechWantToWorkWith,ToolsTechHaveWorkedWith,ToolsTechWantToWorkWith,NEWCollabToolsHaveWorkedWith,NEWCollabToolsWantToWorkWith,OpSys,NEWStuck,NEWSOSites,SOVisitFreq,SOAccount,SOPartFreq,SOComm,NEWOtherComms,Age,Gender,Trans,Sexuality,Ethnicity,Accessibility,MentalHealth,SurveyLength,SurveyEase,ConvertedCompYearly\n",
            "1,I am a developer by profession,\"Independent contractor, freelancer, or self-employed\",Slovakia,NA,NA,\"Secondary school (e.g. American high school, German Realschule or Gymnasium, etc.)\",18 - 24 years,\"Coding Bootcamp;Other online resources (ex: videos, blogs, etc)\",NA,NA,\"Developer, mobile\",20 to 99 employees,EUR European Euro,4800,Monthly,C++;HTML/CSS;JavaScript;Objective-C;PHP;Swift,Swift,PostgreSQL;SQLite,SQLite,NA,NA,Laravel;Symfony,NA,NA,NA,NA,NA,PHPStorm;Xcode,Atom;Xcode,MacOS,Call a coworker or friend;Visit Stack Overflow;Go for a walk or other physical activity;Google it,Stack Overflow,Multiple times per day,Yes,A few times per month or weekly,\"Yes, definitely\",No,25-34 years old,Man,No,Straight / Heterosexual,White or of European descent,None of the above,None of the above,Appropriate in length,Easy,62268\n",
            "2,I am a student who is learning to code,\"Student, full-time\",Netherlands,NA,NA,\"Bachelor’s degree (B.A., B.S., B.Eng., etc.)\",11 - 17 years,\"Other online resources (ex: videos, blogs, etc);School\",7,NA,NA,NA,NA,NA,NA,JavaScript;Python,NA,PostgreSQL,NA,NA,NA,Angular;Flask;Vue.js,NA,Cordova,NA,Docker;Git;Yarn,Git,Android Studio;IntelliJ;Notepad++;PyCharm,NA,Windows,Visit Stack Overflow;Google it,Stack Overflow,Daily or almost daily,Yes,Daily or almost daily,\"Yes, definitely\",No,18-24 years old,Man,No,Straight / Heterosexual,White or of European descent,None of the above,None of the above,Appropriate in length,Easy,NA\n",
            "3,\"I am not primarily a developer, but I write code sometimes as part of my work\",\"Student, full-time\",Russian Federation,NA,NA,\"Bachelor’s degree (B.A., B.S., B.Eng., etc.)\",11 - 17 years,\"Other online resources (ex: videos, blogs, etc);Online Forum\",NA,NA,NA,NA,NA,NA,NA,Assembly;C;Python;R;Rust,Julia;Python;Rust,SQLite,SQLite,Heroku,NA,Flask,Flask,NumPy;Pandas;TensorFlow;Torch/PyTorch,Keras;NumPy;Pandas;TensorFlow;Torch/PyTorch,NA,NA,IPython/Jupyter;PyCharm;RStudio;Sublime Text;Visual Studio Code,IPython/Jupyter;RStudio;Sublime Text;Visual Studio Code,MacOS,Visit Stack Overflow;Google it;Watch help / tutorial videos;Do other work and come back later,Stack Overflow;Stack Exchange,Multiple times per day,Yes,Multiple times per day,\"Yes, definitely\",Yes,18-24 years old,Man,No,Prefer not to say,Prefer not to say,None of the above,None of the above,Appropriate in length,Easy,NA\n",
            "4,I am a developer by profession,Employed full-time,Austria,NA,NA,\"Master’s degree (M.A., M.S., M.Eng., MBA, etc.)\",11 - 17 years,NA,NA,NA,\"Developer, front-end\",100 to 499 employees,EUR European Euro,NA,Monthly,JavaScript;TypeScript,JavaScript;TypeScript,NA,NA,NA,NA,Angular;jQuery,Angular;jQuery,NA,NA,NA,NA,NA,NA,Windows,Call a coworker or friend;Visit Stack Overflow;Go for a walk or other physical activity;Google it,Stack Overflow,Daily or almost daily,Yes,Daily or almost daily,Neutral,No,35-44 years old,Man,No,Straight / Heterosexual,White or of European descent,I am deaf / hard of hearing,NA,Appropriate in length,Neither easy nor difficult,NA\n"
          ]
        }
      ]
    },
    {
      "cell_type": "code",
      "source": [
        "df = spark.read.csv(\"survey_results_public.csv\", header=True).select('ResponseId', 'LanguageHaveWorkedWith', 'LanguageWantToWorkWith')"
      ],
      "metadata": {
        "id": "uUE5_pgHMBZi"
      },
      "execution_count": null,
      "outputs": []
    },
    {
      "cell_type": "code",
      "source": [
        "df.printSchema()"
      ],
      "metadata": {
        "colab": {
          "base_uri": "https://localhost:8080/"
        },
        "id": "AjRdJ_JZMTx7",
        "outputId": "34117291-9ea5-4041-e5eb-7066cd510ae0"
      },
      "execution_count": null,
      "outputs": [
        {
          "output_type": "stream",
          "name": "stdout",
          "text": [
            "root\n",
            " |-- ResponseId: string (nullable = true)\n",
            " |-- LanguageHaveWorkedWith: string (nullable = true)\n",
            " |-- LanguageWantToWorkWith: string (nullable = true)\n",
            "\n"
          ]
        }
      ]
    },
    {
      "cell_type": "code",
      "source": [
        "import pyspark.sql.functions as F\n",
        "\n",
        "# LanguageHaveWorkedWith 값을 트림하고 ;를 가지고 나눠서 리스트의 형태로 language_have 필드로 설정\n",
        "df2 = df.withColumn(\n",
        "    \"language_have\",\n",
        "    F.split(F.trim(F.col(\"LanguageHaveWorkedWith\")), \";\")\n",
        ")"
      ],
      "metadata": {
        "id": "izFlYOHIMcTX"
      },
      "execution_count": null,
      "outputs": []
    },
    {
      "cell_type": "code",
      "source": [
        "df2.show(5)"
      ],
      "metadata": {
        "colab": {
          "base_uri": "https://localhost:8080/"
        },
        "id": "PFMq54O2MjJp",
        "outputId": "e772f3f5-35ca-4585-8f3d-9f18cd26fc3f"
      },
      "execution_count": null,
      "outputs": [
        {
          "output_type": "stream",
          "name": "stdout",
          "text": [
            "+----------+----------------------+----------------------+--------------------+\n",
            "|ResponseId|LanguageHaveWorkedWith|LanguageWantToWorkWith|       language_have|\n",
            "+----------+----------------------+----------------------+--------------------+\n",
            "|         1|  C++;HTML/CSS;Java...|                 Swift|[C++, HTML/CSS, J...|\n",
            "|         2|     JavaScript;Python|                    NA|[JavaScript, Python]|\n",
            "|         3|  Assembly;C;Python...|     Julia;Python;Rust|[Assembly, C, Pyt...|\n",
            "|         4|  JavaScript;TypeSc...|  JavaScript;TypeSc...|[JavaScript, Type...|\n",
            "|         5|  Bash/Shell;HTML/C...|  Bash/Shell;HTML/C...|[Bash/Shell, HTML...|\n",
            "+----------+----------------------+----------------------+--------------------+\n",
            "only showing top 5 rows\n",
            "\n"
          ]
        }
      ]
    },
    {
      "cell_type": "code",
      "source": [
        "# LanguageWantToWorkWith 값을 트림하고 ;를 가지고 나눠서 리스트의 형태로 language_want 필드로 설정\n",
        "df3 = df2.withColumn(\n",
        "    \"language_want\",\n",
        "    F.split(F.trim(F.col(\"LanguageWantToWorkWith\")), \";\")\n",
        ")"
      ],
      "metadata": {
        "id": "o59dGRGfmwFi"
      },
      "execution_count": null,
      "outputs": []
    },
    {
      "cell_type": "code",
      "source": [
        "df3.printSchema()"
      ],
      "metadata": {
        "colab": {
          "base_uri": "https://localhost:8080/"
        },
        "id": "UiTdTSk6ncjL",
        "outputId": "8c3cff32-8314-4999-955a-0800b404ad40"
      },
      "execution_count": null,
      "outputs": [
        {
          "output_type": "stream",
          "name": "stdout",
          "text": [
            "root\n",
            " |-- ResponseId: string (nullable = true)\n",
            " |-- LanguageHaveWorkedWith: string (nullable = true)\n",
            " |-- LanguageWantToWorkWith: string (nullable = true)\n",
            " |-- language_have: array (nullable = true)\n",
            " |    |-- element: string (containsNull = false)\n",
            " |-- language_want: array (nullable = true)\n",
            " |    |-- element: string (containsNull = false)\n",
            "\n"
          ]
        }
      ]
    },
    {
      "cell_type": "code",
      "source": [
        "df3.show(5)"
      ],
      "metadata": {
        "colab": {
          "base_uri": "https://localhost:8080/"
        },
        "id": "0oH_9cEWm7ki",
        "outputId": "d18f43f6-cf91-420e-ed9d-de973ff1a9fb"
      },
      "execution_count": null,
      "outputs": [
        {
          "output_type": "stream",
          "name": "stdout",
          "text": [
            "+----------+----------------------+----------------------+--------------------+--------------------+\n",
            "|ResponseId|LanguageHaveWorkedWith|LanguageWantToWorkWith|       language_have|       language_want|\n",
            "+----------+----------------------+----------------------+--------------------+--------------------+\n",
            "|         1|  C++;HTML/CSS;Java...|                 Swift|[C++, HTML/CSS, J...|             [Swift]|\n",
            "|         2|     JavaScript;Python|                    NA|[JavaScript, Python]|                [NA]|\n",
            "|         3|  Assembly;C;Python...|     Julia;Python;Rust|[Assembly, C, Pyt...|[Julia, Python, R...|\n",
            "|         4|  JavaScript;TypeSc...|  JavaScript;TypeSc...|[JavaScript, Type...|[JavaScript, Type...|\n",
            "|         5|  Bash/Shell;HTML/C...|  Bash/Shell;HTML/C...|[Bash/Shell, HTML...|[Bash/Shell, HTML...|\n",
            "+----------+----------------------+----------------------+--------------------+--------------------+\n",
            "only showing top 5 rows\n",
            "\n"
          ]
        }
      ]
    },
    {
      "cell_type": "markdown",
      "source": [
        "## 현재 많이 사용되는 언어들 찾기"
      ],
      "metadata": {
        "id": "2cCpSJeT6JX_"
      }
    },
    {
      "cell_type": "code",
      "source": [
        "df_language_have = df3.select(\n",
        "    df3.ResponseId,\n",
        "    F.explode(df3.language_have).alias(\"language_have\")\n",
        ")"
      ],
      "metadata": {
        "id": "_WLgCRnim9KP"
      },
      "execution_count": null,
      "outputs": []
    },
    {
      "cell_type": "code",
      "source": [
        "df_language_have.show(10)"
      ],
      "metadata": {
        "colab": {
          "base_uri": "https://localhost:8080/"
        },
        "id": "zShzpF1JnYM5",
        "outputId": "ef2799bc-8e0b-4bec-e8d4-f46567aef30e"
      },
      "execution_count": null,
      "outputs": [
        {
          "output_type": "stream",
          "name": "stdout",
          "text": [
            "+----------+-------------+\n",
            "|ResponseId|language_have|\n",
            "+----------+-------------+\n",
            "|         1|          C++|\n",
            "|         1|     HTML/CSS|\n",
            "|         1|   JavaScript|\n",
            "|         1|  Objective-C|\n",
            "|         1|          PHP|\n",
            "|         1|        Swift|\n",
            "|         2|   JavaScript|\n",
            "|         2|       Python|\n",
            "|         3|     Assembly|\n",
            "|         3|            C|\n",
            "+----------+-------------+\n",
            "only showing top 10 rows\n",
            "\n"
          ]
        }
      ]
    },
    {
      "cell_type": "code",
      "source": [
        "df_language_have.groupby(\"language_have\").count().show(10)"
      ],
      "metadata": {
        "colab": {
          "base_uri": "https://localhost:8080/"
        },
        "id": "W0VqRNLLnonY",
        "outputId": "37ffef50-c8e0-4d3d-8f65-bb872597e7ad"
      },
      "execution_count": null,
      "outputs": [
        {
          "output_type": "stream",
          "name": "stdout",
          "text": [
            "+-------------+-----+\n",
            "|language_have|count|\n",
            "+-------------+-----+\n",
            "|           C#|22984|\n",
            "|          VBA| 3847|\n",
            "|         Rust| 5799|\n",
            "|   Bash/Shell|22385|\n",
            "|   JavaScript|53587|\n",
            "|           NA| 1082|\n",
            "|         Perl| 2028|\n",
            "|       Erlang|  651|\n",
            "|       Matlab| 3846|\n",
            "|      Crystal|  466|\n",
            "+-------------+-----+\n",
            "only showing top 10 rows\n",
            "\n"
          ]
        }
      ]
    },
    {
      "cell_type": "markdown",
      "source": [
        "Sorting 두 가지 방법:\n",
        "\n",
        "*   sort & orderBy\n",
        "*   ascending & descending"
      ],
      "metadata": {
        "id": "BmrboSUZ5jul"
      }
    },
    {
      "cell_type": "code",
      "source": [
        "df_language_have.groupby(\"language_have\").count().sort(F.desc(\"count\")).collect()"
      ],
      "metadata": {
        "colab": {
          "base_uri": "https://localhost:8080/"
        },
        "id": "CAV1qJp_nuQW",
        "outputId": "493de41e-2950-40b4-f2b3-e8bed4a80bb1"
      },
      "execution_count": null,
      "outputs": [
        {
          "output_type": "execute_result",
          "data": {
            "text/plain": [
              "[Row(language_have='JavaScript', count=53587),\n",
              " Row(language_have='HTML/CSS', count=46259),\n",
              " Row(language_have='Python', count=39792),\n",
              " Row(language_have='SQL', count=38835),\n",
              " Row(language_have='Java', count=29162),\n",
              " Row(language_have='Node.js', count=27975),\n",
              " Row(language_have='TypeScript', count=24909),\n",
              " Row(language_have='C#', count=22984),\n",
              " Row(language_have='Bash/Shell', count=22385),\n",
              " Row(language_have='C++', count=20057),\n",
              " Row(language_have='PHP', count=18130),\n",
              " Row(language_have='C', count=17329),\n",
              " Row(language_have='PowerShell', count=8871),\n",
              " Row(language_have='Go', count=7879),\n",
              " Row(language_have='Kotlin', count=6866),\n",
              " Row(language_have='Rust', count=5799),\n",
              " Row(language_have='Ruby', count=5569),\n",
              " Row(language_have='Dart', count=4965),\n",
              " Row(language_have='Assembly', count=4632),\n",
              " Row(language_have='Swift', count=4204),\n",
              " Row(language_have='R', count=4185),\n",
              " Row(language_have='VBA', count=3847),\n",
              " Row(language_have='Matlab', count=3846),\n",
              " Row(language_have='Groovy', count=2479),\n",
              " Row(language_have='Objective-C', count=2310),\n",
              " Row(language_have='Scala', count=2148),\n",
              " Row(language_have='Perl', count=2028),\n",
              " Row(language_have='Haskell', count=1749),\n",
              " Row(language_have='Delphi', count=1731),\n",
              " Row(language_have='Clojure', count=1552),\n",
              " Row(language_have='Elixir', count=1438),\n",
              " Row(language_have='LISP', count=1096),\n",
              " Row(language_have='NA', count=1082),\n",
              " Row(language_have='Julia', count=1068),\n",
              " Row(language_have='F#', count=804),\n",
              " Row(language_have='Erlang', count=651),\n",
              " Row(language_have='APL', count=536),\n",
              " Row(language_have='Crystal', count=466),\n",
              " Row(language_have='COBOL', count=437)]"
            ]
          },
          "metadata": {},
          "execution_count": 16
        }
      ]
    },
    {
      "cell_type": "code",
      "source": [
        "df_language_have.groupby(\"language_have\").count().orderBy('count', ascending=False).collect()"
      ],
      "metadata": {
        "colab": {
          "base_uri": "https://localhost:8080/"
        },
        "id": "W2Lba9ysobK7",
        "outputId": "607d55f9-c691-42a7-aece-805876ac845a"
      },
      "execution_count": null,
      "outputs": [
        {
          "output_type": "execute_result",
          "data": {
            "text/plain": [
              "[Row(language_have='JavaScript', count=53587),\n",
              " Row(language_have='HTML/CSS', count=46259),\n",
              " Row(language_have='Python', count=39792),\n",
              " Row(language_have='SQL', count=38835),\n",
              " Row(language_have='Java', count=29162),\n",
              " Row(language_have='Node.js', count=27975),\n",
              " Row(language_have='TypeScript', count=24909),\n",
              " Row(language_have='C#', count=22984),\n",
              " Row(language_have='Bash/Shell', count=22385),\n",
              " Row(language_have='C++', count=20057),\n",
              " Row(language_have='PHP', count=18130),\n",
              " Row(language_have='C', count=17329),\n",
              " Row(language_have='PowerShell', count=8871),\n",
              " Row(language_have='Go', count=7879),\n",
              " Row(language_have='Kotlin', count=6866),\n",
              " Row(language_have='Rust', count=5799),\n",
              " Row(language_have='Ruby', count=5569),\n",
              " Row(language_have='Dart', count=4965),\n",
              " Row(language_have='Assembly', count=4632),\n",
              " Row(language_have='Swift', count=4204),\n",
              " Row(language_have='R', count=4185),\n",
              " Row(language_have='VBA', count=3847),\n",
              " Row(language_have='Matlab', count=3846),\n",
              " Row(language_have='Groovy', count=2479),\n",
              " Row(language_have='Objective-C', count=2310),\n",
              " Row(language_have='Scala', count=2148),\n",
              " Row(language_have='Perl', count=2028),\n",
              " Row(language_have='Haskell', count=1749),\n",
              " Row(language_have='Delphi', count=1731),\n",
              " Row(language_have='Clojure', count=1552),\n",
              " Row(language_have='Elixir', count=1438),\n",
              " Row(language_have='LISP', count=1096),\n",
              " Row(language_have='NA', count=1082),\n",
              " Row(language_have='Julia', count=1068),\n",
              " Row(language_have='F#', count=804),\n",
              " Row(language_have='Erlang', count=651),\n",
              " Row(language_have='APL', count=536),\n",
              " Row(language_have='Crystal', count=466),\n",
              " Row(language_have='COBOL', count=437)]"
            ]
          },
          "metadata": {},
          "execution_count": 17
        }
      ]
    },
    {
      "cell_type": "code",
      "source": [
        "df_language50_have = df_language_have.groupby(\"language_have\")\\\n",
        "    .count()\\\n",
        "    .orderBy('count', ascending=False)\\\n",
        "    .limit(50)"
      ],
      "metadata": {
        "id": "X693rgwfokcA"
      },
      "execution_count": null,
      "outputs": []
    },
    {
      "cell_type": "code",
      "source": [
        "df_language50_have.write.mode('overwrite').csv(\"language50_have\")"
      ],
      "metadata": {
        "id": "MnxaBVNAk1IJ"
      },
      "execution_count": null,
      "outputs": []
    },
    {
      "cell_type": "code",
      "source": [
        "!ls -tl"
      ],
      "metadata": {
        "colab": {
          "base_uri": "https://localhost:8080/"
        },
        "id": "hPTyDdtN0nGM",
        "outputId": "49881df7-07b2-4b4a-dff6-d80794d7b445"
      },
      "execution_count": null,
      "outputs": [
        {
          "output_type": "stream",
          "name": "stdout",
          "text": [
            "total 79216\n",
            "drwxr-xr-x 2 root root     4096 Feb  7 06:52 language50_have\n",
            "drwxr-xr-x 1 root root     4096 Feb  5 14:21 sample_data\n",
            "-rw-r--r-- 1 root root 81101949 Jan 15  2023 survey_results_public.csv\n"
          ]
        }
      ]
    },
    {
      "cell_type": "code",
      "source": [
        "!ls -tl language50_have/"
      ],
      "metadata": {
        "colab": {
          "base_uri": "https://localhost:8080/"
        },
        "id": "9ZmJ1kfr0p0a",
        "outputId": "2140ee7c-0f6b-4475-dee3-780093bc1de6"
      },
      "execution_count": null,
      "outputs": [
        {
          "output_type": "stream",
          "name": "stdout",
          "text": [
            "total 4\n",
            "-rw-r--r-- 1 root root   0 Feb  7 06:52 _SUCCESS\n",
            "-rw-r--r-- 1 root root 447 Feb  7 06:52 part-00000-ebbd3a62-a37d-4458-8b5e-3efd729a541d-c000.csv\n"
          ]
        }
      ]
    },
    {
      "cell_type": "code",
      "source": [
        "!cat language50_have/part-00000-ebbd3a62-a37d-4458-8b5e-3efd729a541d-c000.csv\n"
      ],
      "metadata": {
        "colab": {
          "base_uri": "https://localhost:8080/"
        },
        "id": "z2ohCb3v0rQK",
        "outputId": "15d07568-bed9-4a5e-8a6a-df9c7216cac2"
      },
      "execution_count": null,
      "outputs": [
        {
          "output_type": "stream",
          "name": "stdout",
          "text": [
            "JavaScript,53587\n",
            "HTML/CSS,46259\n",
            "Python,39792\n",
            "SQL,38835\n",
            "Java,29162\n",
            "Node.js,27975\n",
            "TypeScript,24909\n",
            "C#,22984\n",
            "Bash/Shell,22385\n",
            "C++,20057\n",
            "PHP,18130\n",
            "C,17329\n",
            "PowerShell,8871\n",
            "Go,7879\n",
            "Kotlin,6866\n",
            "Rust,5799\n",
            "Ruby,5569\n",
            "Dart,4965\n",
            "Assembly,4632\n",
            "Swift,4204\n",
            "R,4185\n",
            "VBA,3847\n",
            "Matlab,3846\n",
            "Groovy,2479\n",
            "Objective-C,2310\n",
            "Scala,2148\n",
            "Perl,2028\n",
            "Haskell,1749\n",
            "Delphi,1731\n",
            "Clojure,1552\n",
            "Elixir,1438\n",
            "LISP,1096\n",
            "NA,1082\n",
            "Julia,1068\n",
            "F#,804\n",
            "Erlang,651\n",
            "APL,536\n",
            "Crystal,466\n",
            "COBOL,437\n"
          ]
        }
      ]
    },
    {
      "cell_type": "markdown",
      "source": [
        "## 가장 배우고 싶은 언어들 찾기"
      ],
      "metadata": {
        "id": "8rOXOYnt6aeB"
      }
    },
    {
      "cell_type": "code",
      "source": [
        "df_language_want = df3.select(\n",
        "    df3.ResponseId,\n",
        "    F.explode(df3.language_want).alias(\"language_want\")\n",
        ")"
      ],
      "metadata": {
        "id": "Y5XsmZYy6f-q"
      },
      "execution_count": null,
      "outputs": []
    },
    {
      "cell_type": "code",
      "source": [
        "df_language_want.show(5)"
      ],
      "metadata": {
        "colab": {
          "base_uri": "https://localhost:8080/"
        },
        "id": "yC39jzaJ6ydj",
        "outputId": "e6b5791d-df92-4a87-b726-4fe26c0c9946"
      },
      "execution_count": null,
      "outputs": [
        {
          "output_type": "stream",
          "name": "stdout",
          "text": [
            "+----------+-------------+\n",
            "|ResponseId|language_want|\n",
            "+----------+-------------+\n",
            "|         1|        Swift|\n",
            "|         2|           NA|\n",
            "|         3|        Julia|\n",
            "|         3|       Python|\n",
            "|         3|         Rust|\n",
            "+----------+-------------+\n",
            "only showing top 5 rows\n",
            "\n"
          ]
        }
      ]
    },
    {
      "cell_type": "code",
      "source": [
        "df_language_want.groupby(\"language_want\").count().show(10)"
      ],
      "metadata": {
        "colab": {
          "base_uri": "https://localhost:8080/"
        },
        "id": "VyZnyCoR63w-",
        "outputId": "00cc1d94-9d93-4dbf-d870-ea1aff45b900"
      },
      "execution_count": null,
      "outputs": [
        {
          "output_type": "stream",
          "name": "stdout",
          "text": [
            "+-------------+-----+\n",
            "|language_want|count|\n",
            "+-------------+-----+\n",
            "|           C#|17999|\n",
            "|          VBA| 1069|\n",
            "|         Rust|15865|\n",
            "|   Bash/Shell|14043|\n",
            "|   JavaScript|37008|\n",
            "|           NA| 6618|\n",
            "|         Perl| 1175|\n",
            "|       Erlang| 1379|\n",
            "|       Matlab| 1562|\n",
            "|      Crystal|  790|\n",
            "+-------------+-----+\n",
            "only showing top 10 rows\n",
            "\n"
          ]
        }
      ]
    },
    {
      "cell_type": "code",
      "source": [
        "df_language50_want = df_language_want.groupby(\"language_want\").count().orderBy('count', ascending=False).limit(50)"
      ],
      "metadata": {
        "id": "cdNUI-4v7Cu5"
      },
      "execution_count": null,
      "outputs": []
    },
    {
      "cell_type": "code",
      "source": [
        "df_language50_want.show(10)"
      ],
      "metadata": {
        "colab": {
          "base_uri": "https://localhost:8080/"
        },
        "id": "dEENWbzr71Aw",
        "outputId": "4842e9ed-2943-4197-ef3d-846758589ae2"
      },
      "execution_count": null,
      "outputs": [
        {
          "output_type": "stream",
          "name": "stdout",
          "text": [
            "+-------------+-----+\n",
            "|language_want|count|\n",
            "+-------------+-----+\n",
            "|   JavaScript|37008|\n",
            "|       Python|34929|\n",
            "|     HTML/CSS|29353|\n",
            "|   TypeScript|26905|\n",
            "|          SQL|26631|\n",
            "|      Node.js|24100|\n",
            "|           C#|17999|\n",
            "|         Java|17222|\n",
            "|         Rust|15865|\n",
            "|           Go|15788|\n",
            "+-------------+-----+\n",
            "only showing top 10 rows\n",
            "\n"
          ]
        }
      ]
    },
    {
      "cell_type": "code",
      "source": [
        "df_language50_want.write.mode('overwrite').csv(\"language50_want\")"
      ],
      "metadata": {
        "id": "YH6cRSOW7KNo"
      },
      "execution_count": null,
      "outputs": []
    },
    {
      "cell_type": "code",
      "source": [
        "!ls -tl language50_want/"
      ],
      "metadata": {
        "colab": {
          "base_uri": "https://localhost:8080/"
        },
        "id": "QfVewy4a7Oh7",
        "outputId": "bfd18d32-1046-490a-e287-86326f6abca2"
      },
      "execution_count": null,
      "outputs": [
        {
          "output_type": "stream",
          "name": "stdout",
          "text": [
            "total 4\n",
            "-rw-r--r-- 1 root root   0 Feb  7 06:54 _SUCCESS\n",
            "-rw-r--r-- 1 root root 449 Feb  7 06:54 part-00000-9942d008-4beb-435e-859e-abfad3dd5aa4-c000.csv\n"
          ]
        }
      ]
    }
  ]
}