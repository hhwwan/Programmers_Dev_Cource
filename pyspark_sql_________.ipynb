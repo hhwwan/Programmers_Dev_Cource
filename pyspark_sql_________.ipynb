{
  "nbformat": 4,
  "nbformat_minor": 0,
  "metadata": {
    "colab": {
      "provenance": []
    },
    "kernelspec": {
      "name": "python3",
      "display_name": "Python 3"
    }
  },
  "cells": [
    {
      "cell_type": "markdown",
      "source": [
        "## PySpark 설치"
      ],
      "metadata": {
        "id": "Efh-3P4StVBg"
      }
    },
    {
      "cell_type": "code",
      "metadata": {
        "colab": {
          "base_uri": "https://localhost:8080/"
        },
        "id": "NbT0rpGfVdiq",
        "outputId": "ba4cd32e-8d13-4fae-d1b4-af31189c81e1"
      },
      "source": [
        "!pip install pyspark==3.5.3"
      ],
      "execution_count": null,
      "outputs": [
        {
          "output_type": "stream",
          "name": "stdout",
          "text": [
            "Collecting pyspark==3.5.3\n",
            "  Downloading pyspark-3.5.3.tar.gz (317.3 MB)\n",
            "\u001b[2K     \u001b[90m━━━━━━━━━━━━━━━━━━━━━━━━━━━━━━━━━━━━━━━━\u001b[0m \u001b[32m317.3/317.3 MB\u001b[0m \u001b[31m4.6 MB/s\u001b[0m eta \u001b[36m0:00:00\u001b[0m\n",
            "\u001b[?25h  Preparing metadata (setup.py) ... \u001b[?25l\u001b[?25hdone\n",
            "Requirement already satisfied: py4j==0.10.9.7 in /usr/local/lib/python3.11/dist-packages (from pyspark==3.5.3) (0.10.9.7)\n",
            "Building wheels for collected packages: pyspark\n",
            "  Building wheel for pyspark (setup.py) ... \u001b[?25l\u001b[?25hdone\n",
            "  Created wheel for pyspark: filename=pyspark-3.5.3-py2.py3-none-any.whl size=317840625 sha256=950c3162dcf832bb7cdf2e695b0148a06aae144cb3e648f6b0bc71f2fef46696\n",
            "  Stored in directory: /root/.cache/pip/wheels/97/f5/c0/947e2c0942b361ffe58651f36bd7f13772675b3863fd63d1b1\n",
            "Successfully built pyspark\n",
            "Installing collected packages: pyspark\n",
            "  Attempting uninstall: pyspark\n",
            "    Found existing installation: pyspark 3.5.4\n",
            "    Uninstalling pyspark-3.5.4:\n",
            "      Successfully uninstalled pyspark-3.5.4\n",
            "Successfully installed pyspark-3.5.3\n"
          ]
        }
      ]
    },
    {
      "cell_type": "code",
      "metadata": {
        "colab": {
          "base_uri": "https://localhost:8080/"
        },
        "id": "OdTTZZqVA0Xa",
        "outputId": "0410b2d5-109a-4be9-f3c6-c5e9ea24a4e1"
      },
      "source": [
        "!cd /usr/local/lib/python3.11/dist-packages/pyspark/jars && wget https://s3.amazonaws.com/redshift-downloads/drivers/jdbc/2.1.0.30/redshift-jdbc42-2.1.0.30.jar"
      ],
      "execution_count": null,
      "outputs": [
        {
          "output_type": "stream",
          "name": "stdout",
          "text": [
            "--2025-02-10 07:43:33--  https://s3.amazonaws.com/redshift-downloads/drivers/jdbc/2.1.0.30/redshift-jdbc42-2.1.0.30.jar\n",
            "Resolving s3.amazonaws.com (s3.amazonaws.com)... 16.182.32.24, 52.217.228.200, 52.216.33.24, ...\n",
            "Connecting to s3.amazonaws.com (s3.amazonaws.com)|16.182.32.24|:443... connected.\n",
            "HTTP request sent, awaiting response... 200 OK\n",
            "Length: 1088404 (1.0M) [application/java-archive]\n",
            "Saving to: ‘redshift-jdbc42-2.1.0.30.jar’\n",
            "\n",
            "redshift-jdbc42-2.1 100%[===================>]   1.04M  --.-KB/s    in 0.1s    \n",
            "\n",
            "2025-02-10 07:43:34 (10.6 MB/s) - ‘redshift-jdbc42-2.1.0.30.jar’ saved [1088404/1088404]\n",
            "\n"
          ]
        }
      ]
    },
    {
      "cell_type": "code",
      "metadata": {
        "id": "3vm6tgcPXdnR"
      },
      "source": [
        "from pyspark.sql import SparkSession\n",
        "\n",
        "spark = SparkSession \\\n",
        "    .builder \\\n",
        "    .appName(\"Python Spark SQL #1\") \\\n",
        "    .config(\"spark.jars\", \"/usr/local/lib/python3.10/dist-packages/pyspark/jars/redshift-jdbc42-2.1.0.30.jar\") \\\n",
        "    .getOrCreate()"
      ],
      "execution_count": null,
      "outputs": []
    },
    {
      "cell_type": "markdown",
      "source": [
        "## Redshift 상의 다음 테이블을 이용하여 월별 채널별 매출과 방문자 정보 계산하기\n",
        "user_session_channel, session_timestamp, session_transaction"
      ],
      "metadata": {
        "id": "ElawwmWzcylW"
      }
    },
    {
      "cell_type": "code",
      "metadata": {
        "id": "EEaNuN3xKNXm"
      },
      "source": [
        "# Redshift와 연결해서 DataFrame으로 로딩하기\n",
        "url = \"jdbc:redshift://learnde.cduaw970ssvt.ap-northeast-2.redshift.amazonaws.com:5439/dev?user=guest&password=Guest1234\"\n",
        "\n",
        "df_user_session_channel = spark.read \\\n",
        "    .format(\"jdbc\") \\\n",
        "    .option(\"driver\", \"com.amazon.redshift.Driver\") \\\n",
        "    .option(\"url\", url) \\\n",
        "    .option(\"dbtable\", \"raw_data.user_session_channel\") \\\n",
        "    .load()\n",
        "\n",
        "df_session_timestamp = spark.read \\\n",
        "    .format(\"jdbc\") \\\n",
        "    .option(\"driver\", \"com.amazon.redshift.Driver\") \\\n",
        "    .option(\"url\", url) \\\n",
        "    .option(\"dbtable\", \"raw_data.session_timestamp\") \\\n",
        "    .load()\n",
        "\n",
        "df_session_transaction = spark.read \\\n",
        "    .format(\"jdbc\") \\\n",
        "    .option(\"driver\", \"com.amazon.redshift.Driver\") \\\n",
        "    .option(\"url\", url) \\\n",
        "    .option(\"dbtable\", \"raw_data.session_transaction\") \\\n",
        "    .load()"
      ],
      "execution_count": null,
      "outputs": []
    },
    {
      "cell_type": "code",
      "source": [
        "df_user_session_channel.createOrReplaceTempView(\"user_session_channel\")\n",
        "df_session_timestamp.createOrReplaceTempView(\"session_timestamp\")\n",
        "df_session_transaction.createOrReplaceTempView(\"session_transaction\")"
      ],
      "metadata": {
        "id": "AjcT5LWi7_B5"
      },
      "execution_count": null,
      "outputs": []
    },
    {
      "cell_type": "code",
      "source": [
        "spark.table(\"session_timestamp\").show(5)"
      ],
      "metadata": {
        "colab": {
          "base_uri": "https://localhost:8080/"
        },
        "id": "Umznov_4FZuT",
        "outputId": "89fff82a-4a37-4e00-bbe5-f78863426c03"
      },
      "execution_count": null,
      "outputs": [
        {
          "output_type": "stream",
          "name": "stdout",
          "text": [
            "+--------------------+--------------------+\n",
            "|           sessionid|                  ts|\n",
            "+--------------------+--------------------+\n",
            "|0002ac0d783338cfe...|2019-07-29 12:39:...|\n",
            "|00053f5e11d1fe4e4...|2019-06-24 13:04:...|\n",
            "|00056c20eb5a02958...| 2019-09-26 14:50:17|\n",
            "|00063cb5da1826feb...|2019-10-16 14:04:...|\n",
            "|0007cda84fafdcf42...|2019-05-22 08:02:...|\n",
            "+--------------------+--------------------+\n",
            "only showing top 5 rows\n",
            "\n"
          ]
        }
      ]
    },
    {
      "cell_type": "code",
      "source": [
        "df_user_session_channel.show(5)"
      ],
      "metadata": {
        "colab": {
          "base_uri": "https://localhost:8080/"
        },
        "id": "f3UxHdoLC5Bt",
        "outputId": "d2d5acf3-5304-4bbf-a96d-5594744d93ba"
      },
      "execution_count": null,
      "outputs": [
        {
          "output_type": "stream",
          "name": "stdout",
          "text": [
            "+------+--------------------+---------+\n",
            "|userid|           sessionid|  channel|\n",
            "+------+--------------------+---------+\n",
            "|  1651|0004289ee1c7b8b08...|  Organic|\n",
            "|  1197|00053f5e11d1fe4e4...| Facebook|\n",
            "|  1401|00056c20eb5a02958...| Facebook|\n",
            "|  1399|00063cb5da1826feb...| Facebook|\n",
            "|  1667|000958fdaefe0dd06...|Instagram|\n",
            "+------+--------------------+---------+\n",
            "only showing top 5 rows\n",
            "\n"
          ]
        }
      ]
    },
    {
      "cell_type": "code",
      "source": [
        "df_session_timestamp.show(5)"
      ],
      "metadata": {
        "colab": {
          "base_uri": "https://localhost:8080/"
        },
        "id": "T9lIcukADIgk",
        "outputId": "ec05300b-f00f-4413-ad6b-c969208f179b"
      },
      "execution_count": null,
      "outputs": [
        {
          "output_type": "stream",
          "name": "stdout",
          "text": [
            "+--------------------+--------------------+\n",
            "|           sessionid|                  ts|\n",
            "+--------------------+--------------------+\n",
            "|00029153d12ae1c9a...|2019-10-18 14:14:...|\n",
            "|0004289ee1c7b8b08...|2019-11-16 21:20:...|\n",
            "|0006246bee639c7a7...|2019-08-10 16:33:...|\n",
            "|0006dd05ea1e999dd...|2019-07-06 19:54:...|\n",
            "|000958fdaefe0dd06...|2019-11-02 14:52:...|\n",
            "+--------------------+--------------------+\n",
            "only showing top 5 rows\n",
            "\n"
          ]
        }
      ]
    },
    {
      "cell_type": "code",
      "source": [
        "df_session_transaction.show(5)"
      ],
      "metadata": {
        "colab": {
          "base_uri": "https://localhost:8080/"
        },
        "id": "vwiwGeXRDNk2",
        "outputId": "e89ae962-9087-41c6-d5d1-4af0745fa814"
      },
      "execution_count": null,
      "outputs": [
        {
          "output_type": "stream",
          "name": "stdout",
          "text": [
            "+--------------------+--------+------+\n",
            "|           sessionid|refunded|amount|\n",
            "+--------------------+--------+------+\n",
            "|00029153d12ae1c9a...|   false|    85|\n",
            "|008909bd27b680698...|   false|    13|\n",
            "|0107acb41ef20db22...|   false|    16|\n",
            "|018544a2c48077d2c...|   false|    39|\n",
            "|020c38173caff0203...|   false|    61|\n",
            "+--------------------+--------+------+\n",
            "only showing top 5 rows\n",
            "\n"
          ]
        }
      ]
    },
    {
      "cell_type": "markdown",
      "source": [
        "## 월별 채널별 총 방문자와 매출 발생 방문자 계산"
      ],
      "metadata": {
        "id": "J2tg1Myi8Q5I"
      }
    },
    {
      "cell_type": "code",
      "source": [
        "# JOIN key가 정말 하나씩만 존재하나?\n",
        "spark.sql(\"\"\"SELECT sessionid, COUNT(1) count\n",
        "FROM user_session_channel\n",
        "GROUP BY 1\n",
        "ORDER BY 2 DESC\n",
        "LIMIT 1\"\"\").show()"
      ],
      "metadata": {
        "colab": {
          "base_uri": "https://localhost:8080/"
        },
        "id": "MpbHpUQ1IaVp",
        "outputId": "a77d5a0e-81d2-4f5c-ef52-8da4fa292b55"
      },
      "execution_count": null,
      "outputs": [
        {
          "output_type": "stream",
          "name": "stdout",
          "text": [
            "+--------------------+-----+\n",
            "|           sessionid|count|\n",
            "+--------------------+-----+\n",
            "|0226aa5193c66d990...|    1|\n",
            "+--------------------+-----+\n",
            "\n"
          ]
        }
      ]
    },
    {
      "cell_type": "code",
      "source": [
        "# JOIN key가 정말 하나씩만 존재하나?\n",
        "spark.sql(\"\"\"SELECT sessionid, COUNT(1) count\n",
        "FROM session_transaction\n",
        "GROUP BY 1\n",
        "ORDER BY 2 DESC\n",
        "LIMIT 1\"\"\").show()"
      ],
      "metadata": {
        "colab": {
          "base_uri": "https://localhost:8080/"
        },
        "id": "QvYe1ehfKChR",
        "outputId": "098ce140-f36f-4cad-9d07-10aedecf2ce8"
      },
      "execution_count": null,
      "outputs": [
        {
          "output_type": "stream",
          "name": "stdout",
          "text": [
            "+--------------------+-----+\n",
            "|           sessionid|count|\n",
            "+--------------------+-----+\n",
            "|532ff98823e7d1433...|    1|\n",
            "+--------------------+-----+\n",
            "\n"
          ]
        }
      ]
    },
    {
      "cell_type": "code",
      "source": [
        "# JOIN key가 정말 하나씩만 존재하나?\n",
        "spark.sql(\"\"\"SELECT sessionid, COUNT(1) count\n",
        "FROM session_timestamp\n",
        "GROUP BY 1\n",
        "ORDER BY 2 DESC\n",
        "LIMIT 1\"\"\").show()"
      ],
      "metadata": {
        "colab": {
          "base_uri": "https://localhost:8080/"
        },
        "id": "_g0ZU_f7KIED",
        "outputId": "97b9b194-287f-4171-9123-2ed8b5be2f3b"
      },
      "execution_count": null,
      "outputs": [
        {
          "output_type": "stream",
          "name": "stdout",
          "text": [
            "+--------------------+-----+\n",
            "|           sessionid|count|\n",
            "+--------------------+-----+\n",
            "|0226aa5193c66d990...|    1|\n",
            "+--------------------+-----+\n",
            "\n"
          ]
        }
      ]
    },
    {
      "cell_type": "markdown",
      "source": [
        " ### 월별 채널별 총 방문자 계산"
      ],
      "metadata": {
        "id": "2RvznT3Qf_TV"
      }
    },
    {
      "cell_type": "code",
      "metadata": {
        "id": "GdiSxs1030G0"
      },
      "source": [
        "mon_channel_rev_df = spark.sql(\"\"\"\n",
        "    SELECT LEFT(sti.ts, 7) year_month,\n",
        "      usc.channel channel,\n",
        "      COUNT(DISTINCT userid) total_visitors\n",
        "    FROM user_session_channel usc\n",
        "    LEFT JOIN session_timestamp sti ON usc.sessionid = sti.sessionid\n",
        "    GROUP BY 1 ,2\n",
        "    ORDER BY 1, 2\"\"\")"
      ],
      "execution_count": null,
      "outputs": []
    },
    {
      "cell_type": "code",
      "source": [
        "mon_channel_rev_df.show()"
      ],
      "metadata": {
        "id": "CZXGJow1Igoi",
        "colab": {
          "base_uri": "https://localhost:8080/"
        },
        "outputId": "0f296a95-3d9d-4dab-af30-89a29658997c"
      },
      "execution_count": null,
      "outputs": [
        {
          "output_type": "stream",
          "name": "stdout",
          "text": [
            "+----------+---------+--------------+\n",
            "|year_month|  channel|total_visitors|\n",
            "+----------+---------+--------------+\n",
            "|   2019-05| Facebook|           247|\n",
            "|   2019-05|   Google|           253|\n",
            "|   2019-05|Instagram|           234|\n",
            "|   2019-05|    Naver|           237|\n",
            "|   2019-05|  Organic|           238|\n",
            "|   2019-05|  Youtube|           244|\n",
            "|   2019-06| Facebook|           414|\n",
            "|   2019-06|   Google|           412|\n",
            "|   2019-06|Instagram|           410|\n",
            "|   2019-06|    Naver|           398|\n",
            "|   2019-06|  Organic|           416|\n",
            "|   2019-06|  Youtube|           400|\n",
            "|   2019-07| Facebook|           558|\n",
            "|   2019-07|   Google|           556|\n",
            "|   2019-07|Instagram|           567|\n",
            "|   2019-07|    Naver|           553|\n",
            "|   2019-07|  Organic|           557|\n",
            "|   2019-07|  Youtube|           564|\n",
            "|   2019-08| Facebook|           611|\n",
            "|   2019-08|   Google|           610|\n",
            "+----------+---------+--------------+\n",
            "only showing top 20 rows\n",
            "\n"
          ]
        }
      ]
    },
    {
      "cell_type": "markdown",
      "source": [
        " ### 월별 채널별 총 방문자와 구매 방문자 계산"
      ],
      "metadata": {
        "id": "wC4dO8vWgF97"
      }
    },
    {
      "cell_type": "code",
      "source": [
        "mon_channel_rev_df = spark.sql(\"\"\"\n",
        "    SELECT LEFT(sti.ts, 7) year_month,\n",
        "      usc.channel channel,\n",
        "      COUNT(DISTINCT userid) total_visitors,\n",
        "      COUNT(DISTINCT CASE WHEN amount is not NULL THEN userid END) paid_visitors\n",
        "    FROM user_session_channel usc\n",
        "    LEFT JOIN session_timestamp sti ON usc.sessionid = sti.sessionid\n",
        "    LEFT JOIN session_transaction str ON usc.sessionid = str.sessionid\n",
        "    GROUP BY 1 ,2\n",
        "    ORDER BY 1, 2\"\"\")"
      ],
      "metadata": {
        "id": "y5kpe4n4gGNU"
      },
      "execution_count": null,
      "outputs": []
    },
    {
      "cell_type": "code",
      "metadata": {
        "colab": {
          "base_uri": "https://localhost:8080/"
        },
        "id": "whIte26D63hG",
        "outputId": "711628a8-d619-433c-f0fb-819e342eef64"
      },
      "source": [
        "mon_channel_rev_df.show()"
      ],
      "execution_count": null,
      "outputs": [
        {
          "output_type": "stream",
          "name": "stdout",
          "text": [
            "+----------+---------+--------------+-------------+\n",
            "|year_month|  channel|total_visitors|paid_visitors|\n",
            "+----------+---------+--------------+-------------+\n",
            "|   2019-05| Facebook|           247|           14|\n",
            "|   2019-05|   Google|           253|           10|\n",
            "|   2019-05|Instagram|           234|           11|\n",
            "|   2019-05|    Naver|           237|           11|\n",
            "|   2019-05|  Organic|           238|           17|\n",
            "|   2019-05|  Youtube|           244|           10|\n",
            "|   2019-06| Facebook|           414|           22|\n",
            "|   2019-06|   Google|           412|           13|\n",
            "|   2019-06|Instagram|           410|           21|\n",
            "|   2019-06|    Naver|           398|           15|\n",
            "|   2019-06|  Organic|           416|           14|\n",
            "|   2019-06|  Youtube|           400|           17|\n",
            "|   2019-07| Facebook|           558|           32|\n",
            "|   2019-07|   Google|           556|           21|\n",
            "|   2019-07|Instagram|           567|           25|\n",
            "|   2019-07|    Naver|           553|           19|\n",
            "|   2019-07|  Organic|           557|           24|\n",
            "|   2019-07|  Youtube|           564|           36|\n",
            "|   2019-08| Facebook|           611|           18|\n",
            "|   2019-08|   Google|           610|           28|\n",
            "+----------+---------+--------------+-------------+\n",
            "only showing top 20 rows\n",
            "\n"
          ]
        }
      ]
    },
    {
      "cell_type": "markdown",
      "source": [
        "## 월별 채널별 총 매출액 (리펀드 포함), 총 방문자, 매출 발생 방문자, 전환률 계산"
      ],
      "metadata": {
        "id": "1ZLK7L7yASE2"
      }
    },
    {
      "cell_type": "code",
      "source": [
        " mon_channel_rev_df = spark.sql(\"\"\"\n",
        "  SELECT LEFT(ts, 7) month,\n",
        "       usc.channel,\n",
        "       COUNT(DISTINCT userid) uniqueUsers,\n",
        "       COUNT(DISTINCT (CASE WHEN amount >= 0 THEN userid END)) paidUsers,\n",
        "       SUM(amount) grossRevenue,\n",
        "       SUM(CASE WHEN refunded is not True THEN amount END) netRevenue,\n",
        "       ROUND(COUNT(DISTINCT CASE WHEN amount >= 0 THEN userid END)*100\n",
        "          / COUNT(DISTINCT userid), 2) conversionRate\n",
        "   FROM user_session_channel usc\n",
        "   LEFT JOIN session_timestamp t ON t.sessionid = usc.sessionid\n",
        "   LEFT JOIN session_transaction st ON st.sessionid = usc.sessionid\n",
        "   GROUP BY 1, 2\n",
        "   ORDER BY 1, 2;\n",
        "\"\"\")"
      ],
      "metadata": {
        "id": "-iicBV-0Ac_D"
      },
      "execution_count": null,
      "outputs": []
    },
    {
      "cell_type": "code",
      "source": [
        "mon_channel_rev_df.show()"
      ],
      "metadata": {
        "colab": {
          "base_uri": "https://localhost:8080/"
        },
        "id": "_0sAwtuphJdK",
        "outputId": "9c674ecb-f62b-4cb9-ff2c-29876911a21d"
      },
      "execution_count": null,
      "outputs": [
        {
          "output_type": "stream",
          "name": "stdout",
          "text": [
            "+-------+---------+-----------+---------+------------+----------+--------------+\n",
            "|  month|  channel|uniqueUsers|paidUsers|grossRevenue|netRevenue|conversionRate|\n",
            "+-------+---------+-----------+---------+------------+----------+--------------+\n",
            "|2019-05| Facebook|        247|       14|        1199|       997|          5.67|\n",
            "|2019-05|   Google|        253|       10|         580|       580|          3.95|\n",
            "|2019-05|Instagram|        234|       11|         959|       770|           4.7|\n",
            "|2019-05|    Naver|        237|       11|         867|       844|          4.64|\n",
            "|2019-05|  Organic|        238|       17|        1846|      1571|          7.14|\n",
            "|2019-05|  Youtube|        244|       10|         529|       529|           4.1|\n",
            "|2019-06| Facebook|        414|       22|        1578|      1578|          5.31|\n",
            "|2019-06|   Google|        412|       13|         947|       947|          3.16|\n",
            "|2019-06|Instagram|        410|       21|        1462|      1418|          5.12|\n",
            "|2019-06|    Naver|        398|       15|        1090|      1090|          3.77|\n",
            "|2019-06|  Organic|        416|       14|        1129|       940|          3.37|\n",
            "|2019-06|  Youtube|        400|       17|        1042|      1042|          4.25|\n",
            "|2019-07| Facebook|        558|       32|        2222|      2144|          5.73|\n",
            "|2019-07|   Google|        556|       21|        1558|      1385|          3.78|\n",
            "|2019-07|Instagram|        567|       25|        1896|      1766|          4.41|\n",
            "|2019-07|    Naver|        553|       19|        1547|      1547|          3.44|\n",
            "|2019-07|  Organic|        557|       24|        1600|      1600|          4.31|\n",
            "|2019-07|  Youtube|        564|       36|        2210|      2037|          6.38|\n",
            "|2019-08| Facebook|        611|       18|        1009|      1009|          2.95|\n",
            "|2019-08|   Google|        610|       28|        2210|      1894|          4.59|\n",
            "+-------+---------+-----------+---------+------------+----------+--------------+\n",
            "only showing top 20 rows\n",
            "\n"
          ]
        }
      ]
    },
    {
      "cell_type": "code",
      "source": [],
      "metadata": {
        "id": "FEwk6J3OhMUT"
      },
      "execution_count": null,
      "outputs": []
    }
  ]
}